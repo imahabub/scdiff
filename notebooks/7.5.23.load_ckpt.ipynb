{
 "cells": [
  {
   "cell_type": "code",
   "execution_count": 1,
   "metadata": {},
   "outputs": [
    {
     "name": "stderr",
     "output_type": "stream",
     "text": [
      "Failed to detect the name of this notebook, you can set it manually with the WANDB_NOTEBOOK_NAME environment variable to enable code saving.\n",
      "\u001b[34m\u001b[1mwandb\u001b[0m: Currently logged in as: \u001b[33mjohnyang\u001b[0m (\u001b[33mprotein-optimization\u001b[0m). Use \u001b[1m`wandb login --relogin`\u001b[0m to force relogin\n"
     ]
    },
    {
     "data": {
      "text/html": [
       "wandb version 0.15.5 is available!  To upgrade, please run:\n",
       " $ pip install wandb --upgrade"
      ],
      "text/plain": [
       "<IPython.core.display.HTML object>"
      ]
     },
     "metadata": {},
     "output_type": "display_data"
    },
    {
     "data": {
      "text/html": [
       "Tracking run with wandb version 0.15.4"
      ],
      "text/plain": [
       "<IPython.core.display.HTML object>"
      ]
     },
     "metadata": {},
     "output_type": "display_data"
    },
    {
     "data": {
      "text/html": [
       "Run data is saved locally in <code>/Mounts/rbg-storage1/users/johnyang/cellot/notebooks/wandb/run-20230705_170858-0pco22tt</code>"
      ],
      "text/plain": [
       "<IPython.core.display.HTML object>"
      ]
     },
     "metadata": {},
     "output_type": "display_data"
    },
    {
     "data": {
      "text/html": [
       "Syncing run <strong><a href='https://wandb.ai/protein-optimization/cellot-notebooks/runs/0pco22tt' target=\"_blank\">glowing-haze-6</a></strong> to <a href='https://wandb.ai/protein-optimization/cellot-notebooks' target=\"_blank\">Weights & Biases</a> (<a href='https://wandb.me/run' target=\"_blank\">docs</a>)<br/>"
      ],
      "text/plain": [
       "<IPython.core.display.HTML object>"
      ]
     },
     "metadata": {},
     "output_type": "display_data"
    },
    {
     "data": {
      "text/html": [
       " View project at <a href='https://wandb.ai/protein-optimization/cellot-notebooks' target=\"_blank\">https://wandb.ai/protein-optimization/cellot-notebooks</a>"
      ],
      "text/plain": [
       "<IPython.core.display.HTML object>"
      ]
     },
     "metadata": {},
     "output_type": "display_data"
    },
    {
     "data": {
      "text/html": [
       " View run at <a href='https://wandb.ai/protein-optimization/cellot-notebooks/runs/0pco22tt' target=\"_blank\">https://wandb.ai/protein-optimization/cellot-notebooks/runs/0pco22tt</a>"
      ],
      "text/plain": [
       "<IPython.core.display.HTML object>"
      ]
     },
     "metadata": {},
     "output_type": "display_data"
    },
    {
     "name": "stderr",
     "output_type": "stream",
     "text": [
      "\u001b[34m\u001b[1mwandb\u001b[0m:   1 of 1 files downloaded.  \n"
     ]
    }
   ],
   "source": [
    "import wandb\n",
    "run = wandb.init()\n",
    "artifact = run.use_artifact('protein-optimization/sc_diff/model-ydqtt928:v12', type='model')\n",
    "artifact_dir = artifact.download()"
   ]
  },
  {
   "cell_type": "code",
   "execution_count": 2,
   "metadata": {},
   "outputs": [
    {
     "data": {
      "text/plain": [
       "'./artifacts/model-ydqtt928:v12'"
      ]
     },
     "execution_count": 2,
     "metadata": {},
     "output_type": "execute_result"
    }
   ],
   "source": [
    "artifact_dir"
   ]
  },
  {
   "cell_type": "code",
   "execution_count": 3,
   "metadata": {},
   "outputs": [
    {
     "name": "stderr",
     "output_type": "stream",
     "text": [
      "UsageError: Line magic function `%` not found.\n"
     ]
    }
   ],
   "source": [
    "% cd artifact_dir\n",
    "% ls"
   ]
  },
  {
   "cell_type": "code",
   "execution_count": 4,
   "metadata": {},
   "outputs": [],
   "source": [
    "from cellot.models.cond_score_module import CondScoreModule"
   ]
  },
  {
   "cell_type": "code",
   "execution_count": 5,
   "metadata": {},
   "outputs": [],
   "source": [
    "ckpt_path = f'{artifact_dir}/model.ckpt'"
   ]
  },
  {
   "cell_type": "code",
   "execution_count": 6,
   "metadata": {},
   "outputs": [],
   "source": [
    "YAML_STR = '''\n",
    "DEBUG: False\n",
    "TARGET: all\n",
    "LATENT_DIM: 50\n",
    "COND_CLASSES: 189\n",
    "SEED: 42\n",
    "AE_PATH: /Mounts/rbg-storage1/users/johnyang/cellot/results/sciplex3/full_ae\n",
    "VAL_SIZE: 0.1\n",
    "DEVICES: 1\n",
    "\n",
    "diffuser:\n",
    "  min_b: 0.01\n",
    "  max_b: 1.0\n",
    "  schedule: linear\n",
    "  score_scaling: var\n",
    "  coordinate_scaling: 1.0\n",
    "  latent_dim: ${LATENT_DIM}\n",
    "  dt: 0.01\n",
    "  min_t: 0\n",
    "\n",
    "ae:\n",
    "  name: scgen\n",
    "  beta: 0.0\n",
    "  dropout: 0.0\n",
    "  hidden_units: [512, 512]\n",
    "  latent_dim: 50\n",
    "\n",
    "score_network:\n",
    "  latent_dim: ${LATENT_DIM}\n",
    "  cond_classes: ${COND_CLASSES}\n",
    "  model_dim: 64   # Adjusted to 64\n",
    "  n_layers: 12    # Adjusted to 12\n",
    "  nhead: 8\n",
    "  dim_feedforward: 2048\n",
    "  dropout: 0.1\n",
    "  ffn_hidden_dim: 1024\n",
    "\n",
    "\n",
    "data:\n",
    "  type: cell\n",
    "  source: control\n",
    "  condition: drug\n",
    "  path: /Mounts/rbg-storage1/users/johnyang/cellot/datasets/scrna-sciplex3/hvg.h5ad\n",
    "  target: ${TARGET}\n",
    "\n",
    "datasplit:\n",
    "  groupby: drug   \n",
    "  name: train_test\n",
    "  test_size: 0.2\n",
    "  random_state: 0\n",
    "  \n",
    "dataloader:\n",
    "  batch_size: 256   # Adjusted to 256\n",
    "  shuffle: true\n",
    "  num_workers: 80\n",
    "  \n",
    "experiment:\n",
    "  name: base\n",
    "  mode: train\n",
    "  num_loader_workers: 0\n",
    "  port: 12319\n",
    "  dist_mode: single\n",
    "  use_wandb: True\n",
    "  ckpt_path: null\n",
    "  wandb_logger:\n",
    "    project: sc_diff\n",
    "    name: ${experiment.name}\n",
    "    dir: /Mounts/rbg-storage1/users/johnyang/cellot/\n",
    "    log_model: all\n",
    "    tags: ['experimental']\n",
    "  lr: 0.0001\n",
    "\n",
    "\n",
    "trainer:\n",
    "  accelerator: 'gpu'\n",
    "  check_val_every_n_epoch: 50\n",
    "  log_every_n_steps: 100\n",
    "  num_sanity_val_steps: 1\n",
    "  enable_progress_bar: True\n",
    "  enable_checkpointing: True\n",
    "  fast_dev_run: False\n",
    "  profiler: simple\n",
    "  max_epochs: 10000\n",
    "  strategy: auto\n",
    "  enable_model_summary: True\n",
    "  overfit_batches: 0.0\n",
    "  limit_train_batches: 1.0\n",
    "  limit_val_batches: 1.0\n",
    "  limit_predict_batches: 1.0\n",
    "'''"
   ]
  },
  {
   "cell_type": "code",
   "execution_count": 7,
   "metadata": {},
   "outputs": [],
   "source": [
    "from omegaconf import OmegaConf\n",
    "config = OmegaConf.create(YAML_STR)"
   ]
  },
  {
   "cell_type": "code",
   "execution_count": 8,
   "metadata": {},
   "outputs": [
    {
     "name": "stdout",
     "output_type": "stream",
     "text": [
      "Dropout is 0.1\n"
     ]
    }
   ],
   "source": [
    "lm = CondScoreModule.load_from_checkpoint(hparams=config, checkpoint_path=ckpt_path)"
   ]
  },
  {
   "cell_type": "code",
   "execution_count": 9,
   "metadata": {},
   "outputs": [
    {
     "name": "stdout",
     "output_type": "stream",
     "text": [
      "cuda\n",
      "Using GPUs: 0\n"
     ]
    }
   ],
   "source": [
    "from cellot.train.utils import get_free_gpu\n",
    "replica_id = int(get_free_gpu())"
   ]
  },
  {
   "cell_type": "code",
   "execution_count": 10,
   "metadata": {},
   "outputs": [],
   "source": [
    "from cellot.data.sciplex_ae_dm import CellDataModule\n",
    "dm = CellDataModule(config)"
   ]
  },
  {
   "cell_type": "code",
   "execution_count": 11,
   "metadata": {},
   "outputs": [
    {
     "name": "stdout",
     "output_type": "stream",
     "text": [
      "Loading ae from checkpoint\n"
     ]
    }
   ],
   "source": [
    "dm.setup('fit')"
   ]
  },
  {
   "cell_type": "code",
   "execution_count": 12,
   "metadata": {},
   "outputs": [],
   "source": [
    "device = f'cuda:{replica_id}'"
   ]
  },
  {
   "cell_type": "code",
   "execution_count": 13,
   "metadata": {},
   "outputs": [
    {
     "name": "stdout",
     "output_type": "stream",
     "text": [
      "\n"
     ]
    }
   ],
   "source": [
    "lm.to(device)\n",
    "print('')"
   ]
  },
  {
   "cell_type": "code",
   "execution_count": 14,
   "metadata": {},
   "outputs": [
    {
     "name": "stderr",
     "output_type": "stream",
     "text": [
      "/data/rsg/chemistry/johnyang/miniconda3/envs/cellot/lib/python3.9/site-packages/pytorch_lightning/core/module.py:407: UserWarning: You are trying to `self.log()` but the `self.trainer` reference is not registered on the model yet. This is most likely because the model hasn't been passed to the `Trainer`\n",
      "  rank_zero_warn(\n"
     ]
    }
   ],
   "source": [
    "for batch in dm.val_dataloader():\n",
    "    batch = [b.to(device) for b in batch]\n",
    "    mse = lm.validation_step(batch, None)\n",
    "    break"
   ]
  },
  {
   "cell_type": "code",
   "execution_count": 15,
   "metadata": {},
   "outputs": [
    {
     "data": {
      "text/plain": [
       "tensor(0.8200, device='cuda:0', dtype=torch.float64)"
      ]
     },
     "execution_count": 15,
     "metadata": {},
     "output_type": "execute_result"
    }
   ],
   "source": [
    "mse"
   ]
  },
  {
   "cell_type": "code",
   "execution_count": 16,
   "metadata": {},
   "outputs": [
    {
     "name": "stderr",
     "output_type": "stream",
     "text": [
      "GPU available: True (cuda), used: True\n",
      "TPU available: False, using: 0 TPU cores\n",
      "IPU available: False, using: 0 IPUs\n",
      "HPU available: False, using: 0 HPUs\n",
      "`Trainer(limit_train_batches=1.0)` was configured so 100% of the batches per epoch will be used..\n",
      "`Trainer(limit_val_batches=1.0)` was configured so 100% of the batches will be used..\n",
      "`Trainer(limit_predict_batches=1.0)` was configured so 100% of the batches will be used..\n"
     ]
    }
   ],
   "source": [
    "from pytorch_lightning import Trainer\n",
    "trainer_devices = [replica_id]\n",
    "trainer = Trainer(devices=trainer_devices, **config.trainer)"
   ]
  },
  {
   "cell_type": "code",
   "execution_count": 17,
   "metadata": {},
   "outputs": [],
   "source": [
    "import os"
   ]
  },
  {
   "cell_type": "code",
   "execution_count": 18,
   "metadata": {},
   "outputs": [
    {
     "data": {
      "text/html": [
       "Finishing last run (ID:0pco22tt) before initializing another..."
      ],
      "text/plain": [
       "<IPython.core.display.HTML object>"
      ]
     },
     "metadata": {},
     "output_type": "display_data"
    },
    {
     "data": {
      "text/html": [
       "Waiting for W&B process to finish... <strong style=\"color:green\">(success).</strong>"
      ],
      "text/plain": [
       "<IPython.core.display.HTML object>"
      ]
     },
     "metadata": {},
     "output_type": "display_data"
    },
    {
     "data": {
      "text/html": [
       " View run <strong style=\"color:#cdcd00\">glowing-haze-6</strong> at: <a href='https://wandb.ai/protein-optimization/cellot-notebooks/runs/0pco22tt' target=\"_blank\">https://wandb.ai/protein-optimization/cellot-notebooks/runs/0pco22tt</a><br/>Synced 6 W&B file(s), 0 media file(s), 0 artifact file(s) and 0 other file(s)"
      ],
      "text/plain": [
       "<IPython.core.display.HTML object>"
      ]
     },
     "metadata": {},
     "output_type": "display_data"
    },
    {
     "data": {
      "text/html": [
       "Find logs at: <code>./wandb/run-20230705_170858-0pco22tt/logs</code>"
      ],
      "text/plain": [
       "<IPython.core.display.HTML object>"
      ]
     },
     "metadata": {},
     "output_type": "display_data"
    },
    {
     "data": {
      "text/html": [
       "Successfully finished last run (ID:0pco22tt). Initializing new run:<br/>"
      ],
      "text/plain": [
       "<IPython.core.display.HTML object>"
      ]
     },
     "metadata": {},
     "output_type": "display_data"
    },
    {
     "data": {
      "text/html": [
       "wandb version 0.15.5 is available!  To upgrade, please run:\n",
       " $ pip install wandb --upgrade"
      ],
      "text/plain": [
       "<IPython.core.display.HTML object>"
      ]
     },
     "metadata": {},
     "output_type": "display_data"
    },
    {
     "data": {
      "text/html": [
       "Tracking run with wandb version 0.15.4"
      ],
      "text/plain": [
       "<IPython.core.display.HTML object>"
      ]
     },
     "metadata": {},
     "output_type": "display_data"
    },
    {
     "data": {
      "text/html": [
       "Run data is saved locally in <code>/Mounts/rbg-storage1/users/johnyang/cellot/notebooks/wandb/run-20230705_171012-5fi6fkfj</code>"
      ],
      "text/plain": [
       "<IPython.core.display.HTML object>"
      ]
     },
     "metadata": {},
     "output_type": "display_data"
    },
    {
     "data": {
      "text/html": [
       "Syncing run <strong><a href='https://wandb.ai/protein-optimization/sc_diff/runs/5fi6fkfj' target=\"_blank\">mild-firefly-52</a></strong> to <a href='https://wandb.ai/protein-optimization/sc_diff' target=\"_blank\">Weights & Biases</a> (<a href='https://wandb.me/run' target=\"_blank\">docs</a>)<br/>"
      ],
      "text/plain": [
       "<IPython.core.display.HTML object>"
      ]
     },
     "metadata": {},
     "output_type": "display_data"
    },
    {
     "data": {
      "text/html": [
       " View project at <a href='https://wandb.ai/protein-optimization/sc_diff' target=\"_blank\">https://wandb.ai/protein-optimization/sc_diff</a>"
      ],
      "text/plain": [
       "<IPython.core.display.HTML object>"
      ]
     },
     "metadata": {},
     "output_type": "display_data"
    },
    {
     "data": {
      "text/html": [
       " View run at <a href='https://wandb.ai/protein-optimization/sc_diff/runs/5fi6fkfj' target=\"_blank\">https://wandb.ai/protein-optimization/sc_diff/runs/5fi6fkfj</a>"
      ],
      "text/plain": [
       "<IPython.core.display.HTML object>"
      ]
     },
     "metadata": {},
     "output_type": "display_data"
    }
   ],
   "source": [
    "# Run ID for your WandB run\n",
    "run_id = 'ydqtt928'  # replace with your run ID\n",
    "\n",
    "# Names of the artifacts in the run\n",
    "artifact_names = [f'model-ydqtt928:v{num}' for num in range(0, 13, 4)]  # replace with your artifact names\n",
    "\n",
    "run = wandb.init(project='sc_diff', entity='protein-optimization')\n",
    "# run_name = \"protein-optimization/sc_diff/\""
   ]
  },
  {
   "cell_type": "code",
   "execution_count": 19,
   "metadata": {},
   "outputs": [
    {
     "name": "stderr",
     "output_type": "stream",
     "text": [
      "\u001b[34m\u001b[1mwandb\u001b[0m:   1 of 1 files downloaded.  \n"
     ]
    },
    {
     "name": "stdout",
     "output_type": "stream",
     "text": [
      "Dropout is 0.1\n",
      "Loading ae from checkpoint\n"
     ]
    },
    {
     "name": "stderr",
     "output_type": "stream",
     "text": [
      "LOCAL_RANK: 0 - CUDA_VISIBLE_DEVICES: [0,1,2,3,4,5,6,7]\n"
     ]
    },
    {
     "name": "stdout",
     "output_type": "stream",
     "text": [
      "Validation DataLoader 0: 100%|██████████| 239/239 [06:18<00:00,  1.58s/it]\n",
      "────────────────────────────────────────────────────────────────────────────────────────────────────────────────────────\n",
      "     Validate metric           DataLoader 0\n",
      "────────────────────────────────────────────────────────────────────────────────────────────────────────────────────────\n",
      "         val/mse            0.8834621906280518\n",
      "────────────────────────────────────────────────────────────────────────────────────────────────────────────────────────\n"
     ]
    },
    {
     "name": "stderr",
     "output_type": "stream",
     "text": [
      "VALIDATE Profiler Report\n",
      "\n",
      "--------------------------------------------------------------------------------------------------------------------------------------------------------------------------------------------------------------------------------------------------------------------------\n",
      "|  Action                                                                                                                                                         \t|  Mean duration (s)\t|  Num calls      \t|  Total time (s) \t|  Percentage %   \t|\n",
      "--------------------------------------------------------------------------------------------------------------------------------------------------------------------------------------------------------------------------------------------------------------------------\n",
      "|  Total                                                                                                                                                          \t|  -              \t|  3381           \t|  462.14         \t|  100 %          \t|\n",
      "--------------------------------------------------------------------------------------------------------------------------------------------------------------------------------------------------------------------------------------------------------------------------\n",
      "|  [Strategy]SingleDeviceStrategy.validation_step                                                                                                                 \t|  1.5706         \t|  239            \t|  375.37         \t|  81.223         \t|\n",
      "|  [LightningDataModule]CellDataModule.setup                                                                                                                      \t|  40.018         \t|  1              \t|  40.018         \t|  8.6592         \t|\n",
      "|  [Callback]TQDMProgressBar.on_validation_batch_end                                                                                                              \t|  0.0085488      \t|  239            \t|  2.0432         \t|  0.44211        \t|\n",
      "|  [_EvaluationLoop].val_next                                                                                                                                     \t|  0.0038832      \t|  239            \t|  0.92807        \t|  0.20082        \t|\n",
      "|  [Strategy]SingleDeviceStrategy.batch_to_device                                                                                                                 \t|  0.00044469     \t|  239            \t|  0.10628        \t|  0.022998       \t|\n",
      "|  [LightningModule]CondScoreModule.transfer_batch_to_device                                                                                                      \t|  0.00033493     \t|  239            \t|  0.080047       \t|  0.017321       \t|\n",
      "|  [Callback]TQDMProgressBar.on_validation_start                                                                                                                  \t|  0.028041       \t|  1              \t|  0.028041       \t|  0.0060676      \t|\n",
      "|  [LightningModule]CondScoreModule.on_validation_model_eval                                                                                                      \t|  0.024745       \t|  1              \t|  0.024745       \t|  0.0053545      \t|\n",
      "|  [Callback]TQDMProgressBar.on_validation_batch_start                                                                                                            \t|  8.0837e-05     \t|  239            \t|  0.01932        \t|  0.0041805      \t|\n",
      "|  [Callback]TQDMProgressBar.on_validation_end                                                                                                                    \t|  0.0033282      \t|  1              \t|  0.0033282      \t|  0.00072017     \t|\n",
      "|  [Callback]ModelSummary.on_validation_batch_end                                                                                                                 \t|  1.2374e-05     \t|  239            \t|  0.0029573      \t|  0.00063992     \t|\n",
      "|  [LightningModule]CondScoreModule.on_validation_batch_end                                                                                                       \t|  8.1231e-06     \t|  239            \t|  0.0019414      \t|  0.00042009     \t|\n",
      "|  [LightningDataModule]CellDataModule.val_dataloader                                                                                                             \t|  0.00090796     \t|  1              \t|  0.00090796     \t|  0.00019647     \t|\n",
      "|  [LightningModule]CondScoreModule.on_validation_model_train                                                                                                     \t|  0.0007029      \t|  1              \t|  0.0007029      \t|  0.0001521      \t|\n",
      "|  [LightningModule]CondScoreModule.on_validation_batch_start                                                                                                     \t|  2.8357e-06     \t|  239            \t|  0.00067774     \t|  0.00014665     \t|\n",
      "|  [Callback]ModelSummary.on_validation_batch_start                                                                                                               \t|  2.738e-06      \t|  239            \t|  0.00065437     \t|  0.0001416      \t|\n",
      "|  [LightningModule]CondScoreModule.on_before_batch_transfer                                                                                                      \t|  2.6367e-06     \t|  239            \t|  0.00063017     \t|  0.00013636     \t|\n",
      "|  [Callback]ModelCheckpoint{'monitor': None, 'mode': 'min', 'every_n_train_steps': 0, 'every_n_epochs': 1, 'train_time_interval': None}.on_validation_batch_end  \t|  2.407e-06      \t|  239            \t|  0.00057527     \t|  0.00012448     \t|\n",
      "|  [Callback]ModelCheckpoint{'monitor': None, 'mode': 'min', 'every_n_train_steps': 0, 'every_n_epochs': 1, 'train_time_interval': None}.on_validation_batch_start\t|  1.9696e-06     \t|  239            \t|  0.00047073     \t|  0.00010186     \t|\n",
      "|  [LightningModule]CondScoreModule.on_after_batch_transfer                                                                                                       \t|  1.8553e-06     \t|  239            \t|  0.00044341     \t|  9.5947e-05     \t|\n",
      "|  [Callback]ModelCheckpoint{'monitor': None, 'mode': 'min', 'every_n_train_steps': 0, 'every_n_epochs': 1, 'train_time_interval': None}.setup                    \t|  0.00026619     \t|  1              \t|  0.00026619     \t|  5.76e-05       \t|\n",
      "|  [Callback]TQDMProgressBar.setup                                                                                                                                \t|  5.1646e-05     \t|  1              \t|  5.1646e-05     \t|  1.1175e-05     \t|\n",
      "|  [Callback]ModelCheckpoint{'monitor': None, 'mode': 'min', 'every_n_train_steps': 0, 'every_n_epochs': 1, 'train_time_interval': None}.on_validation_end        \t|  2.7576e-05     \t|  1              \t|  2.7576e-05     \t|  5.9669e-06     \t|\n",
      "|  [Callback]ModelSummary.on_validation_start                                                                                                                     \t|  1.6158e-05     \t|  1              \t|  1.6158e-05     \t|  3.4962e-06     \t|\n",
      "|  [Callback]ModelSummary.setup                                                                                                                                   \t|  1.2184e-05     \t|  1              \t|  1.2184e-05     \t|  2.6365e-06     \t|\n",
      "|  [LightningModule]CondScoreModule.setup                                                                                                                         \t|  1.1421e-05     \t|  1              \t|  1.1421e-05     \t|  2.4713e-06     \t|\n",
      "|  [Strategy]SingleDeviceStrategy.on_validation_end                                                                                                               \t|  1.0209e-05     \t|  1              \t|  1.0209e-05     \t|  2.2091e-06     \t|\n",
      "|  [Callback]TQDMProgressBar.teardown                                                                                                                             \t|  8.4862e-06     \t|  1              \t|  8.4862e-06     \t|  1.8363e-06     \t|\n",
      "|  [LightningModule]CondScoreModule.configure_sharded_model                                                                                                       \t|  7.8706e-06     \t|  1              \t|  7.8706e-06     \t|  1.7031e-06     \t|\n",
      "|  [Callback]ModelSummary.on_validation_end                                                                                                                       \t|  7.5698e-06     \t|  1              \t|  7.5698e-06     \t|  1.638e-06      \t|\n",
      "|  [LightningDataModule]CellDataModule.teardown                                                                                                                   \t|  7.4422e-06     \t|  1              \t|  7.4422e-06     \t|  1.6104e-06     \t|\n",
      "|  [Callback]TQDMProgressBar.on_validation_epoch_end                                                                                                              \t|  7.0417e-06     \t|  1              \t|  7.0417e-06     \t|  1.5237e-06     \t|\n",
      "|  [LightningModule]CondScoreModule.configure_callbacks                                                                                                           \t|  6.7046e-06     \t|  1              \t|  6.7046e-06     \t|  1.4508e-06     \t|\n",
      "|  [LightningModule]CondScoreModule.on_validation_end                                                                                                             \t|  3.3015e-06     \t|  1              \t|  3.3015e-06     \t|  7.144e-07      \t|\n",
      "|  [LightningDataModule]CellDataModule.prepare_data                                                                                                               \t|  2.6356e-06     \t|  1              \t|  2.6356e-06     \t|  5.7031e-07     \t|\n",
      "|  [Callback]TQDMProgressBar.on_validation_epoch_start                                                                                                            \t|  2.4084e-06     \t|  1              \t|  2.4084e-06     \t|  5.2114e-07     \t|\n",
      "|  [Callback]ModelCheckpoint{'monitor': None, 'mode': 'min', 'every_n_train_steps': 0, 'every_n_epochs': 1, 'train_time_interval': None}.on_validation_start      \t|  2.2296e-06     \t|  1              \t|  2.2296e-06     \t|  4.8245e-07     \t|\n",
      "|  [Callback]ModelSummary.teardown                                                                                                                                \t|  2.1281e-06     \t|  1              \t|  2.1281e-06     \t|  4.6048e-07     \t|\n",
      "|  [LightningModule]CondScoreModule.on_validation_start                                                                                                           \t|  2.0843e-06     \t|  1              \t|  2.0843e-06     \t|  4.5101e-07     \t|\n",
      "|  [Callback]ModelCheckpoint{'monitor': None, 'mode': 'min', 'every_n_train_steps': 0, 'every_n_epochs': 1, 'train_time_interval': None}.teardown                 \t|  2.0089e-06     \t|  1              \t|  2.0089e-06     \t|  4.3469e-07     \t|\n",
      "|  [Strategy]SingleDeviceStrategy.on_validation_start                                                                                                             \t|  1.8785e-06     \t|  1              \t|  1.8785e-06     \t|  4.0647e-07     \t|\n",
      "|  [LightningModule]CondScoreModule.prepare_data                                                                                                                  \t|  1.8589e-06     \t|  1              \t|  1.8589e-06     \t|  4.0224e-07     \t|\n",
      "|  [Callback]ModelSummary.on_validation_epoch_end                                                                                                                 \t|  1.8086e-06     \t|  1              \t|  1.8086e-06     \t|  3.9136e-07     \t|\n",
      "|  [LightningModule]CondScoreModule.on_validation_epoch_end                                                                                                       \t|  1.7714e-06     \t|  1              \t|  1.7714e-06     \t|  3.833e-07      \t|\n",
      "|  [Callback]ModelSummary.on_validation_epoch_start                                                                                                               \t|  1.7285e-06     \t|  1              \t|  1.7285e-06     \t|  3.7403e-07     \t|\n",
      "|  [Callback]ModelCheckpoint{'monitor': None, 'mode': 'min', 'every_n_train_steps': 0, 'every_n_epochs': 1, 'train_time_interval': None}.on_validation_epoch_end  \t|  1.7006e-06     \t|  1              \t|  1.7006e-06     \t|  3.6798e-07     \t|\n",
      "|  [LightningModule]CondScoreModule.on_validation_epoch_start                                                                                                     \t|  1.654e-06      \t|  1              \t|  1.654e-06      \t|  3.5791e-07     \t|\n",
      "|  [Callback]ModelCheckpoint{'monitor': None, 'mode': 'min', 'every_n_train_steps': 0, 'every_n_epochs': 1, 'train_time_interval': None}.on_validation_epoch_start\t|  1.6037e-06     \t|  1              \t|  1.6037e-06     \t|  3.4702e-07     \t|\n",
      "|  [LightningModule]CondScoreModule.teardown                                                                                                                      \t|  1.5777e-06     \t|  1              \t|  1.5777e-06     \t|  3.4138e-07     \t|\n",
      "--------------------------------------------------------------------------------------------------------------------------------------------------------------------------------------------------------------------------------------------------------------------------\n",
      "\n",
      "\u001b[34m\u001b[1mwandb\u001b[0m:   1 of 1 files downloaded.  \n"
     ]
    },
    {
     "name": "stdout",
     "output_type": "stream",
     "text": [
      "Dropout is 0.1\n",
      "Loading ae from checkpoint\n"
     ]
    },
    {
     "name": "stderr",
     "output_type": "stream",
     "text": [
      "LOCAL_RANK: 0 - CUDA_VISIBLE_DEVICES: [0,1,2,3,4,5,6,7]\n"
     ]
    },
    {
     "name": "stdout",
     "output_type": "stream",
     "text": [
      "Validation DataLoader 0: 100%|██████████| 239/239 [05:51<00:00,  1.47s/it]\n",
      "────────────────────────────────────────────────────────────────────────────────────────────────────────────────────────\n",
      "     Validate metric           DataLoader 0\n",
      "────────────────────────────────────────────────────────────────────────────────────────────────────────────────────────\n",
      "         val/mse            0.8262578845024109\n",
      "────────────────────────────────────────────────────────────────────────────────────────────────────────────────────────\n"
     ]
    },
    {
     "name": "stderr",
     "output_type": "stream",
     "text": [
      "VALIDATE Profiler Report\n",
      "\n",
      "--------------------------------------------------------------------------------------------------------------------------------------------------------------------------------------------------------------------------------------------------------------------------\n",
      "|  Action                                                                                                                                                         \t|  Mean duration (s)\t|  Num calls      \t|  Total time (s) \t|  Percentage %   \t|\n",
      "--------------------------------------------------------------------------------------------------------------------------------------------------------------------------------------------------------------------------------------------------------------------------\n",
      "|  Total                                                                                                                                                          \t|  -              \t|  6762           \t|  878.55         \t|  100 %          \t|\n",
      "--------------------------------------------------------------------------------------------------------------------------------------------------------------------------------------------------------------------------------------------------------------------------\n",
      "|  [Strategy]SingleDeviceStrategy.validation_step                                                                                                                 \t|  1.513          \t|  478            \t|  723.2          \t|  82.317         \t|\n",
      "|  [LightningDataModule]CellDataModule.setup                                                                                                                      \t|  37.413         \t|  2              \t|  74.825         \t|  8.5169         \t|\n",
      "|  [Callback]TQDMProgressBar.on_validation_batch_end                                                                                                              \t|  0.0082121      \t|  478            \t|  3.9254         \t|  0.4468         \t|\n",
      "|  [_EvaluationLoop].val_next                                                                                                                                     \t|  0.0038411      \t|  478            \t|  1.836          \t|  0.20899        \t|\n",
      "|  [Strategy]SingleDeviceStrategy.batch_to_device                                                                                                                 \t|  0.0004267      \t|  478            \t|  0.20396        \t|  0.023216       \t|\n",
      "|  [LightningModule]CondScoreModule.transfer_batch_to_device                                                                                                      \t|  0.00028009     \t|  478            \t|  0.13388        \t|  0.015239       \t|\n",
      "|  [Callback]TQDMProgressBar.on_validation_start                                                                                                                  \t|  0.018034       \t|  2              \t|  0.036067       \t|  0.0041053      \t|\n",
      "|  [Callback]TQDMProgressBar.on_validation_batch_start                                                                                                            \t|  5.6905e-05     \t|  478            \t|  0.027201       \t|  0.0030961      \t|\n",
      "|  [LightningModule]CondScoreModule.on_validation_model_eval                                                                                                      \t|  0.013229       \t|  2              \t|  0.026458       \t|  0.0030115      \t|\n",
      "|  [Callback]ModelSummary.on_validation_batch_end                                                                                                                 \t|  1.3021e-05     \t|  478            \t|  0.0062242      \t|  0.00070846     \t|\n",
      "|  [Callback]TQDMProgressBar.on_validation_end                                                                                                                    \t|  0.0027222      \t|  2              \t|  0.0054444      \t|  0.00061971     \t|\n",
      "|  [LightningModule]CondScoreModule.on_validation_batch_end                                                                                                       \t|  8.9949e-06     \t|  478            \t|  0.0042996      \t|  0.00048939     \t|\n",
      "|  [LightningDataModule]CellDataModule.val_dataloader                                                                                                             \t|  0.0011524      \t|  2              \t|  0.0023047      \t|  0.00026234     \t|\n",
      "|  [LightningModule]CondScoreModule.on_validation_batch_start                                                                                                     \t|  3.1048e-06     \t|  478            \t|  0.0014841      \t|  0.00016893     \t|\n",
      "|  [LightningModule]CondScoreModule.on_before_batch_transfer                                                                                                      \t|  3.0789e-06     \t|  478            \t|  0.0014717      \t|  0.00016752     \t|\n",
      "|  [LightningModule]CondScoreModule.on_validation_model_train                                                                                                     \t|  0.00070434     \t|  2              \t|  0.0014087      \t|  0.00016034     \t|\n",
      "|  [Callback]ModelSummary.on_validation_batch_start                                                                                                               \t|  2.9408e-06     \t|  478            \t|  0.0014057      \t|  0.00016        \t|\n",
      "|  [Callback]ModelCheckpoint{'monitor': None, 'mode': 'min', 'every_n_train_steps': 0, 'every_n_epochs': 1, 'train_time_interval': None}.on_validation_batch_end  \t|  2.4188e-06     \t|  478            \t|  0.0011562      \t|  0.0001316      \t|\n",
      "|  [LightningModule]CondScoreModule.on_after_batch_transfer                                                                                                       \t|  1.9649e-06     \t|  478            \t|  0.00093923     \t|  0.00010691     \t|\n",
      "|  [Callback]ModelCheckpoint{'monitor': None, 'mode': 'min', 'every_n_train_steps': 0, 'every_n_epochs': 1, 'train_time_interval': None}.on_validation_batch_start\t|  1.9577e-06     \t|  478            \t|  0.00093577     \t|  0.00010651     \t|\n",
      "|  [Callback]ModelCheckpoint{'monitor': None, 'mode': 'min', 'every_n_train_steps': 0, 'every_n_epochs': 1, 'train_time_interval': None}.setup                    \t|  0.00019564     \t|  2              \t|  0.00039128     \t|  4.4537e-05     \t|\n",
      "|  [Callback]ModelCheckpoint{'monitor': None, 'mode': 'min', 'every_n_train_steps': 0, 'every_n_epochs': 1, 'train_time_interval': None}.on_validation_end        \t|  7.1958e-05     \t|  2              \t|  0.00014392     \t|  1.6381e-05     \t|\n",
      "|  [Callback]TQDMProgressBar.on_validation_epoch_end                                                                                                              \t|  6.2385e-05     \t|  2              \t|  0.00012477     \t|  1.4202e-05     \t|\n",
      "|  [Callback]TQDMProgressBar.setup                                                                                                                                \t|  5.1022e-05     \t|  2              \t|  0.00010204     \t|  1.1615e-05     \t|\n",
      "|  [Callback]ModelSummary.on_validation_start                                                                                                                     \t|  2.2056e-05     \t|  2              \t|  4.4112e-05     \t|  5.021e-06      \t|\n",
      "|  [Callback]ModelSummary.setup                                                                                                                                   \t|  1.2822e-05     \t|  2              \t|  2.5644e-05     \t|  2.9189e-06     \t|\n",
      "|  [Callback]TQDMProgressBar.teardown                                                                                                                             \t|  1.1692e-05     \t|  2              \t|  2.3384e-05     \t|  2.6616e-06     \t|\n",
      "|  [LightningModule]CondScoreModule.setup                                                                                                                         \t|  1.1324e-05     \t|  2              \t|  2.2648e-05     \t|  2.5779e-06     \t|\n",
      "|  [Callback]ModelSummary.on_validation_end                                                                                                                       \t|  9.1037e-06     \t|  2              \t|  1.8207e-05     \t|  2.0724e-06     \t|\n",
      "|  [Strategy]SingleDeviceStrategy.on_validation_end                                                                                                               \t|  8.8396e-06     \t|  2              \t|  1.7679e-05     \t|  2.0123e-06     \t|\n",
      "|  [LightningModule]CondScoreModule.configure_sharded_model                                                                                                       \t|  7.4692e-06     \t|  2              \t|  1.4938e-05     \t|  1.7004e-06     \t|\n",
      "|  [LightningDataModule]CellDataModule.teardown                                                                                                                   \t|  6.5919e-06     \t|  2              \t|  1.3184e-05     \t|  1.5006e-06     \t|\n",
      "|  [LightningModule]CondScoreModule.configure_callbacks                                                                                                           \t|  5.811e-06      \t|  2              \t|  1.1622e-05     \t|  1.3229e-06     \t|\n",
      "|  [LightningDataModule]CellDataModule.prepare_data                                                                                                               \t|  5.2424e-06     \t|  2              \t|  1.0485e-05     \t|  1.1934e-06     \t|\n",
      "|  [Callback]ModelCheckpoint{'monitor': None, 'mode': 'min', 'every_n_train_steps': 0, 'every_n_epochs': 1, 'train_time_interval': None}.on_validation_start      \t|  2.9597e-06     \t|  2              \t|  5.9195e-06     \t|  6.7378e-07     \t|\n",
      "|  [Callback]TQDMProgressBar.on_validation_epoch_start                                                                                                            \t|  2.7814e-06     \t|  2              \t|  5.5628e-06     \t|  6.3318e-07     \t|\n",
      "|  [Strategy]SingleDeviceStrategy.on_validation_start                                                                                                             \t|  2.5756e-06     \t|  2              \t|  5.1511e-06     \t|  5.8632e-07     \t|\n",
      "|  [LightningModule]CondScoreModule.on_validation_end                                                                                                             \t|  2.4852e-06     \t|  2              \t|  4.9705e-06     \t|  5.6576e-07     \t|\n",
      "|  [LightningModule]CondScoreModule.on_validation_start                                                                                                           \t|  2.4317e-06     \t|  2              \t|  4.8634e-06     \t|  5.5357e-07     \t|\n",
      "|  [Callback]ModelSummary.teardown                                                                                                                                \t|  2.136e-06      \t|  2              \t|  4.272e-06      \t|  4.8625e-07     \t|\n",
      "|  [Callback]ModelSummary.on_validation_epoch_start                                                                                                               \t|  2.1136e-06     \t|  2              \t|  4.2273e-06     \t|  4.8117e-07     \t|\n",
      "|  [LightningModule]CondScoreModule.prepare_data                                                                                                                  \t|  2.0768e-06     \t|  2              \t|  4.1537e-06     \t|  4.7279e-07     \t|\n",
      "|  [Callback]ModelCheckpoint{'monitor': None, 'mode': 'min', 'every_n_train_steps': 0, 'every_n_epochs': 1, 'train_time_interval': None}.on_validation_epoch_start\t|  2.0727e-06     \t|  2              \t|  4.1453e-06     \t|  4.7184e-07     \t|\n",
      "|  [Callback]ModelCheckpoint{'monitor': None, 'mode': 'min', 'every_n_train_steps': 0, 'every_n_epochs': 1, 'train_time_interval': None}.teardown                 \t|  1.9874e-06     \t|  2              \t|  3.9749e-06     \t|  4.5244e-07     \t|\n",
      "|  [Callback]ModelSummary.on_validation_epoch_end                                                                                                                 \t|  1.9521e-06     \t|  2              \t|  3.9041e-06     \t|  4.4438e-07     \t|\n",
      "|  [LightningModule]CondScoreModule.on_validation_epoch_start                                                                                                     \t|  1.756e-06      \t|  2              \t|  3.512e-06      \t|  3.9975e-07     \t|\n",
      "|  [LightningModule]CondScoreModule.on_validation_epoch_end                                                                                                       \t|  1.7127e-06     \t|  2              \t|  3.4254e-06     \t|  3.8989e-07     \t|\n",
      "|  [Callback]ModelCheckpoint{'monitor': None, 'mode': 'min', 'every_n_train_steps': 0, 'every_n_epochs': 1, 'train_time_interval': None}.on_validation_epoch_end  \t|  1.6815e-06     \t|  2              \t|  3.363e-06      \t|  3.8279e-07     \t|\n",
      "|  [LightningModule]CondScoreModule.teardown                                                                                                                      \t|  1.505e-06      \t|  2              \t|  3.01e-06       \t|  3.4261e-07     \t|\n",
      "--------------------------------------------------------------------------------------------------------------------------------------------------------------------------------------------------------------------------------------------------------------------------\n",
      "\n",
      "\u001b[34m\u001b[1mwandb\u001b[0m:   1 of 1 files downloaded.  \n"
     ]
    },
    {
     "name": "stdout",
     "output_type": "stream",
     "text": [
      "Dropout is 0.1\n",
      "Loading ae from checkpoint\n"
     ]
    },
    {
     "name": "stderr",
     "output_type": "stream",
     "text": [
      "LOCAL_RANK: 0 - CUDA_VISIBLE_DEVICES: [0,1,2,3,4,5,6,7]\n"
     ]
    },
    {
     "name": "stdout",
     "output_type": "stream",
     "text": [
      "Validation DataLoader 0: 100%|██████████| 239/239 [06:07<00:00,  1.54s/it]\n",
      "────────────────────────────────────────────────────────────────────────────────────────────────────────────────────────\n",
      "     Validate metric           DataLoader 0\n",
      "────────────────────────────────────────────────────────────────────────────────────────────────────────────────────────\n",
      "         val/mse             0.814062237739563\n",
      "────────────────────────────────────────────────────────────────────────────────────────────────────────────────────────\n"
     ]
    },
    {
     "name": "stderr",
     "output_type": "stream",
     "text": [
      "VALIDATE Profiler Report\n",
      "\n",
      "--------------------------------------------------------------------------------------------------------------------------------------------------------------------------------------------------------------------------------------------------------------------------\n",
      "|  Action                                                                                                                                                         \t|  Mean duration (s)\t|  Num calls      \t|  Total time (s) \t|  Percentage %   \t|\n",
      "--------------------------------------------------------------------------------------------------------------------------------------------------------------------------------------------------------------------------------------------------------------------------\n",
      "|  Total                                                                                                                                                          \t|  -              \t|  10143          \t|  1315.2         \t|  100 %          \t|\n",
      "--------------------------------------------------------------------------------------------------------------------------------------------------------------------------------------------------------------------------------------------------------------------------\n",
      "|  [Strategy]SingleDeviceStrategy.validation_step                                                                                                                 \t|  1.517          \t|  717            \t|  1087.7         \t|  82.702         \t|\n",
      "|  [LightningDataModule]CellDataModule.setup                                                                                                                      \t|  37.857         \t|  3              \t|  113.57         \t|  8.6357         \t|\n",
      "|  [Callback]TQDMProgressBar.on_validation_batch_end                                                                                                              \t|  0.008303       \t|  717            \t|  5.9533         \t|  0.45267        \t|\n",
      "|  [_EvaluationLoop].val_next                                                                                                                                     \t|  0.0035491      \t|  717            \t|  2.5447         \t|  0.19349        \t|\n",
      "|  [Strategy]SingleDeviceStrategy.batch_to_device                                                                                                                 \t|  0.00036413     \t|  717            \t|  0.26108        \t|  0.019852       \t|\n",
      "|  [LightningModule]CondScoreModule.transfer_batch_to_device                                                                                                      \t|  0.00024129     \t|  717            \t|  0.173          \t|  0.013155       \t|\n",
      "|  [Callback]TQDMProgressBar.on_validation_start                                                                                                                  \t|  0.024224       \t|  3              \t|  0.072671       \t|  0.0055257      \t|\n",
      "|  [Callback]TQDMProgressBar.on_validation_batch_start                                                                                                            \t|  4.787e-05      \t|  717            \t|  0.034323       \t|  0.0026098      \t|\n",
      "|  [LightningModule]CondScoreModule.on_validation_model_eval                                                                                                      \t|  0.0094475      \t|  3              \t|  0.028342       \t|  0.0021551      \t|\n",
      "|  [Callback]ModelSummary.on_validation_batch_end                                                                                                                 \t|  1.2995e-05     \t|  717            \t|  0.0093176      \t|  0.00070848     \t|\n",
      "|  [Callback]TQDMProgressBar.on_validation_end                                                                                                                    \t|  0.00256        \t|  3              \t|  0.0076801      \t|  0.00058397     \t|\n",
      "|  [LightningModule]CondScoreModule.on_validation_batch_end                                                                                                       \t|  8.8348e-06     \t|  717            \t|  0.0063346      \t|  0.00048166     \t|\n",
      "|  [LightningDataModule]CellDataModule.val_dataloader                                                                                                             \t|  0.0011677      \t|  3              \t|  0.0035032      \t|  0.00026637     \t|\n",
      "|  [LightningModule]CondScoreModule.on_validation_batch_start                                                                                                     \t|  3.3305e-06     \t|  717            \t|  0.002388       \t|  0.00018158     \t|\n",
      "|  [LightningModule]CondScoreModule.on_validation_model_train                                                                                                     \t|  0.00071543     \t|  3              \t|  0.0021463      \t|  0.0001632      \t|\n",
      "|  [LightningModule]CondScoreModule.on_before_batch_transfer                                                                                                      \t|  2.939e-06      \t|  717            \t|  0.0021073      \t|  0.00016023     \t|\n",
      "|  [Callback]ModelSummary.on_validation_batch_start                                                                                                               \t|  2.828e-06      \t|  717            \t|  0.0020277      \t|  0.00015418     \t|\n",
      "|  [Callback]ModelCheckpoint{'monitor': None, 'mode': 'min', 'every_n_train_steps': 0, 'every_n_epochs': 1, 'train_time_interval': None}.on_validation_batch_end  \t|  2.4171e-06     \t|  717            \t|  0.0017331      \t|  0.00013178     \t|\n",
      "|  [Callback]ModelCheckpoint{'monitor': None, 'mode': 'min', 'every_n_train_steps': 0, 'every_n_epochs': 1, 'train_time_interval': None}.on_validation_batch_start\t|  1.9641e-06     \t|  717            \t|  0.0014083      \t|  0.00010708     \t|\n",
      "|  [LightningModule]CondScoreModule.on_after_batch_transfer                                                                                                       \t|  1.9405e-06     \t|  717            \t|  0.0013914      \t|  0.00010579     \t|\n",
      "|  [Callback]ModelCheckpoint{'monitor': None, 'mode': 'min', 'every_n_train_steps': 0, 'every_n_epochs': 1, 'train_time_interval': None}.setup                    \t|  0.00015465     \t|  3              \t|  0.00046396     \t|  3.5278e-05     \t|\n",
      "|  [Callback]ModelCheckpoint{'monitor': None, 'mode': 'min', 'every_n_train_steps': 0, 'every_n_epochs': 1, 'train_time_interval': None}.on_validation_end        \t|  5.9572e-05     \t|  3              \t|  0.00017872     \t|  1.3589e-05     \t|\n",
      "|  [Callback]TQDMProgressBar.setup                                                                                                                                \t|  4.8735e-05     \t|  3              \t|  0.00014621     \t|  1.1117e-05     \t|\n",
      "|  [Callback]TQDMProgressBar.on_validation_epoch_end                                                                                                              \t|  4.421e-05      \t|  3              \t|  0.00013263     \t|  1.0085e-05     \t|\n",
      "|  [Callback]ModelSummary.on_validation_start                                                                                                                     \t|  2.2093e-05     \t|  3              \t|  6.628e-05      \t|  5.0398e-06     \t|\n",
      "|  [LightningModule]CondScoreModule.setup                                                                                                                         \t|  1.2681e-05     \t|  3              \t|  3.8043e-05     \t|  2.8926e-06     \t|\n",
      "|  [Callback]ModelSummary.setup                                                                                                                                   \t|  1.185e-05      \t|  3              \t|  3.5551e-05     \t|  2.7032e-06     \t|\n",
      "|  [Callback]TQDMProgressBar.teardown                                                                                                                             \t|  1.1164e-05     \t|  3              \t|  3.3493e-05     \t|  2.5467e-06     \t|\n",
      "|  [Callback]ModelSummary.on_validation_end                                                                                                                       \t|  1.0365e-05     \t|  3              \t|  3.1094e-05     \t|  2.3643e-06     \t|\n",
      "|  [Strategy]SingleDeviceStrategy.on_validation_end                                                                                                               \t|  8.4111e-06     \t|  3              \t|  2.5233e-05     \t|  1.9187e-06     \t|\n",
      "|  [LightningDataModule]CellDataModule.prepare_data                                                                                                               \t|  7.9681e-06     \t|  3              \t|  2.3904e-05     \t|  1.8176e-06     \t|\n",
      "|  [LightningModule]CondScoreModule.configure_sharded_model                                                                                                       \t|  7.3093e-06     \t|  3              \t|  2.1928e-05     \t|  1.6673e-06     \t|\n",
      "|  [LightningDataModule]CellDataModule.teardown                                                                                                                   \t|  6.5885e-06     \t|  3              \t|  1.9765e-05     \t|  1.5029e-06     \t|\n",
      "|  [LightningModule]CondScoreModule.configure_callbacks                                                                                                           \t|  6.1511e-06     \t|  3              \t|  1.8453e-05     \t|  1.4031e-06     \t|\n",
      "|  [Callback]ModelCheckpoint{'monitor': None, 'mode': 'min', 'every_n_train_steps': 0, 'every_n_epochs': 1, 'train_time_interval': None}.on_validation_start      \t|  2.7021e-06     \t|  3              \t|  8.1062e-06     \t|  6.1637e-07     \t|\n",
      "|  [Callback]TQDMProgressBar.on_validation_epoch_start                                                                                                            \t|  2.5049e-06     \t|  3              \t|  7.5148e-06     \t|  5.7141e-07     \t|\n",
      "|  [LightningModule]CondScoreModule.on_validation_start                                                                                                           \t|  2.4252e-06     \t|  3              \t|  7.2755e-06     \t|  5.5321e-07     \t|\n",
      "|  [LightningModule]CondScoreModule.on_validation_end                                                                                                             \t|  2.3314e-06     \t|  3              \t|  6.9942e-06     \t|  5.3182e-07     \t|\n",
      "|  [Callback]ModelSummary.teardown                                                                                                                                \t|  2.3218e-06     \t|  3              \t|  6.9654e-06     \t|  5.2962e-07     \t|\n",
      "|  [Strategy]SingleDeviceStrategy.on_validation_start                                                                                                             \t|  2.1796e-06     \t|  3              \t|  6.5388e-06     \t|  4.9719e-07     \t|\n",
      "|  [LightningModule]CondScoreModule.prepare_data                                                                                                                  \t|  2.1032e-06     \t|  3              \t|  6.3097e-06     \t|  4.7977e-07     \t|\n",
      "|  [Callback]ModelCheckpoint{'monitor': None, 'mode': 'min', 'every_n_train_steps': 0, 'every_n_epochs': 1, 'train_time_interval': None}.teardown                 \t|  2.043e-06      \t|  3              \t|  6.129e-06      \t|  4.6603e-07     \t|\n",
      "|  [Callback]ModelCheckpoint{'monitor': None, 'mode': 'min', 'every_n_train_steps': 0, 'every_n_epochs': 1, 'train_time_interval': None}.on_validation_epoch_start\t|  1.9418e-06     \t|  3              \t|  5.8254e-06     \t|  4.4295e-07     \t|\n",
      "|  [Callback]ModelSummary.on_validation_epoch_end                                                                                                                 \t|  1.9399e-06     \t|  3              \t|  5.8198e-06     \t|  4.4252e-07     \t|\n",
      "|  [Callback]ModelSummary.on_validation_epoch_start                                                                                                               \t|  1.9306e-06     \t|  3              \t|  5.7919e-06     \t|  4.404e-07      \t|\n",
      "|  [LightningModule]CondScoreModule.on_validation_epoch_end                                                                                                       \t|  1.6798e-06     \t|  3              \t|  5.0394e-06     \t|  3.8318e-07     \t|\n",
      "|  [LightningModule]CondScoreModule.on_validation_epoch_start                                                                                                     \t|  1.6733e-06     \t|  3              \t|  5.0198e-06     \t|  3.8169e-07     \t|\n",
      "|  [Callback]ModelCheckpoint{'monitor': None, 'mode': 'min', 'every_n_train_steps': 0, 'every_n_epochs': 1, 'train_time_interval': None}.on_validation_epoch_end  \t|  1.6534e-06     \t|  3              \t|  4.9602e-06     \t|  3.7716e-07     \t|\n",
      "|  [LightningModule]CondScoreModule.teardown                                                                                                                      \t|  1.5426e-06     \t|  3              \t|  4.6277e-06     \t|  3.5188e-07     \t|\n",
      "--------------------------------------------------------------------------------------------------------------------------------------------------------------------------------------------------------------------------------------------------------------------------\n",
      "\n",
      "\u001b[34m\u001b[1mwandb\u001b[0m:   1 of 1 files downloaded.  \n"
     ]
    },
    {
     "name": "stdout",
     "output_type": "stream",
     "text": [
      "Dropout is 0.1\n",
      "Loading ae from checkpoint\n"
     ]
    },
    {
     "name": "stderr",
     "output_type": "stream",
     "text": [
      "LOCAL_RANK: 0 - CUDA_VISIBLE_DEVICES: [0,1,2,3,4,5,6,7]\n"
     ]
    },
    {
     "name": "stdout",
     "output_type": "stream",
     "text": [
      "Validation DataLoader 0: 100%|██████████| 239/239 [05:29<00:00,  1.38s/it]\n",
      "────────────────────────────────────────────────────────────────────────────────────────────────────────────────────────\n",
      "     Validate metric           DataLoader 0\n",
      "────────────────────────────────────────────────────────────────────────────────────────────────────────────────────────\n",
      "         val/mse            0.8036770224571228\n",
      "────────────────────────────────────────────────────────────────────────────────────────────────────────────────────────\n"
     ]
    },
    {
     "name": "stderr",
     "output_type": "stream",
     "text": [
      "VALIDATE Profiler Report\n",
      "\n",
      "--------------------------------------------------------------------------------------------------------------------------------------------------------------------------------------------------------------------------------------------------------------------------\n",
      "|  Action                                                                                                                                                         \t|  Mean duration (s)\t|  Num calls      \t|  Total time (s) \t|  Percentage %   \t|\n",
      "--------------------------------------------------------------------------------------------------------------------------------------------------------------------------------------------------------------------------------------------------------------------------\n",
      "|  Total                                                                                                                                                          \t|  -              \t|  13524          \t|  1710.8         \t|  100 %          \t|\n",
      "--------------------------------------------------------------------------------------------------------------------------------------------------------------------------------------------------------------------------------------------------------------------------\n",
      "|  [Strategy]SingleDeviceStrategy.validation_step                                                                                                                 \t|  1.4796         \t|  956            \t|  1414.5         \t|  82.684         \t|\n",
      "|  [LightningDataModule]CellDataModule.setup                                                                                                                      \t|  36.62          \t|  4              \t|  146.48         \t|  8.5622         \t|\n",
      "|  [Callback]TQDMProgressBar.on_validation_batch_end                                                                                                              \t|  0.0078195      \t|  956            \t|  7.4755         \t|  0.43697        \t|\n",
      "|  [_EvaluationLoop].val_next                                                                                                                                     \t|  0.0037716      \t|  956            \t|  3.6057         \t|  0.21076        \t|\n",
      "|  [Strategy]SingleDeviceStrategy.batch_to_device                                                                                                                 \t|  0.0003272      \t|  956            \t|  0.3128         \t|  0.018284       \t|\n",
      "|  [LightningModule]CondScoreModule.transfer_batch_to_device                                                                                                      \t|  0.00021723     \t|  956            \t|  0.20767        \t|  0.012139       \t|\n",
      "|  [Callback]TQDMProgressBar.on_validation_start                                                                                                                  \t|  0.022541       \t|  4              \t|  0.090165       \t|  0.0052705      \t|\n",
      "|  [Callback]TQDMProgressBar.on_validation_batch_start                                                                                                            \t|  4.0409e-05     \t|  956            \t|  0.038631       \t|  0.0022581      \t|\n",
      "|  [LightningModule]CondScoreModule.on_validation_model_eval                                                                                                      \t|  0.0074916      \t|  4              \t|  0.029967       \t|  0.0017517      \t|\n",
      "|  [Callback]ModelSummary.on_validation_batch_end                                                                                                                 \t|  1.4013e-05     \t|  956            \t|  0.013396       \t|  0.00078307     \t|\n",
      "|  [Callback]TQDMProgressBar.on_validation_end                                                                                                                    \t|  0.002442       \t|  4              \t|  0.0097679      \t|  0.00057097     \t|\n",
      "|  [LightningModule]CondScoreModule.on_validation_batch_end                                                                                                       \t|  7.8905e-06     \t|  956            \t|  0.0075433      \t|  0.00044093     \t|\n",
      "|  [LightningDataModule]CellDataModule.val_dataloader                                                                                                             \t|  0.0011614      \t|  4              \t|  0.0046455      \t|  0.00027155     \t|\n",
      "|  [LightningModule]CondScoreModule.on_validation_batch_start                                                                                                     \t|  3.1096e-06     \t|  956            \t|  0.0029728      \t|  0.00017377     \t|\n",
      "|  [LightningModule]CondScoreModule.on_validation_model_train                                                                                                     \t|  0.00072824     \t|  4              \t|  0.002913       \t|  0.00017027     \t|\n",
      "|  [LightningModule]CondScoreModule.on_before_batch_transfer                                                                                                      \t|  2.8532e-06     \t|  956            \t|  0.0027277      \t|  0.00015944     \t|\n",
      "|  [Callback]ModelSummary.on_validation_batch_start                                                                                                               \t|  2.7734e-06     \t|  956            \t|  0.0026514      \t|  0.00015498     \t|\n",
      "|  [Callback]ModelCheckpoint{'monitor': None, 'mode': 'min', 'every_n_train_steps': 0, 'every_n_epochs': 1, 'train_time_interval': None}.on_validation_batch_end  \t|  2.4258e-06     \t|  956            \t|  0.0023191      \t|  0.00013556     \t|\n",
      "|  [Callback]ModelCheckpoint{'monitor': None, 'mode': 'min', 'every_n_train_steps': 0, 'every_n_epochs': 1, 'train_time_interval': None}.on_validation_batch_start\t|  1.9806e-06     \t|  956            \t|  0.0018934      \t|  0.00011068     \t|\n",
      "|  [LightningModule]CondScoreModule.on_after_batch_transfer                                                                                                       \t|  1.9305e-06     \t|  956            \t|  0.0018455      \t|  0.00010788     \t|\n",
      "|  [Callback]ModelCheckpoint{'monitor': None, 'mode': 'min', 'every_n_train_steps': 0, 'every_n_epochs': 1, 'train_time_interval': None}.setup                    \t|  0.00014719     \t|  4              \t|  0.00058875     \t|  3.4415e-05     \t|\n",
      "|  [Callback]ModelCheckpoint{'monitor': None, 'mode': 'min', 'every_n_train_steps': 0, 'every_n_epochs': 1, 'train_time_interval': None}.on_validation_end        \t|  5.2211e-05     \t|  4              \t|  0.00020884     \t|  1.2208e-05     \t|\n",
      "|  [Callback]TQDMProgressBar.setup                                                                                                                                \t|  4.7822e-05     \t|  4              \t|  0.00019129     \t|  1.1181e-05     \t|\n",
      "|  [Callback]TQDMProgressBar.on_validation_epoch_end                                                                                                              \t|  3.5048e-05     \t|  4              \t|  0.00014019     \t|  8.1948e-06     \t|\n",
      "|  [Callback]ModelSummary.on_validation_start                                                                                                                     \t|  2.1714e-05     \t|  4              \t|  8.6854e-05     \t|  5.0769e-06     \t|\n",
      "|  [LightningModule]CondScoreModule.setup                                                                                                                         \t|  1.2426e-05     \t|  4              \t|  4.9703e-05     \t|  2.9053e-06     \t|\n",
      "|  [Callback]ModelSummary.setup                                                                                                                                   \t|  1.1301e-05     \t|  4              \t|  4.5203e-05     \t|  2.6423e-06     \t|\n",
      "|  [Callback]ModelSummary.on_validation_end                                                                                                                       \t|  1.0676e-05     \t|  4              \t|  4.2702e-05     \t|  2.4961e-06     \t|\n",
      "|  [Callback]TQDMProgressBar.teardown                                                                                                                             \t|  1.0492e-05     \t|  4              \t|  4.1966e-05     \t|  2.4531e-06     \t|\n",
      "|  [Strategy]SingleDeviceStrategy.on_validation_end                                                                                                               \t|  8.1535e-06     \t|  4              \t|  3.2614e-05     \t|  1.9064e-06     \t|\n",
      "|  [LightningDataModule]CellDataModule.prepare_data                                                                                                               \t|  8.0673e-06     \t|  4              \t|  3.2269e-05     \t|  1.8863e-06     \t|\n",
      "|  [LightningModule]CondScoreModule.configure_sharded_model                                                                                                       \t|  7.2271e-06     \t|  4              \t|  2.8908e-05     \t|  1.6898e-06     \t|\n",
      "|  [LightningDataModule]CellDataModule.teardown                                                                                                                   \t|  6.7849e-06     \t|  4              \t|  2.714e-05      \t|  1.5864e-06     \t|\n",
      "|  [LightningModule]CondScoreModule.configure_callbacks                                                                                                           \t|  5.8527e-06     \t|  4              \t|  2.3411e-05     \t|  1.3684e-06     \t|\n",
      "|  [LightningModule]CondScoreModule.on_validation_end                                                                                                             \t|  2.6098e-06     \t|  4              \t|  1.0439e-05     \t|  6.1021e-07     \t|\n",
      "|  [Callback]ModelCheckpoint{'monitor': None, 'mode': 'min', 'every_n_train_steps': 0, 'every_n_epochs': 1, 'train_time_interval': None}.on_validation_start      \t|  2.5374e-06     \t|  4              \t|  1.015e-05      \t|  5.9328e-07     \t|\n",
      "|  [Callback]ModelSummary.teardown                                                                                                                                \t|  2.4878e-06     \t|  4              \t|  9.9512e-06     \t|  5.8168e-07     \t|\n",
      "|  [Callback]TQDMProgressBar.on_validation_epoch_start                                                                                                            \t|  2.3858e-06     \t|  4              \t|  9.5433e-06     \t|  5.5784e-07     \t|\n",
      "|  [LightningModule]CondScoreModule.on_validation_start                                                                                                           \t|  2.3418e-06     \t|  4              \t|  9.3672e-06     \t|  5.4755e-07     \t|\n",
      "|  [Callback]ModelCheckpoint{'monitor': None, 'mode': 'min', 'every_n_train_steps': 0, 'every_n_epochs': 1, 'train_time_interval': None}.teardown                 \t|  2.2629e-06     \t|  4              \t|  9.0515e-06     \t|  5.2909e-07     \t|\n",
      "|  [LightningModule]CondScoreModule.prepare_data                                                                                                                  \t|  2.0668e-06     \t|  4              \t|  8.2674e-06     \t|  4.8326e-07     \t|\n",
      "|  [Callback]ModelSummary.on_validation_epoch_end                                                                                                                 \t|  2.0638e-06     \t|  4              \t|  8.2552e-06     \t|  4.8255e-07     \t|\n",
      "|  [Strategy]SingleDeviceStrategy.on_validation_start                                                                                                             \t|  2.0447e-06     \t|  4              \t|  8.1789e-06     \t|  4.7809e-07     \t|\n",
      "|  [Callback]ModelSummary.on_validation_epoch_start                                                                                                               \t|  1.8666e-06     \t|  4              \t|  7.4664e-06     \t|  4.3644e-07     \t|\n",
      "|  [Callback]ModelCheckpoint{'monitor': None, 'mode': 'min', 'every_n_train_steps': 0, 'every_n_epochs': 1, 'train_time_interval': None}.on_validation_epoch_start\t|  1.8638e-06     \t|  4              \t|  7.4552e-06     \t|  4.3579e-07     \t|\n",
      "|  [Callback]ModelCheckpoint{'monitor': None, 'mode': 'min', 'every_n_train_steps': 0, 'every_n_epochs': 1, 'train_time_interval': None}.on_validation_epoch_end  \t|  1.7972e-06     \t|  4              \t|  7.1889e-06     \t|  4.2022e-07     \t|\n",
      "|  [LightningModule]CondScoreModule.on_validation_epoch_end                                                                                                       \t|  1.7597e-06     \t|  4              \t|  7.0389e-06     \t|  4.1145e-07     \t|\n",
      "|  [LightningModule]CondScoreModule.teardown                                                                                                                      \t|  1.634e-06      \t|  4              \t|  6.536e-06      \t|  3.8205e-07     \t|\n",
      "|  [LightningModule]CondScoreModule.on_validation_epoch_start                                                                                                     \t|  1.5656e-06     \t|  4              \t|  6.2622e-06     \t|  3.6605e-07     \t|\n",
      "--------------------------------------------------------------------------------------------------------------------------------------------------------------------------------------------------------------------------------------------------------------------------\n",
      "\n"
     ]
    }
   ],
   "source": [
    "val_metrics = []\n",
    "# Loop over each artifact, download the weights, load into the model, and validate\n",
    "for artifact_name in artifact_names:\n",
    "    artifact = run.use_artifact(artifact_name, type='model')\n",
    "\n",
    "    artifact_dir = artifact.download()\n",
    "    ckpt_path = f'{artifact_dir}/model.ckpt'\n",
    "    # Load the model from the checkpoint\n",
    "    model = CondScoreModule.load_from_checkpoint(checkpoint_path=ckpt_path, hparams=config)\n",
    "\n",
    "    # Move the model to the right device\n",
    "    model.to(device)\n",
    "\n",
    "    # Run validation\n",
    "    metrics = trainer.validate(model, datamodule=dm, verbose=True)\n",
    "    val_metrics.append(metrics)"
   ]
  },
  {
   "cell_type": "code",
   "execution_count": null,
   "metadata": {},
   "outputs": [],
   "source": []
  }
 ],
 "metadata": {
  "kernelspec": {
   "display_name": "cellot",
   "language": "python",
   "name": "python3"
  },
  "language_info": {
   "codemirror_mode": {
    "name": "ipython",
    "version": 3
   },
   "file_extension": ".py",
   "mimetype": "text/x-python",
   "name": "python",
   "nbconvert_exporter": "python",
   "pygments_lexer": "ipython3",
   "version": "3.9.5"
  },
  "orig_nbformat": 4
 },
 "nbformat": 4,
 "nbformat_minor": 2
}
