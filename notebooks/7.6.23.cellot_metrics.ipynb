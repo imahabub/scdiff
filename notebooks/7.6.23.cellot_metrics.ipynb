{
 "cells": [
  {
   "attachments": {},
   "cell_type": "markdown",
   "metadata": {},
   "source": [
    "### Load LM"
   ]
  },
  {
   "cell_type": "code",
   "execution_count": 1,
   "metadata": {},
   "outputs": [
    {
     "name": "stderr",
     "output_type": "stream",
     "text": [
      "Failed to detect the name of this notebook, you can set it manually with the WANDB_NOTEBOOK_NAME environment variable to enable code saving.\n",
      "\u001b[34m\u001b[1mwandb\u001b[0m: Currently logged in as: \u001b[33mjohnyang\u001b[0m (\u001b[33mprotein-optimization\u001b[0m). Use \u001b[1m`wandb login --relogin`\u001b[0m to force relogin\n"
     ]
    },
    {
     "data": {
      "text/html": [
       "wandb version 0.15.5 is available!  To upgrade, please run:\n",
       " $ pip install wandb --upgrade"
      ],
      "text/plain": [
       "<IPython.core.display.HTML object>"
      ]
     },
     "metadata": {},
     "output_type": "display_data"
    },
    {
     "data": {
      "text/html": [
       "Tracking run with wandb version 0.15.4"
      ],
      "text/plain": [
       "<IPython.core.display.HTML object>"
      ]
     },
     "metadata": {},
     "output_type": "display_data"
    },
    {
     "data": {
      "text/html": [
       "Run data is saved locally in <code>/Mounts/rbg-storage1/users/johnyang/cellot/notebooks/wandb/run-20230706_151436-8w3nm21v</code>"
      ],
      "text/plain": [
       "<IPython.core.display.HTML object>"
      ]
     },
     "metadata": {},
     "output_type": "display_data"
    },
    {
     "data": {
      "text/html": [
       "Syncing run <strong><a href='https://wandb.ai/protein-optimization/cellot-notebooks/runs/8w3nm21v' target=\"_blank\">amber-capybara-8</a></strong> to <a href='https://wandb.ai/protein-optimization/cellot-notebooks' target=\"_blank\">Weights & Biases</a> (<a href='https://wandb.me/run' target=\"_blank\">docs</a>)<br/>"
      ],
      "text/plain": [
       "<IPython.core.display.HTML object>"
      ]
     },
     "metadata": {},
     "output_type": "display_data"
    },
    {
     "data": {
      "text/html": [
       " View project at <a href='https://wandb.ai/protein-optimization/cellot-notebooks' target=\"_blank\">https://wandb.ai/protein-optimization/cellot-notebooks</a>"
      ],
      "text/plain": [
       "<IPython.core.display.HTML object>"
      ]
     },
     "metadata": {},
     "output_type": "display_data"
    },
    {
     "data": {
      "text/html": [
       " View run at <a href='https://wandb.ai/protein-optimization/cellot-notebooks/runs/8w3nm21v' target=\"_blank\">https://wandb.ai/protein-optimization/cellot-notebooks/runs/8w3nm21v</a>"
      ],
      "text/plain": [
       "<IPython.core.display.HTML object>"
      ]
     },
     "metadata": {},
     "output_type": "display_data"
    },
    {
     "name": "stderr",
     "output_type": "stream",
     "text": [
      "\u001b[34m\u001b[1mwandb\u001b[0m:   1 of 1 files downloaded.  \n"
     ]
    }
   ],
   "source": [
    "import wandb\n",
    "run = wandb.init()\n",
    "artifact = run.use_artifact('protein-optimization/sc_diff/model-fekp2uq8:v10', type='model')\n",
    "artifact_dir = artifact.download()"
   ]
  },
  {
   "cell_type": "code",
   "execution_count": 2,
   "metadata": {},
   "outputs": [
    {
     "data": {
      "text/plain": [
       "'./artifacts/model-fekp2uq8:v10'"
      ]
     },
     "execution_count": 2,
     "metadata": {},
     "output_type": "execute_result"
    }
   ],
   "source": [
    "artifact_dir"
   ]
  },
  {
   "cell_type": "code",
   "execution_count": 3,
   "metadata": {},
   "outputs": [],
   "source": [
    "from cellot.models.cond_score_module import CondScoreModule"
   ]
  },
  {
   "cell_type": "code",
   "execution_count": 4,
   "metadata": {},
   "outputs": [],
   "source": [
    "ckpt_path = f'{artifact_dir}/model.ckpt'"
   ]
  },
  {
   "cell_type": "code",
   "execution_count": 19,
   "metadata": {},
   "outputs": [],
   "source": [
    "YAML_STR = '''\n",
    "DEBUG: False\n",
    "TARGET: all\n",
    "LATENT_DIM: 50\n",
    "COND_CLASSES: 189\n",
    "SEED: 42\n",
    "AE_PATH: /Mounts/rbg-storage1/users/johnyang/cellot/results/sciplex3/full_ae\n",
    "VAL_SIZE: 0.1\n",
    "DEVICES: 1\n",
    "\n",
    "diffuser:\n",
    "  min_b: 0.01\n",
    "  max_b: 1.0\n",
    "  schedule: exponential\n",
    "  score_scaling: var\n",
    "  coordinate_scaling: 1.0\n",
    "  latent_dim: ${LATENT_DIM}\n",
    "  dt: 0.01\n",
    "  min_t: 0\n",
    "\n",
    "ae:\n",
    "  name: scgen\n",
    "  beta: 0.0\n",
    "  dropout: 0.0\n",
    "  hidden_units: [512, 512]\n",
    "  latent_dim: 50\n",
    "\n",
    "score_network:\n",
    "  latent_dim: ${LATENT_DIM}\n",
    "  cond_classes: ${COND_CLASSES}\n",
    "  model_dim: 64   # Adjusted to 64\n",
    "  n_layers: 12    # Adjusted to 12\n",
    "  nhead: 8\n",
    "  dim_feedforward: 2048\n",
    "  dropout: 0.1\n",
    "  ffn_hidden_dim: 1024\n",
    "\n",
    "\n",
    "data:\n",
    "  type: cell\n",
    "  source: control\n",
    "  condition: drug\n",
    "  path: /Mounts/rbg-storage1/users/johnyang/cellot/datasets/scrna-sciplex3/hvg.h5ad\n",
    "  target: trametinib\n",
    "\n",
    "datasplit:\n",
    "  groupby: drug   \n",
    "  name: train_test\n",
    "  test_size: 0.2\n",
    "  random_state: 0\n",
    "  \n",
    "dataloader:\n",
    "  batch_size: 256   # Adjusted to 256\n",
    "  shuffle: true\n",
    "  num_workers: 80\n",
    "  \n",
    "experiment:\n",
    "  name: base\n",
    "  mode: train\n",
    "  num_loader_workers: 0\n",
    "  port: 12319\n",
    "  dist_mode: single\n",
    "  use_wandb: True\n",
    "  ckpt_path: null\n",
    "  wandb_logger:\n",
    "    project: sc_diff\n",
    "    name: ${experiment.name}\n",
    "    dir: /Mounts/rbg-storage1/users/johnyang/cellot/\n",
    "    log_model: all\n",
    "    tags: ['experimental']\n",
    "  lr: 0.0001\n",
    "\n",
    "\n",
    "trainer:\n",
    "  accelerator: 'gpu'\n",
    "  check_val_every_n_epoch: 50\n",
    "  log_every_n_steps: 100\n",
    "  num_sanity_val_steps: 1\n",
    "  enable_progress_bar: True\n",
    "  enable_checkpointing: True\n",
    "  fast_dev_run: False\n",
    "  profiler: simple\n",
    "  max_epochs: 10000\n",
    "  strategy: auto\n",
    "  enable_model_summary: True\n",
    "  overfit_batches: 0.0\n",
    "  limit_train_batches: 1.0\n",
    "  limit_val_batches: 1.0\n",
    "  limit_predict_batches: 1.0\n",
    "'''"
   ]
  },
  {
   "cell_type": "code",
   "execution_count": 20,
   "metadata": {},
   "outputs": [],
   "source": [
    "from omegaconf import OmegaConf\n",
    "config = OmegaConf.create(YAML_STR)"
   ]
  },
  {
   "cell_type": "code",
   "execution_count": 21,
   "metadata": {},
   "outputs": [],
   "source": [
    "ckpt_path = f'{artifact_dir}/model.ckpt'"
   ]
  },
  {
   "cell_type": "code",
   "execution_count": 23,
   "metadata": {},
   "outputs": [
    {
     "name": "stdout",
     "output_type": "stream",
     "text": [
      "cuda\n",
      "Using GPUs: 1\n"
     ]
    }
   ],
   "source": [
    "from cellot.train.utils import get_free_gpu\n",
    "replica_id = int(get_free_gpu())"
   ]
  },
  {
   "cell_type": "code",
   "execution_count": 24,
   "metadata": {},
   "outputs": [],
   "source": [
    "device = f'cuda:{replica_id}'"
   ]
  },
  {
   "cell_type": "code",
   "execution_count": 33,
   "metadata": {},
   "outputs": [
    {
     "name": "stdout",
     "output_type": "stream",
     "text": [
      "Dropout is 0.1\n",
      "\n"
     ]
    }
   ],
   "source": [
    "lm = CondScoreModule.load_from_checkpoint(hparams=config, checkpoint_path=ckpt_path).to(device)\n",
    "print('')"
   ]
  },
  {
   "attachments": {},
   "cell_type": "markdown",
   "metadata": {},
   "source": [
    "### Load Data"
   ]
  },
  {
   "cell_type": "code",
   "execution_count": 25,
   "metadata": {},
   "outputs": [
    {
     "data": {
      "text/plain": [
       "{'DEBUG': False, 'TARGET': 'all', 'LATENT_DIM': 50, 'COND_CLASSES': 189, 'SEED': 42, 'AE_PATH': '/Mounts/rbg-storage1/users/johnyang/cellot/results/sciplex3/full_ae', 'VAL_SIZE': 0.1, 'DEVICES': 1, 'diffuser': {'min_b': 0.01, 'max_b': 1.0, 'schedule': 'exponential', 'score_scaling': 'var', 'coordinate_scaling': 1.0, 'latent_dim': '${LATENT_DIM}', 'dt': 0.01, 'min_t': 0}, 'ae': {'name': 'scgen', 'beta': 0.0, 'dropout': 0.0, 'hidden_units': [512, 512], 'latent_dim': 50}, 'score_network': {'latent_dim': '${LATENT_DIM}', 'cond_classes': '${COND_CLASSES}', 'model_dim': 64, 'n_layers': 12, 'nhead': 8, 'dim_feedforward': 2048, 'dropout': 0.1, 'ffn_hidden_dim': 1024}, 'data': {'type': 'cell', 'source': 'control', 'condition': 'drug', 'path': '/Mounts/rbg-storage1/users/johnyang/cellot/datasets/scrna-sciplex3/hvg.h5ad', 'target': 'trametinib'}, 'datasplit': {'groupby': 'drug', 'name': 'train_test', 'test_size': 0.2, 'random_state': 0}, 'dataloader': {'batch_size': 256, 'shuffle': True, 'num_workers': 80}, 'experiment': {'name': 'base', 'mode': 'train', 'num_loader_workers': 0, 'port': 12319, 'dist_mode': 'single', 'use_wandb': True, 'ckpt_path': None, 'wandb_logger': {'project': 'sc_diff', 'name': '${experiment.name}', 'dir': '/Mounts/rbg-storage1/users/johnyang/cellot/', 'log_model': 'all', 'tags': ['experimental']}, 'lr': 0.0001}, 'trainer': {'accelerator': 'gpu', 'check_val_every_n_epoch': 50, 'log_every_n_steps': 100, 'num_sanity_val_steps': 1, 'enable_progress_bar': True, 'enable_checkpointing': True, 'fast_dev_run': False, 'profiler': 'simple', 'max_epochs': 10000, 'strategy': 'auto', 'enable_model_summary': True, 'overfit_batches': 0.0, 'limit_train_batches': 1.0, 'limit_val_batches': 1.0, 'limit_predict_batches': 1.0}}"
      ]
     },
     "execution_count": 25,
     "metadata": {},
     "output_type": "execute_result"
    }
   ],
   "source": [
    "config"
   ]
  },
  {
   "cell_type": "code",
   "execution_count": 26,
   "metadata": {},
   "outputs": [
    {
     "name": "stdout",
     "output_type": "stream",
     "text": [
      "Loading model from checkpoint\n"
     ]
    }
   ],
   "source": [
    "# %%\n",
    "import cellot.models\n",
    "from cellot.data.cell import load_cell_data\n",
    "import torch\n",
    "from cellot.models.ae import AutoEncoder\n",
    "from pathlib import Path\n",
    "\n",
    "def load_data(config, **kwargs):\n",
    "    data_type = config.get(\"data.type\", \"cell\")\n",
    "    if data_type in [\"cell\", \"cell-merged\", \"tupro-cohort\"]:\n",
    "        loadfxn = load_cell_data\n",
    "\n",
    "    elif data_type == \"toy\":\n",
    "        loadfxn = load_toy_data\n",
    "\n",
    "    else:\n",
    "        raise ValueError\n",
    "\n",
    "    return loadfxn(config, **kwargs)\n",
    "\n",
    "\n",
    "def load_model(config, device, restore=None, **kwargs):\n",
    "    # def load_autoencoder_model(config, restore=None, **kwargs):\n",
    "    \n",
    "    def load_optimizer(config, params):\n",
    "        kwargs = dict(config.get(\"optim\", {}))\n",
    "        assert kwargs.pop(\"optimizer\", \"Adam\") == \"Adam\"\n",
    "        optim = torch.optim.Adam(params, **kwargs)\n",
    "        return optim\n",
    "\n",
    "\n",
    "    def load_networks(config, **kwargs):\n",
    "        kwargs = kwargs.copy()\n",
    "        kwargs.update(dict(config.get(\"ae\", {})))\n",
    "        name = kwargs.pop(\"name\")\n",
    "\n",
    "        # if name == \"scgen\":\n",
    "        model = AutoEncoder\n",
    "\n",
    "        # elif name == \"cae\":\n",
    "        #     model = ConditionalAutoEncoder\n",
    "        # else:\n",
    "        #     raise ValueError\n",
    "\n",
    "        return model(**kwargs)\n",
    "    \n",
    "    model = load_networks(config, **kwargs)\n",
    "    optim = load_optimizer(config, model.parameters())\n",
    "\n",
    "    if restore is not None and Path(restore).exists():\n",
    "        print('Loading model from checkpoint')\n",
    "        ckpt = torch.load(restore, map_location=device)\n",
    "        model.load_state_dict(ckpt[\"model_state\"])\n",
    "        optim.load_state_dict(ckpt[\"optim_state\"])\n",
    "        # if config.model.name == \"scgen\" and \"code_means\" in ckpt:\n",
    "        #     model.code_means = ckpt[\"code_means\"]\n",
    "            \n",
    "    # logger.info(f'Model on device {next(model.parameters()).device}')\n",
    "\n",
    "    return model, optim\n",
    "\n",
    "def load(config, device, restore=None, include_model_kwargs=False, **kwargs):\n",
    "\n",
    "    loader, model_kwargs = load_data(config, include_model_kwargs=True, **kwargs)\n",
    "\n",
    "    model, opt = load_model(config, device, restore=restore, **model_kwargs)\n",
    "\n",
    "    return model, opt, loader\n",
    "# %% [markdown]\n",
    "# ### Training\n",
    "\n",
    "# %%\n",
    "restore_path = '/Mounts/rbg-storage1/users/johnyang/cellot/saved_weights/ae/ae.pt'\n",
    "ae = load_model(config, 'cuda', restore=restore_path, input_dim=1000)"
   ]
  },
  {
   "cell_type": "code",
   "execution_count": 46,
   "metadata": {},
   "outputs": [
    {
     "data": {
      "text/plain": [
       "<module 'cellot.data.utils' from '/Mounts/rbg-storage1/users/johnyang/cellot/cellot/data/utils.py'>"
      ]
     },
     "execution_count": 46,
     "metadata": {},
     "output_type": "execute_result"
    }
   ],
   "source": [
    "from imp import reload\n",
    "reload(cellot.data.utils)"
   ]
  },
  {
   "cell_type": "code",
   "execution_count": 47,
   "metadata": {},
   "outputs": [],
   "source": [
    "from cellot.data.utils import load_ae_cell_data\n",
    "loader = load_ae_cell_data(config, ae=None, encode_latents=False)"
   ]
  },
  {
   "cell_type": "code",
   "execution_count": 48,
   "metadata": {},
   "outputs": [
    {
     "data": {
      "text/plain": [
       "16673"
      ]
     },
     "execution_count": 48,
     "metadata": {},
     "output_type": "execute_result"
    }
   ],
   "source": [
    "len(loader.train.dataset)"
   ]
  },
  {
   "cell_type": "code",
   "execution_count": 49,
   "metadata": {},
   "outputs": [
    {
     "data": {
      "text/plain": [
       "4169"
      ]
     },
     "execution_count": 49,
     "metadata": {},
     "output_type": "execute_result"
    }
   ],
   "source": [
    "len(loader.test.dataset)"
   ]
  },
  {
   "attachments": {},
   "cell_type": "markdown",
   "metadata": {},
   "source": [
    "### adata"
   ]
  },
  {
   "cell_type": "code",
   "execution_count": 66,
   "metadata": {},
   "outputs": [
    {
     "name": "stderr",
     "output_type": "stream",
     "text": [
      "2023-07-06 15:50:11,850 Loaded cell data with TARGET trametinib and OBS SHAPE (20842, 16)\n"
     ]
    }
   ],
   "source": [
    "from cellot.data.cell import read_single_anndata\n",
    "adata = read_single_anndata(config)"
   ]
  },
  {
   "cell_type": "code",
   "execution_count": 67,
   "metadata": {},
   "outputs": [
    {
     "data": {
      "text/plain": [
       "Index(['ENSG00000243620.1', 'ENSG00000271503.5', 'ENSG00000259124.1',\n",
       "       'ENSG00000121101.15', 'ENSG00000160963.13', 'ENSG00000135346.8',\n",
       "       'ENSG00000143839.14', 'ENSG00000100867.14', 'ENSG00000140986.7',\n",
       "       'ENSG00000230666.5',\n",
       "       ...\n",
       "       'ENSG00000140795.12', 'ENSG00000232006.8', 'ENSG00000135821.17',\n",
       "       'ENSG00000166960.16', 'ENSG00000187391.19', 'ENSG00000227124.8',\n",
       "       'ENSG00000280081.3', 'ENSG00000270019.1', 'ENSG00000072182.12',\n",
       "       'ENSG00000183242.11'],\n",
       "      dtype='object', name='id', length=1000)"
      ]
     },
     "execution_count": 67,
     "metadata": {},
     "output_type": "execute_result"
    }
   ],
   "source": [
    "adata.var_names = adata.var_names.astype(str)\n",
    "adata.var_names"
   ]
  },
  {
   "cell_type": "code",
   "execution_count": 68,
   "metadata": {},
   "outputs": [
    {
     "data": {
      "text/plain": [
       "['control', 'trametinib']\n",
       "Categories (2, object): ['control', 'trametinib']"
      ]
     },
     "execution_count": 68,
     "metadata": {},
     "output_type": "execute_result"
    }
   ],
   "source": [
    "adata.obs['drug'].unique()"
   ]
  },
  {
   "cell_type": "code",
   "execution_count": 69,
   "metadata": {},
   "outputs": [
    {
     "data": {
      "text/plain": [
       "['control', 'trametinib']"
      ]
     },
     "execution_count": 69,
     "metadata": {},
     "output_type": "execute_result"
    }
   ],
   "source": [
    "categories = sorted(adata.obs['drug'].cat.categories)\n",
    "categories"
   ]
  },
  {
   "cell_type": "code",
   "execution_count": 70,
   "metadata": {},
   "outputs": [
    {
     "data": {
      "text/plain": [
       "1"
      ]
     },
     "execution_count": 70,
     "metadata": {},
     "output_type": "execute_result"
    }
   ],
   "source": [
    "categories.index('trametinib')"
   ]
  },
  {
   "cell_type": "code",
   "execution_count": 71,
   "metadata": {},
   "outputs": [
    {
     "name": "stderr",
     "output_type": "stream",
     "text": [
      "2023-07-06 15:50:24,912 Loaded cell data with TARGET trametinib and OBS SHAPE (20842, 16)\n"
     ]
    },
    {
     "data": {
      "text/plain": [
       "Index(['ENSG00000198074.9', 'ENSG00000019186.9', 'ENSG00000108846.15',\n",
       "       'ENSG00000115414.18', 'ENSG00000231185.6', 'ENSG00000112541.13',\n",
       "       'ENSG00000117983.17', 'ENSG00000145819.15', 'ENSG00000184588.17',\n",
       "       'ENSG00000165376.10', 'ENSG00000154529.14', 'ENSG00000182752.9',\n",
       "       'ENSG00000251003.7', 'ENSG00000101144.12', 'ENSG00000117724.12',\n",
       "       'ENSG00000157168.18', 'ENSG00000275395.5', 'ENSG00000185483.11',\n",
       "       'ENSG00000108405.3', 'ENSG00000089199.9', 'ENSG00000254166.2',\n",
       "       'ENSG00000215182.8', 'ENSG00000004948.13', 'ENSG00000227706.3',\n",
       "       'ENSG00000065809.13', 'ENSG00000004799.7', 'ENSG00000144847.12',\n",
       "       'ENSG00000107957.16', 'ENSG00000108602.17', 'ENSG00000059804.15',\n",
       "       'ENSG00000047648.21', 'ENSG00000076706.16', 'ENSG00000003436.15',\n",
       "       'ENSG00000229140.8', 'ENSG00000066279.17', 'ENSG00000153956.15',\n",
       "       'ENSG00000086548.8', 'ENSG00000171408.13', 'ENSG00000005108.15',\n",
       "       'ENSG00000138696.10', 'ENSG00000236213.1', 'ENSG00000038427.15',\n",
       "       'ENSG00000064042.17', 'ENSG00000130656.4', 'ENSG00000180287.16',\n",
       "       'ENSG00000204740.10', 'ENSG00000023171.16', 'ENSG00000153976.2',\n",
       "       'ENSG00000167281.18', 'ENSG00000113448.18'],\n",
       "      dtype='object', name='id')"
      ]
     },
     "execution_count": 71,
     "metadata": {},
     "output_type": "execute_result"
    }
   ],
   "source": [
    "from cellot.data.cell import read_single_anndata\n",
    "def load_markers():\n",
    "    data = read_single_anndata(config, path=None)\n",
    "    key = f'marker_genes-{config.data.condition}-rank'\n",
    "\n",
    "    # rebuttal preprocessing stored marker genes using\n",
    "    # a generic marker_genes-condition-rank key\n",
    "    # instead of e.g. marker_genes-drug-rank\n",
    "    # let's just patch that here:\n",
    "    if key not in data.varm:\n",
    "        key = 'marker_genes-condition-rank'\n",
    "        print('WARNING: using generic condition marker genes')\n",
    "\n",
    "    sel_mg = (\n",
    "        data.varm[key][config.data.target]\n",
    "        .sort_values()\n",
    "        .index\n",
    "    )\n",
    "    return sel_mg\n",
    "\n",
    "sel_mg = load_markers()[:50]\n",
    "sel_mg"
   ]
  },
  {
   "cell_type": "code",
   "execution_count": 73,
   "metadata": {},
   "outputs": [
    {
     "data": {
      "text/plain": [
       "View of AnnData object with n_obs × n_vars = 20842 × 50\n",
       "    obs: 'size_factor', 'cell_type', 'replicate', 'dose', 'drug_code', 'pathway_level_1', 'pathway_level_2', 'product_name', 'target', 'pathway', 'drug', 'drug-dose', 'drug_code-dose', 'n_genes', 'transport', 'split'\n",
       "    var: 'gene_short_name', 'n_cells', 'highly_variable', 'means', 'dispersions', 'dispersions_norm'\n",
       "    uns: 'hvg', 'pca', 'rank_genes_groups'\n",
       "    obsm: 'X_pca'\n",
       "    varm: 'PCs', 'marker_genes-drug-rank', 'marker_genes-drug-score'"
      ]
     },
     "execution_count": 73,
     "metadata": {},
     "output_type": "execute_result"
    }
   ],
   "source": [
    "adata[:, sel_mg]"
   ]
  },
  {
   "cell_type": "code",
   "execution_count": 74,
   "metadata": {},
   "outputs": [
    {
     "data": {
      "text/plain": [
       "<module 'cellot.data.utils' from '/Mounts/rbg-storage1/users/johnyang/cellot/cellot/data/utils.py'>"
      ]
     },
     "execution_count": 74,
     "metadata": {},
     "output_type": "execute_result"
    }
   ],
   "source": [
    "from imp import reload\n",
    "reload(cellot.data.utils)"
   ]
  },
  {
   "cell_type": "code",
   "execution_count": 75,
   "metadata": {},
   "outputs": [],
   "source": [
    "from cellot.data.utils import load_ae_cell_data\n",
    "loader = load_ae_cell_data(config, ae=None, encode_latents=False, sel_mg=sel_mg)"
   ]
  },
  {
   "cell_type": "code",
   "execution_count": 77,
   "metadata": {},
   "outputs": [
    {
     "data": {
      "text/plain": [
       "{'test': <torch.utils.data.dataloader.DataLoader at 0x7fae973af5b0>,\n",
       " 'train': <torch.utils.data.dataloader.DataLoader at 0x7fae973af8b0>}"
      ]
     },
     "execution_count": 77,
     "metadata": {},
     "output_type": "execute_result"
    }
   ],
   "source": [
    "loader"
   ]
  },
  {
   "attachments": {},
   "cell_type": "markdown",
   "metadata": {},
   "source": [
    "### end"
   ]
  },
  {
   "cell_type": "code",
   "execution_count": 50,
   "metadata": {},
   "outputs": [],
   "source": [
    "from cellot.losses.mmd import mmd_distance\n",
    "import numpy as np\n",
    "\n",
    "def compute_mmd_loss(lhs, rhs, gammas):\n",
    "    return np.mean([mmd_distance(lhs, rhs, g) for g in gammas])\n",
    "\n",
    "gammas = np.logspace(1, -3, num=50)"
   ]
  },
  {
   "cell_type": "code",
   "execution_count": 80,
   "metadata": {},
   "outputs": [],
   "source": [
    "for batch in loader.test:\n",
    "    ex_batch = batch\n",
    "    break"
   ]
  },
  {
   "cell_type": "code",
   "execution_count": 82,
   "metadata": {},
   "outputs": [
    {
     "data": {
      "text/plain": [
       "0.1368182871707745"
      ]
     },
     "execution_count": 82,
     "metadata": {},
     "output_type": "execute_result"
    }
   ],
   "source": [
    "compute_mmd_loss(ex_batch[0], ex_batch[0] + 1, gammas)"
   ]
  },
  {
   "cell_type": "code",
   "execution_count": null,
   "metadata": {},
   "outputs": [],
   "source": [
    "compute_mmd_loss(lhs, rhs, gammas)"
   ]
  },
  {
   "attachments": {},
   "cell_type": "markdown",
   "metadata": {},
   "source": [
    "### OT Eval"
   ]
  },
  {
   "cell_type": "code",
   "execution_count": 15,
   "metadata": {},
   "outputs": [
    {
     "name": "stderr",
     "output_type": "stream",
     "text": [
      "/data/rsg/chemistry/johnyang/miniconda3/envs/cellot/lib/python3.9/site-packages/tqdm/auto.py:21: TqdmWarning: IProgress not found. Please update jupyter and ipywidgets. See https://ipywidgets.readthedocs.io/en/stable/user_install.html\n",
      "  from .autonotebook import tqdm as notebook_tqdm\n"
     ]
    }
   ],
   "source": [
    "from pathlib import Path\n",
    "import numpy as np\n",
    "import pandas as pd\n",
    "from absl import app, flags\n",
    "from cellot.utils.evaluate import (\n",
    "    load_conditions,\n",
    "    compute_knn_enrichment,\n",
    ")\n",
    "from cellot.losses.mmd import mmd_distance\n",
    "from cellot.utils import load_config\n",
    "from cellot.data.cell import read_single_anndata"
   ]
  },
  {
   "cell_type": "code",
   "execution_count": null,
   "metadata": {},
   "outputs": [],
   "source": [
    "def compute_mmd_loss(lhs, rhs, gammas):\n",
    "    return np.mean([mmd_distance(lhs, rhs, g) for g in gammas])\n",
    "\n",
    "\n",
    "def compute_pairwise_corrs(df):\n",
    "    corr = df.corr().rename_axis(index='lhs', columns='rhs')\n",
    "    return (\n",
    "        corr\n",
    "        .where(np.triu(np.ones(corr.shape), k=1).astype(bool))\n",
    "        .stack()\n",
    "        .reset_index()\n",
    "        .set_index(['lhs', 'rhs'])\n",
    "        .squeeze()\n",
    "        .rename()\n",
    "    )\n",
    "\n",
    "\n",
    "def compute_evaluations(iterator):\n",
    "    gammas = np.logspace(1, -3, num=50)\n",
    "    for ncells, nfeatures, treated, imputed in iterator:\n",
    "        mut, mui = treated.mean(0), imputed.mean(0)\n",
    "        stdt, stdi = treated.std(0), imputed.std(0)\n",
    "        pwct = compute_pairwise_corrs(treated)\n",
    "        pwci = compute_pairwise_corrs(imputed)\n",
    "\n",
    "        yield ncells, nfeatures, 'l2-means', np.linalg.norm(mut - mui)\n",
    "        yield ncells, nfeatures, 'l2-stds', np.linalg.norm(stdt - stdi)\n",
    "        yield ncells, nfeatures, 'r2-means', pd.Series.corr(mut, mui)\n",
    "        yield ncells, nfeatures, 'r2-stds', pd.Series.corr(stdt, stdi)\n",
    "        yield ncells, nfeatures, 'r2-pairwise_feat_corrs', pd.Series.corr(pwct, pwci)\n",
    "        yield ncells, nfeatures, 'l2-pairwise_feat_corrs', np.linalg.norm(pwct - pwci)\n",
    "\n",
    "        if treated.shape[1] < 1000:\n",
    "            mmd = compute_mmd_loss(treated, imputed, gammas=gammas)\n",
    "            yield ncells, nfeatures, 'mmd', mmd\n",
    "\n",
    "            knn, enrichment = compute_knn_enrichment(imputed, treated)\n",
    "            k50 = enrichment.iloc[:, :50].values.mean()\n",
    "            k100 = enrichment.iloc[:, :100].values.mean()\n",
    "\n",
    "            yield ncells, nfeatures, 'enrichment-k50', k50\n",
    "            yield ncells, nfeatures, 'enrichment-k100', k100\n"
   ]
  },
  {
   "cell_type": "code",
   "execution_count": null,
   "metadata": {},
   "outputs": [],
   "source": [
    "def main(argv):\n",
    "    expdir = Path(FLAGS.outdir)\n",
    "    setting = FLAGS.setting\n",
    "    where = FLAGS.where\n",
    "    embedding = FLAGS.embedding\n",
    "    prefix = FLAGS.evalprefix\n",
    "    n_reps = FLAGS.n_reps\n",
    "\n",
    "    if (embedding is None) or len(embedding) == 0:\n",
    "        embedding = None\n",
    "\n",
    "    if FLAGS.n_markers is None:\n",
    "        n_markers = None\n",
    "    else:\n",
    "        n_markers = FLAGS.n_markers.split(',')\n",
    "    all_ncells = [int(x) for x in FLAGS.n_cells.split(',')]\n",
    "\n",
    "    if prefix is None:\n",
    "        prefix = f'evals_{setting}_{where}'\n",
    "    outdir = expdir / prefix\n",
    "\n",
    "    outdir.mkdir(exist_ok=True, parents=True)\n",
    "\n",
    "    def iterate_feature_slices():\n",
    "\n",
    "        config = load_config(expdir / 'config.yaml')\n",
    "        if 'ae_emb' in config.data:\n",
    "            assert config.model.name == 'cellot'\n",
    "            config.data.ae_emb.path = str(expdir.parent / 'model-scgen')\n",
    "        cache = outdir / 'imputed.h5ad'\n",
    "\n",
    "        _, treateddf, imputed = load_conditions(\n",
    "                expdir, where, setting, embedding=embedding)\n",
    "\n",
    "        imputed.write(cache)\n",
    "        imputeddf = imputed.to_df()\n",
    "\n",
    "        imputeddf.columns = imputeddf.columns.astype(str)\n",
    "        treateddf.columns = treateddf.columns.astype(str)\n",
    "\n",
    "        assert imputeddf.columns.equals(treateddf.columns)\n",
    "\n",
    "        def load_markers():\n",
    "            data = read_single_anndata(config, path=None)\n",
    "            key = f'marker_genes-{config.data.condition}-rank'\n",
    "\n",
    "            # rebuttal preprocessing stored marker genes using\n",
    "            # a generic marker_genes-condition-rank key\n",
    "            # instead of e.g. marker_genes-drug-rank\n",
    "            # let's just patch that here:\n",
    "            if key not in data.varm:\n",
    "                key = 'marker_genes-condition-rank'\n",
    "                print('WARNING: using generic condition marker genes')\n",
    "\n",
    "            sel_mg = (\n",
    "                data.varm[key][config.data.target]\n",
    "                .sort_values()\n",
    "                .index\n",
    "            )\n",
    "            return sel_mg\n",
    "\n",
    "        if n_markers is not None:\n",
    "            markers = load_markers()\n",
    "            for k in n_markers:\n",
    "                if k != 'all':\n",
    "                    feats = markers[:int(k)]\n",
    "                else:\n",
    "                    feats = list(markers)\n",
    "\n",
    "                for ncells in all_ncells:\n",
    "                    if ncells > min(len(treateddf), len(imputeddf)):\n",
    "                        break\n",
    "                    for r in range(n_reps):\n",
    "                        trt = treateddf[feats].sample(ncells)\n",
    "                        imp = imputeddf[feats].sample(ncells)\n",
    "                        yield ncells, k, trt, imp\n",
    "\n",
    "        else:\n",
    "            for ncells in all_ncells:\n",
    "                if ncells > min(len(treateddf), len(imputeddf)):\n",
    "                    break\n",
    "                for r in range(n_reps):\n",
    "                    trt = treateddf.sample(ncells)\n",
    "                    imp = imputeddf.sample(ncells)\n",
    "                    yield ncells, 'all', trt, imp\n",
    "\n",
    "    evals = pd.DataFrame(\n",
    "            compute_evaluations(iterate_feature_slices()),\n",
    "            columns=['ncells', 'nfeatures', 'metric', 'value']\n",
    "            )\n",
    "    evals.to_csv(outdir / 'evals.csv', index=None)\n",
    "\n",
    "    return\n"
   ]
  },
  {
   "cell_type": "code",
   "execution_count": 14,
   "metadata": {},
   "outputs": [
    {
     "name": "stderr",
     "output_type": "stream",
     "text": [
      "/data/rsg/chemistry/johnyang/miniconda3/envs/cellot/lib/python3.9/site-packages/pytorch_lightning/core/module.py:407: UserWarning: You are trying to `self.log()` but the `self.trainer` reference is not registered on the model yet. This is most likely because the model hasn't been passed to the `Trainer`\n",
      "  rank_zero_warn(\n"
     ]
    }
   ],
   "source": [
    "for batch in dm.val_dataloader():\n",
    "    batch = [b.to(device) for b in batch]\n",
    "    mse = lm.validation_step(batch, None)\n",
    "    break"
   ]
  },
  {
   "cell_type": "code",
   "execution_count": 15,
   "metadata": {},
   "outputs": [
    {
     "data": {
      "text/plain": [
       "tensor(0.8200, device='cuda:0', dtype=torch.float64)"
      ]
     },
     "execution_count": 15,
     "metadata": {},
     "output_type": "execute_result"
    }
   ],
   "source": [
    "mse"
   ]
  }
 ],
 "metadata": {
  "kernelspec": {
   "display_name": "cellot",
   "language": "python",
   "name": "python3"
  },
  "language_info": {
   "codemirror_mode": {
    "name": "ipython",
    "version": 3
   },
   "file_extension": ".py",
   "mimetype": "text/x-python",
   "name": "python",
   "nbconvert_exporter": "python",
   "pygments_lexer": "ipython3",
   "version": "3.9.5"
  },
  "orig_nbformat": 4
 },
 "nbformat": 4,
 "nbformat_minor": 2
}
