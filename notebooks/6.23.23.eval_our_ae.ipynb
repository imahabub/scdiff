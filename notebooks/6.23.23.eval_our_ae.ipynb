{
 "cells": [
  {
   "cell_type": "code",
   "execution_count": 1,
   "metadata": {},
   "outputs": [
    {
     "name": "stderr",
     "output_type": "stream",
     "text": [
      "/data/rsg/chemistry/johnyang/miniconda3/envs/cellot/lib/python3.9/site-packages/tqdm/auto.py:21: TqdmWarning: IProgress not found. Please update jupyter and ipywidgets. See https://ipywidgets.readthedocs.io/en/stable/user_install.html\n",
      "  from .autonotebook import tqdm as notebook_tqdm\n"
     ]
    }
   ],
   "source": [
    "from pathlib import Path\n",
    "\n",
    "import torch\n",
    "import numpy as np\n",
    "import random\n",
    "import pickle\n",
    "from absl import logging\n",
    "from absl.flags import FLAGS\n",
    "from cellot import losses\n",
    "from cellot.utils.loaders import load\n",
    "from cellot.models.cellot import compute_loss_f, compute_loss_g, compute_w2_distance\n",
    "from cellot.train.summary import Logger\n",
    "from cellot.data.utils import cast_loader_to_iterator\n",
    "from cellot.models.ae import compute_scgen_shift\n",
    "from tqdm import trange"
   ]
  },
  {
   "cell_type": "code",
   "execution_count": 2,
   "metadata": {},
   "outputs": [],
   "source": [
    "TARGET = 'all' # 'all' denotes all drugs"
   ]
  },
  {
   "cell_type": "code",
   "execution_count": 3,
   "metadata": {},
   "outputs": [],
   "source": [
    "import omegaconf\n",
    "\n",
    "yaml_str = f\"\"\"\n",
    "model:\n",
    "   name: scgen\n",
    "   beta: 0.0\n",
    "   dropout: 0.0\n",
    "   hidden_units: [512, 512]\n",
    "   latent_dim: 50\n",
    "\n",
    "optim:\n",
    "   lr: 0.001\n",
    "   optimizer: Adam\n",
    "   weight_decay: 1.0e-05\n",
    "\n",
    "scheduler:\n",
    "   gamma: 0.5\n",
    "   step_size: 100000\n",
    "\n",
    "training:\n",
    "  cache_freq: 10000\n",
    "  eval_freq: 2500\n",
    "  logs_freq: 250\n",
    "  n_iters: 250000\n",
    "\n",
    "data:\n",
    "  type: cell\n",
    "  source: control\n",
    "  condition: drug\n",
    "  path: /Mounts/rbg-storage1/users/johnyang/cellot/datasets/scrna-sciplex3/hvg.h5ad\n",
    "  target: {TARGET}\n",
    "\n",
    "datasplit:\n",
    "    groupby: drug   \n",
    "    name: train_test\n",
    "    test_size: 0.2\n",
    "    random_state: 0\n",
    "\n",
    "dataloader:\n",
    "    batch_size: 256\n",
    "    shuffle: true\n",
    "\"\"\"\n",
    "\n",
    "config = omegaconf.OmegaConf.create(yaml_str)"
   ]
  },
  {
   "attachments": {},
   "cell_type": "markdown",
   "metadata": {},
   "source": [
    "### Utils"
   ]
  },
  {
   "cell_type": "code",
   "execution_count": 4,
   "metadata": {},
   "outputs": [],
   "source": [
    "def load_lr_scheduler(optim, config):\n",
    "    if \"scheduler\" not in config:\n",
    "        return None\n",
    "\n",
    "    return torch.optim.lr_scheduler.StepLR(optim, **config.scheduler)\n",
    "\n",
    "def check_loss(*args):\n",
    "    for arg in args:\n",
    "        if torch.isnan(arg):\n",
    "            raise ValueError\n",
    "\n",
    "\n",
    "def load_item_from_save(path, key, default):\n",
    "    path = Path(path)\n",
    "    if not path.exists():\n",
    "        return default\n",
    "\n",
    "    ckpt = torch.load(path)\n",
    "    if key not in ckpt:\n",
    "        logging.warn(f\"'{key}' not found in ckpt: {str(path)}\")\n",
    "        return default\n",
    "\n",
    "    return ckpt[key]"
   ]
  },
  {
   "cell_type": "code",
   "execution_count": 5,
   "metadata": {},
   "outputs": [],
   "source": [
    "import cellot.models\n",
    "from cellot.data.cell import load_cell_data\n",
    "\n",
    "\n",
    "def load_data(config, **kwargs):\n",
    "    data_type = config.get(\"data.type\", \"cell\")\n",
    "    if data_type in [\"cell\", \"cell-merged\", \"tupro-cohort\"]:\n",
    "        loadfxn = load_cell_data\n",
    "\n",
    "    elif data_type == \"toy\":\n",
    "        loadfxn = load_toy_data\n",
    "\n",
    "    else:\n",
    "        raise ValueError\n",
    "\n",
    "    return loadfxn(config, **kwargs)\n",
    "\n",
    "\n",
    "def load_model(config, restore=None, **kwargs):\n",
    "    name = config.model.name\n",
    "    if name == \"cellot\":\n",
    "        loadfxn = cellot.models.load_cellot_model\n",
    "\n",
    "    elif name == \"scgen\":\n",
    "        loadfxn = cellot.models.load_autoencoder_model\n",
    "\n",
    "    elif name == \"cae\":\n",
    "        loadfxn = cellot.models.load_autoencoder_model\n",
    "\n",
    "    elif name == \"popalign\":\n",
    "        loadfxn = cellot.models.load_popalign_model\n",
    "\n",
    "    else:\n",
    "        raise ValueError\n",
    "\n",
    "    return loadfxn(config, restore=restore, **kwargs)\n",
    "\n",
    "\n",
    "def load(config, restore=None, include_model_kwargs=False, **kwargs):\n",
    "\n",
    "    loader, model_kwargs = load_data(config, include_model_kwargs=True, **kwargs)\n",
    "\n",
    "    model, opt = load_model(config, restore=restore, **model_kwargs)\n",
    "\n",
    "    if include_model_kwargs:\n",
    "        return model, opt, loader, model_kwargs\n",
    "\n",
    "    return model, opt, loader"
   ]
  },
  {
   "attachments": {},
   "cell_type": "markdown",
   "metadata": {},
   "source": [
    "### Training"
   ]
  },
  {
   "cell_type": "code",
   "execution_count": 6,
   "metadata": {},
   "outputs": [],
   "source": [
    "def train_auto_encoder(outdir, config):\n",
    "    def state_dict(model, optim, **kwargs):\n",
    "        state = {\n",
    "            \"model_state\": model.state_dict(),\n",
    "            \"optim_state\": optim.state_dict(),\n",
    "        }\n",
    "\n",
    "        if hasattr(model, \"code_means\"):\n",
    "            state[\"code_means\"] = model.code_means\n",
    "\n",
    "        state.update(kwargs)\n",
    "\n",
    "        return state\n",
    "\n",
    "    def evaluate(vinputs):\n",
    "        with torch.no_grad():\n",
    "            loss, comps, _ = model(vinputs)\n",
    "            loss = loss.mean()\n",
    "            comps = {k: v.mean().item() for k, v in comps._asdict().items()}\n",
    "            check_loss(loss)\n",
    "            logger.log(\"eval\", loss=loss.item(), step=step, **comps)\n",
    "        return loss\n",
    "\n",
    "    logger = Logger(outdir / \"cache/scalars\")\n",
    "    cachedir = outdir / \"cache\"\n",
    "    model, optim, loader = load(config, restore=cachedir / \"last.pt\")\n",
    "\n",
    "    iterator = cast_loader_to_iterator(loader, cycle_all=True)\n",
    "    scheduler = load_lr_scheduler(optim, config)\n",
    "\n",
    "    n_iters = config.training.n_iters\n",
    "    step = load_item_from_save(cachedir / \"last.pt\", \"step\", 0)\n",
    "    if scheduler is not None and step > 0:\n",
    "        scheduler.last_epoch = step\n",
    "\n",
    "    best_eval_loss = load_item_from_save(\n",
    "        cachedir / \"model.pt\", \"best_eval_loss\", np.inf\n",
    "    )\n",
    "\n",
    "    eval_loss = best_eval_loss\n",
    "\n",
    "    ticker = trange(step, n_iters, initial=step, total=n_iters)\n",
    "    for step in ticker:\n",
    "\n",
    "        model.train()\n",
    "        inputs = next(iterator.train)\n",
    "        optim.zero_grad()\n",
    "        loss, comps, _ = model(inputs)\n",
    "        loss = loss.mean()\n",
    "        comps = {k: v.mean().item() for k, v in comps._asdict().items()}\n",
    "        loss.backward()\n",
    "        optim.step()\n",
    "        check_loss(loss)\n",
    "\n",
    "        if step % config.training.logs_freq == 0:\n",
    "            # log to logger object\n",
    "            logger.log(\"train\", loss=loss.item(), step=step, **comps)\n",
    "\n",
    "        if step % config.training.eval_freq == 0:\n",
    "            model.eval()\n",
    "            eval_loss = evaluate(next(iterator.test))\n",
    "            if eval_loss < best_eval_loss:\n",
    "                best_eval_loss = eval_loss\n",
    "                sd = state_dict(model, optim, step=(step + 1), eval_loss=eval_loss)\n",
    "\n",
    "                torch.save(sd, cachedir / \"model.pt\")\n",
    "\n",
    "        if step % config.training.cache_freq == 0:\n",
    "            torch.save(state_dict(model, optim, step=(step + 1)), cachedir / \"last.pt\")\n",
    "\n",
    "            logger.flush()\n",
    "\n",
    "        if scheduler is not None:\n",
    "            scheduler.step()\n",
    "\n",
    "    if config.model.name == \"scgen\" and config.get(\"compute_scgen_shift\", True):\n",
    "        labels = loader.train.dataset.adata.obs[config.data.condition]\n",
    "        compute_scgen_shift(model, loader.train.dataset, labels=labels)\n",
    "\n",
    "    torch.save(state_dict(model, optim, step=step), cachedir / \"last.pt\")\n",
    "\n",
    "    logger.flush()"
   ]
  },
  {
   "attachments": {},
   "cell_type": "markdown",
   "metadata": {},
   "source": [
    "### Outdir"
   ]
  },
  {
   "cell_type": "code",
   "execution_count": 10,
   "metadata": {},
   "outputs": [],
   "source": [
    "import torch\n",
    "import GPUtil\n",
    "import os\n",
    "\n",
    "def get_free_gpu():\n",
    "    device = 'cuda' if torch.cuda.is_available() else 'cpu'\n",
    "    print(device)\n",
    "    # Set environment variables for which GPUs to use.\n",
    "    os.environ[\"CUDA_DEVICE_ORDER\"] = \"PCI_BUS_ID\"\n",
    "    chosen_gpu = ''.join(\n",
    "        [str(x) for x in GPUtil.getAvailable(order='memory')])\n",
    "    os.environ[\"CUDA_VISIBLE_DEVICES\"] = chosen_gpu\n",
    "    print(f\"Using GPUs: {chosen_gpu}\")\n",
    "    return chosen_gpu"
   ]
  },
  {
   "cell_type": "code",
   "execution_count": 11,
   "metadata": {},
   "outputs": [
    {
     "name": "stdout",
     "output_type": "stream",
     "text": [
      "cuda\n",
      "Using GPUs: 1\n"
     ]
    }
   ],
   "source": [
    "device = f'cuda:{get_free_gpu()}'"
   ]
  },
  {
   "cell_type": "code",
   "execution_count": 12,
   "metadata": {},
   "outputs": [],
   "source": [
    "our_ae_sd = torch.load('/Mounts/rbg-storage1/users/johnyang/cellot/results/sciplex3/full_ae/cache/model.pt', map_location=device)"
   ]
  },
  {
   "cell_type": "code",
   "execution_count": 13,
   "metadata": {},
   "outputs": [],
   "source": [
    "from pathlib import Path\n",
    "outdir_path = '/Mounts/rbg-storage1/users/johnyang/cellot/results/sciplex3/full_ae'\n",
    "outdir = Path(outdir_path)"
   ]
  },
  {
   "cell_type": "code",
   "execution_count": 15,
   "metadata": {},
   "outputs": [],
   "source": [
    "from tqdm import tqdm"
   ]
  },
  {
   "cell_type": "code",
   "execution_count": 16,
   "metadata": {},
   "outputs": [
    {
     "name": "stderr",
     "output_type": "stream",
     "text": [
      "2023-06-23 11:11:34,456 Loaded cell data with TARGET all and OBS SHAPE (762039, 16)\n",
      "/tmp/ipykernel_2939940/847900366.py:20: DeprecationWarning: The 'warn' function is deprecated, use 'warning' instead\n",
      "  logging.warn(f\"'{key}' not found in ckpt: {str(path)}\")\n",
      "2023-06-23 11:11:41,242 'best_eval_loss' not found in ckpt: /Mounts/rbg-storage1/users/johnyang/cellot/results/sciplex3/full_ae/cache/model.pt\n",
      "17it [00:00, 84.19it/s]"
     ]
    },
    {
     "name": "stdout",
     "output_type": "stream",
     "text": [
      "tensor(0.0860)\n",
      "tensor(0.0804)\n",
      "tensor(0.0832)\n",
      "tensor(0.0882)\n",
      "tensor(0.0783)\n",
      "tensor(0.0766)\n",
      "tensor(0.0800)\n",
      "tensor(0.0953)\n",
      "tensor(0.0757)\n",
      "tensor(0.0959)\n",
      "tensor(0.0762)\n",
      "tensor(0.0791)\n",
      "tensor(0.0719)\n",
      "tensor(0.0879)\n",
      "tensor(0.0803)\n",
      "tensor(0.0721)\n",
      "tensor(0.0778)\n",
      "tensor(0.0788)\n",
      "tensor(0.0848)\n",
      "tensor(0.0878)\n"
     ]
    },
    {
     "name": "stderr",
     "output_type": "stream",
     "text": [
      "35it [00:00, 85.72it/s]"
     ]
    },
    {
     "name": "stdout",
     "output_type": "stream",
     "text": [
      "tensor(0.0724)\n",
      "tensor(0.0868)\n",
      "tensor(0.0891)\n",
      "tensor(0.0806)\n",
      "tensor(0.0797)\n",
      "tensor(0.0769)\n",
      "tensor(0.0789)\n",
      "tensor(0.0867)\n",
      "tensor(0.0768)\n",
      "tensor(0.0826)\n",
      "tensor(0.0850)\n",
      "tensor(0.0835)\n",
      "tensor(0.0837)\n",
      "tensor(0.0712)\n",
      "tensor(0.0701)\n",
      "tensor(0.0794)\n",
      "tensor(0.0864)\n",
      "tensor(0.0797)\n"
     ]
    },
    {
     "name": "stderr",
     "output_type": "stream",
     "text": [
      "54it [00:00, 88.34it/s]"
     ]
    },
    {
     "name": "stdout",
     "output_type": "stream",
     "text": [
      "tensor(0.0849)\n",
      "tensor(0.0817)\n",
      "tensor(0.0789)\n",
      "tensor(0.0860)\n",
      "tensor(0.0742)\n",
      "tensor(0.0759)\n",
      "tensor(0.0840)\n",
      "tensor(0.0768)\n",
      "tensor(0.0861)\n",
      "tensor(0.0791)\n",
      "tensor(0.0884)\n",
      "tensor(0.0838)\n",
      "tensor(0.0821)\n",
      "tensor(0.0796)\n",
      "tensor(0.0719)\n",
      "tensor(0.0837)\n",
      "tensor(0.0817)\n",
      "tensor(0.0746)\n",
      "tensor(0.0816)\n"
     ]
    },
    {
     "name": "stderr",
     "output_type": "stream",
     "text": [
      "74it [00:00, 90.55it/s]"
     ]
    },
    {
     "name": "stdout",
     "output_type": "stream",
     "text": [
      "tensor(0.0780)\n",
      "tensor(0.0863)\n",
      "tensor(0.0687)\n",
      "tensor(0.0766)\n",
      "tensor(0.0778)\n",
      "tensor(0.0870)\n",
      "tensor(0.0837)\n",
      "tensor(0.0824)\n",
      "tensor(0.0972)\n",
      "tensor(0.0909)\n",
      "tensor(0.0817)\n",
      "tensor(0.0886)\n",
      "tensor(0.0777)\n",
      "tensor(0.0778)\n",
      "tensor(0.0879)\n",
      "tensor(0.0753)\n",
      "tensor(0.0849)\n",
      "tensor(0.0808)\n",
      "tensor(0.0865)\n"
     ]
    },
    {
     "name": "stderr",
     "output_type": "stream",
     "text": [
      "94it [00:01, 92.33it/s]"
     ]
    },
    {
     "name": "stdout",
     "output_type": "stream",
     "text": [
      "tensor(0.0829)\n",
      "tensor(0.0812)\n",
      "tensor(0.0786)\n",
      "tensor(0.0805)\n",
      "tensor(0.0857)\n",
      "tensor(0.0766)\n",
      "tensor(0.0739)\n",
      "tensor(0.0771)\n",
      "tensor(0.0820)\n",
      "tensor(0.0829)\n",
      "tensor(0.0798)\n",
      "tensor(0.0798)\n",
      "tensor(0.0825)\n",
      "tensor(0.0802)\n",
      "tensor(0.0921)\n",
      "tensor(0.0809)\n",
      "tensor(0.0827)\n",
      "tensor(0.0847)\n",
      "tensor(0.0866)\n",
      "tensor(0.0803)\n"
     ]
    },
    {
     "name": "stderr",
     "output_type": "stream",
     "text": [
      "114it [00:01, 94.52it/s]"
     ]
    },
    {
     "name": "stdout",
     "output_type": "stream",
     "text": [
      "tensor(0.0823)\n",
      "tensor(0.0803)\n",
      "tensor(0.0828)\n",
      "tensor(0.0776)\n",
      "tensor(0.0762)\n",
      "tensor(0.0829)\n",
      "tensor(0.0808)\n",
      "tensor(0.0842)\n",
      "tensor(0.0807)\n",
      "tensor(0.0845)\n",
      "tensor(0.0846)\n",
      "tensor(0.0872)\n",
      "tensor(0.0758)\n",
      "tensor(0.0795)\n",
      "tensor(0.0799)\n",
      "tensor(0.0796)\n",
      "tensor(0.0846)\n",
      "tensor(0.0848)\n",
      "tensor(0.0866)\n",
      "tensor(0.0838)\n"
     ]
    },
    {
     "name": "stderr",
     "output_type": "stream",
     "text": [
      "134it [00:01, 94.09it/s]"
     ]
    },
    {
     "name": "stdout",
     "output_type": "stream",
     "text": [
      "tensor(0.0698)\n",
      "tensor(0.0878)\n",
      "tensor(0.0744)\n",
      "tensor(0.0771)\n",
      "tensor(0.0760)\n",
      "tensor(0.0793)\n",
      "tensor(0.0782)\n",
      "tensor(0.0809)\n",
      "tensor(0.0899)\n",
      "tensor(0.0795)\n",
      "tensor(0.0780)\n",
      "tensor(0.0802)\n",
      "tensor(0.0742)\n",
      "tensor(0.0871)\n",
      "tensor(0.0758)\n",
      "tensor(0.0776)\n",
      "tensor(0.0812)\n",
      "tensor(0.0826)\n",
      "tensor(0.0861)\n"
     ]
    },
    {
     "name": "stderr",
     "output_type": "stream",
     "text": [
      "154it [00:01, 94.16it/s]"
     ]
    },
    {
     "name": "stdout",
     "output_type": "stream",
     "text": [
      "tensor(0.0848)\n",
      "tensor(0.0895)\n",
      "tensor(0.0826)\n",
      "tensor(0.0775)\n",
      "tensor(0.0786)\n",
      "tensor(0.0863)\n",
      "tensor(0.0786)\n",
      "tensor(0.0841)\n",
      "tensor(0.0830)\n",
      "tensor(0.0805)\n",
      "tensor(0.0731)\n",
      "tensor(0.0836)\n",
      "tensor(0.0702)\n",
      "tensor(0.0822)\n",
      "tensor(0.0781)\n",
      "tensor(0.0810)\n",
      "tensor(0.0757)\n",
      "tensor(0.0801)\n",
      "tensor(0.0804)\n"
     ]
    },
    {
     "name": "stderr",
     "output_type": "stream",
     "text": [
      "174it [00:01, 95.91it/s]"
     ]
    },
    {
     "name": "stdout",
     "output_type": "stream",
     "text": [
      "tensor(0.0877)\n",
      "tensor(0.0825)\n",
      "tensor(0.0923)\n",
      "tensor(0.0764)\n",
      "tensor(0.0835)\n",
      "tensor(0.0818)\n",
      "tensor(0.0890)\n",
      "tensor(0.0738)\n",
      "tensor(0.0781)\n",
      "tensor(0.0818)\n",
      "tensor(0.0728)\n",
      "tensor(0.0788)\n",
      "tensor(0.0749)\n",
      "tensor(0.0810)\n",
      "tensor(0.0777)\n",
      "tensor(0.0742)\n",
      "tensor(0.0797)\n",
      "tensor(0.0821)\n",
      "tensor(0.0803)\n",
      "tensor(0.0784)\n"
     ]
    },
    {
     "name": "stderr",
     "output_type": "stream",
     "text": [
      "194it [00:02, 96.34it/s]"
     ]
    },
    {
     "name": "stdout",
     "output_type": "stream",
     "text": [
      "tensor(0.0729)\n",
      "tensor(0.0828)\n",
      "tensor(0.0819)\n",
      "tensor(0.0778)\n",
      "tensor(0.0796)\n",
      "tensor(0.0858)\n",
      "tensor(0.0757)\n",
      "tensor(0.0740)\n",
      "tensor(0.0817)\n",
      "tensor(0.0893)\n",
      "tensor(0.0833)\n",
      "tensor(0.0793)\n",
      "tensor(0.0800)\n",
      "tensor(0.0755)\n",
      "tensor(0.0769)\n",
      "tensor(0.0745)\n",
      "tensor(0.0907)\n",
      "tensor(0.0815)\n",
      "tensor(0.0748)\n",
      "tensor(0.0916)\n"
     ]
    },
    {
     "name": "stderr",
     "output_type": "stream",
     "text": [
      "215it [00:02, 98.03it/s]"
     ]
    },
    {
     "name": "stdout",
     "output_type": "stream",
     "text": [
      "tensor(0.0842)\n",
      "tensor(0.0847)\n",
      "tensor(0.0766)\n",
      "tensor(0.0798)\n",
      "tensor(0.0799)\n",
      "tensor(0.0826)\n",
      "tensor(0.0825)\n",
      "tensor(0.0859)\n",
      "tensor(0.0828)\n",
      "tensor(0.0814)\n",
      "tensor(0.0779)\n",
      "tensor(0.0831)\n",
      "tensor(0.0826)\n",
      "tensor(0.0789)\n",
      "tensor(0.0883)\n",
      "tensor(0.0804)\n",
      "tensor(0.0865)\n",
      "tensor(0.0861)\n",
      "tensor(0.0818)\n",
      "tensor(0.0763)\n",
      "tensor(0.0853)\n"
     ]
    },
    {
     "name": "stderr",
     "output_type": "stream",
     "text": [
      "225it [00:02, 93.12it/s]"
     ]
    },
    {
     "name": "stdout",
     "output_type": "stream",
     "text": [
      "tensor(0.0798)\n",
      "tensor(0.0832)\n",
      "tensor(0.0757)\n",
      "tensor(0.0794)\n",
      "tensor(0.0809)\n",
      "tensor(0.0848)\n",
      "tensor(0.0733)\n",
      "tensor(0.0782)\n",
      "tensor(0.0751)\n",
      "tensor(0.0780)\n",
      "tensor(0.0828)\n",
      "tensor(0.0825)\n",
      "tensor(0.0869)\n",
      "tensor(0.0847)\n",
      "tensor(0.0940)\n",
      "tensor(0.0745)\n",
      "tensor(0.0857)\n",
      "tensor(0.0778)\n"
     ]
    },
    {
     "name": "stderr",
     "output_type": "stream",
     "text": [
      "245it [00:02, 92.48it/s]"
     ]
    },
    {
     "name": "stdout",
     "output_type": "stream",
     "text": [
      "tensor(0.0830)\n",
      "tensor(0.0930)\n",
      "tensor(0.0843)\n",
      "tensor(0.0806)\n",
      "tensor(0.0817)\n",
      "tensor(0.0888)\n",
      "tensor(0.0782)\n",
      "tensor(0.0840)\n",
      "tensor(0.0745)\n",
      "tensor(0.0812)\n",
      "tensor(0.0857)\n",
      "tensor(0.0754)\n",
      "tensor(0.0785)\n",
      "tensor(0.0645)\n",
      "tensor(0.0783)\n",
      "tensor(0.0818)\n",
      "tensor(0.0818)\n",
      "tensor(0.0885)\n",
      "tensor(0.0817)\n"
     ]
    },
    {
     "name": "stderr",
     "output_type": "stream",
     "text": [
      "265it [00:02, 92.55it/s]"
     ]
    },
    {
     "name": "stdout",
     "output_type": "stream",
     "text": [
      "tensor(0.0874)\n",
      "tensor(0.0756)\n",
      "tensor(0.0885)\n",
      "tensor(0.0777)\n",
      "tensor(0.0757)\n",
      "tensor(0.0812)\n",
      "tensor(0.0774)\n",
      "tensor(0.0849)\n",
      "tensor(0.0756)\n",
      "tensor(0.0778)\n",
      "tensor(0.0786)\n",
      "tensor(0.0839)\n",
      "tensor(0.0818)\n",
      "tensor(0.0824)\n",
      "tensor(0.0799)\n",
      "tensor(0.0838)\n",
      "tensor(0.0838)\n",
      "tensor(0.0843)\n",
      "tensor(0.0813)\n"
     ]
    },
    {
     "name": "stderr",
     "output_type": "stream",
     "text": [
      "285it [00:03, 89.64it/s]"
     ]
    },
    {
     "name": "stdout",
     "output_type": "stream",
     "text": [
      "tensor(0.0921)\n",
      "tensor(0.0791)\n",
      "tensor(0.0829)\n",
      "tensor(0.0887)\n",
      "tensor(0.0774)\n",
      "tensor(0.0881)\n",
      "tensor(0.0779)\n",
      "tensor(0.0828)\n",
      "tensor(0.0769)\n",
      "tensor(0.0821)\n",
      "tensor(0.0772)\n",
      "tensor(0.0922)\n",
      "tensor(0.0834)\n",
      "tensor(0.0816)\n",
      "tensor(0.0879)\n",
      "tensor(0.0730)\n",
      "tensor(0.0727)\n"
     ]
    },
    {
     "name": "stderr",
     "output_type": "stream",
     "text": [
      "304it [00:03, 90.01it/s]"
     ]
    },
    {
     "name": "stdout",
     "output_type": "stream",
     "text": [
      "tensor(0.0849)\n",
      "tensor(0.0771)\n",
      "tensor(0.0754)\n",
      "tensor(0.0808)\n",
      "tensor(0.0773)\n",
      "tensor(0.0867)\n",
      "tensor(0.0800)\n",
      "tensor(0.0839)\n",
      "tensor(0.0757)\n",
      "tensor(0.0872)\n",
      "tensor(0.0757)\n",
      "tensor(0.0830)\n",
      "tensor(0.0812)\n",
      "tensor(0.0832)\n",
      "tensor(0.0803)\n",
      "tensor(0.0823)\n",
      "tensor(0.0839)\n",
      "tensor(0.0768)\n",
      "tensor(0.0900)\n"
     ]
    },
    {
     "name": "stderr",
     "output_type": "stream",
     "text": [
      "324it [00:03, 91.37it/s]"
     ]
    },
    {
     "name": "stdout",
     "output_type": "stream",
     "text": [
      "tensor(0.0812)\n",
      "tensor(0.0784)\n",
      "tensor(0.0734)\n",
      "tensor(0.0816)\n",
      "tensor(0.0807)\n",
      "tensor(0.0777)\n",
      "tensor(0.0700)\n",
      "tensor(0.0794)\n",
      "tensor(0.0854)\n",
      "tensor(0.0787)\n",
      "tensor(0.0778)\n",
      "tensor(0.0854)\n",
      "tensor(0.0788)\n",
      "tensor(0.0822)\n",
      "tensor(0.0747)\n",
      "tensor(0.0861)\n",
      "tensor(0.0826)\n",
      "tensor(0.0846)\n",
      "tensor(0.0833)\n"
     ]
    },
    {
     "name": "stderr",
     "output_type": "stream",
     "text": [
      "343it [00:03, 88.92it/s]"
     ]
    },
    {
     "name": "stdout",
     "output_type": "stream",
     "text": [
      "tensor(0.0749)\n",
      "tensor(0.0774)\n",
      "tensor(0.0779)\n",
      "tensor(0.0762)\n",
      "tensor(0.0808)\n",
      "tensor(0.0808)\n",
      "tensor(0.0882)\n",
      "tensor(0.0851)\n",
      "tensor(0.0810)\n",
      "tensor(0.0807)\n",
      "tensor(0.0802)\n",
      "tensor(0.0752)\n",
      "tensor(0.0939)\n",
      "tensor(0.0869)\n",
      "tensor(0.0759)\n",
      "tensor(0.0856)\n",
      "tensor(0.0840)\n"
     ]
    },
    {
     "name": "stderr",
     "output_type": "stream",
     "text": [
      "352it [00:03, 84.95it/s]"
     ]
    },
    {
     "name": "stdout",
     "output_type": "stream",
     "text": [
      "tensor(0.0828)\n",
      "tensor(0.0805)\n",
      "tensor(0.0854)\n",
      "tensor(0.0769)\n",
      "tensor(0.0780)\n",
      "tensor(0.0704)\n",
      "tensor(0.0774)\n",
      "tensor(0.0844)\n",
      "tensor(0.0841)\n",
      "tensor(0.0815)\n",
      "tensor(0.0915)\n",
      "tensor(0.0826)\n",
      "tensor(0.0810)\n",
      "tensor(0.0808)\n",
      "tensor(0.0746)\n",
      "tensor(0.0780)\n",
      "tensor(0.0817)\n"
     ]
    },
    {
     "name": "stderr",
     "output_type": "stream",
     "text": [
      "370it [00:04, 84.51it/s]"
     ]
    },
    {
     "name": "stdout",
     "output_type": "stream",
     "text": [
      "tensor(0.0826)\n",
      "tensor(0.0737)\n",
      "tensor(0.0895)\n",
      "tensor(0.0853)\n",
      "tensor(0.0781)\n",
      "tensor(0.0744)\n",
      "tensor(0.0707)\n",
      "tensor(0.0857)\n",
      "tensor(0.0726)\n",
      "tensor(0.0771)\n",
      "tensor(0.0769)\n",
      "tensor(0.0827)\n",
      "tensor(0.0881)\n",
      "tensor(0.0787)\n",
      "tensor(0.0811)\n",
      "tensor(0.0790)\n",
      "tensor(0.0753)\n",
      "tensor(0.0779)\n"
     ]
    },
    {
     "name": "stderr",
     "output_type": "stream",
     "text": [
      "388it [00:04, 85.82it/s]"
     ]
    },
    {
     "name": "stdout",
     "output_type": "stream",
     "text": [
      "tensor(0.0858)\n",
      "tensor(0.0802)\n",
      "tensor(0.0759)\n",
      "tensor(0.0817)\n",
      "tensor(0.0735)\n",
      "tensor(0.0710)\n",
      "tensor(0.0749)\n",
      "tensor(0.0875)\n",
      "tensor(0.0857)\n",
      "tensor(0.0798)\n",
      "tensor(0.0828)\n",
      "tensor(0.0793)\n",
      "tensor(0.0721)\n",
      "tensor(0.0799)\n",
      "tensor(0.0813)\n",
      "tensor(0.0775)\n",
      "tensor(0.0782)\n",
      "tensor(0.0850)\n"
     ]
    },
    {
     "name": "stderr",
     "output_type": "stream",
     "text": [
      "406it [00:04, 86.47it/s]"
     ]
    },
    {
     "name": "stdout",
     "output_type": "stream",
     "text": [
      "tensor(0.0827)\n",
      "tensor(0.0812)\n",
      "tensor(0.0890)\n",
      "tensor(0.0816)\n",
      "tensor(0.0774)\n",
      "tensor(0.0751)\n",
      "tensor(0.0799)\n",
      "tensor(0.0770)\n",
      "tensor(0.0834)\n",
      "tensor(0.0824)\n",
      "tensor(0.0768)\n",
      "tensor(0.0779)\n",
      "tensor(0.0747)\n",
      "tensor(0.0882)\n",
      "tensor(0.0796)\n",
      "tensor(0.0782)\n",
      "tensor(0.0759)\n",
      "tensor(0.0766)\n"
     ]
    },
    {
     "name": "stderr",
     "output_type": "stream",
     "text": [
      "424it [00:04, 85.83it/s]"
     ]
    },
    {
     "name": "stdout",
     "output_type": "stream",
     "text": [
      "tensor(0.0784)\n",
      "tensor(0.0746)\n",
      "tensor(0.0800)\n",
      "tensor(0.0838)\n",
      "tensor(0.0874)\n",
      "tensor(0.0860)\n",
      "tensor(0.0856)\n",
      "tensor(0.0768)\n",
      "tensor(0.0852)\n",
      "tensor(0.0861)\n",
      "tensor(0.0827)\n",
      "tensor(0.0922)\n",
      "tensor(0.0796)\n",
      "tensor(0.0830)\n",
      "tensor(0.0789)\n",
      "tensor(0.0899)\n",
      "tensor(0.0857)\n"
     ]
    },
    {
     "name": "stderr",
     "output_type": "stream",
     "text": [
      "442it [00:04, 84.98it/s]"
     ]
    },
    {
     "name": "stdout",
     "output_type": "stream",
     "text": [
      "tensor(0.0864)\n",
      "tensor(0.0884)\n",
      "tensor(0.0793)\n",
      "tensor(0.0779)\n",
      "tensor(0.0801)\n",
      "tensor(0.0915)\n",
      "tensor(0.0832)\n",
      "tensor(0.0837)\n",
      "tensor(0.0880)\n",
      "tensor(0.0848)\n",
      "tensor(0.0874)\n",
      "tensor(0.0770)\n",
      "tensor(0.0804)\n",
      "tensor(0.0790)\n",
      "tensor(0.0816)\n",
      "tensor(0.0827)\n",
      "tensor(0.0803)\n",
      "tensor(0.0696)\n"
     ]
    },
    {
     "name": "stderr",
     "output_type": "stream",
     "text": [
      "460it [00:05, 86.11it/s]"
     ]
    },
    {
     "name": "stdout",
     "output_type": "stream",
     "text": [
      "tensor(0.0835)\n",
      "tensor(0.0804)\n",
      "tensor(0.0879)\n",
      "tensor(0.0788)\n",
      "tensor(0.0803)\n",
      "tensor(0.0766)\n",
      "tensor(0.0809)\n",
      "tensor(0.0845)\n",
      "tensor(0.0835)\n",
      "tensor(0.0815)\n",
      "tensor(0.0794)\n",
      "tensor(0.0715)\n",
      "tensor(0.0845)\n",
      "tensor(0.0897)\n",
      "tensor(0.0894)\n",
      "tensor(0.0873)\n",
      "tensor(0.0737)\n",
      "tensor(0.0789)\n"
     ]
    },
    {
     "name": "stderr",
     "output_type": "stream",
     "text": [
      "478it [00:05, 86.61it/s]"
     ]
    },
    {
     "name": "stdout",
     "output_type": "stream",
     "text": [
      "tensor(0.0809)\n",
      "tensor(0.0804)\n",
      "tensor(0.0838)\n",
      "tensor(0.0790)\n",
      "tensor(0.0848)\n",
      "tensor(0.0865)\n",
      "tensor(0.0797)\n",
      "tensor(0.0843)\n",
      "tensor(0.0770)\n",
      "tensor(0.0792)\n",
      "tensor(0.0881)\n",
      "tensor(0.0809)\n",
      "tensor(0.0814)\n",
      "tensor(0.0833)\n",
      "tensor(0.0805)\n",
      "tensor(0.0816)\n",
      "tensor(0.0833)\n",
      "tensor(0.0829)\n"
     ]
    },
    {
     "name": "stderr",
     "output_type": "stream",
     "text": [
      "497it [00:05, 87.80it/s]"
     ]
    },
    {
     "name": "stdout",
     "output_type": "stream",
     "text": [
      "tensor(0.0829)\n",
      "tensor(0.0803)\n",
      "tensor(0.0771)\n",
      "tensor(0.0799)\n",
      "tensor(0.0811)\n",
      "tensor(0.0731)\n",
      "tensor(0.0810)\n",
      "tensor(0.0889)\n",
      "tensor(0.0833)\n",
      "tensor(0.0842)\n",
      "tensor(0.0742)\n",
      "tensor(0.0784)\n",
      "tensor(0.0826)\n",
      "tensor(0.0881)\n",
      "tensor(0.0843)\n",
      "tensor(0.0854)\n",
      "tensor(0.0788)\n",
      "tensor(0.0912)\n"
     ]
    },
    {
     "name": "stderr",
     "output_type": "stream",
     "text": [
      "515it [00:05, 86.92it/s]"
     ]
    },
    {
     "name": "stdout",
     "output_type": "stream",
     "text": [
      "tensor(0.0832)\n",
      "tensor(0.0799)\n",
      "tensor(0.0727)\n",
      "tensor(0.0794)\n",
      "tensor(0.0693)\n",
      "tensor(0.0810)\n",
      "tensor(0.0731)\n",
      "tensor(0.0817)\n",
      "tensor(0.0778)\n",
      "tensor(0.0819)\n",
      "tensor(0.0826)\n",
      "tensor(0.0796)\n",
      "tensor(0.0860)\n",
      "tensor(0.0737)\n",
      "tensor(0.0786)\n",
      "tensor(0.0790)\n",
      "tensor(0.0792)\n",
      "tensor(0.0769)\n"
     ]
    },
    {
     "name": "stderr",
     "output_type": "stream",
     "text": [
      "533it [00:05, 86.27it/s]"
     ]
    },
    {
     "name": "stdout",
     "output_type": "stream",
     "text": [
      "tensor(0.0792)\n",
      "tensor(0.0793)\n",
      "tensor(0.0845)\n",
      "tensor(0.0922)\n",
      "tensor(0.0854)\n",
      "tensor(0.0851)\n",
      "tensor(0.0847)\n",
      "tensor(0.0857)\n",
      "tensor(0.0784)\n",
      "tensor(0.0779)\n",
      "tensor(0.0823)\n",
      "tensor(0.0791)\n",
      "tensor(0.0836)\n",
      "tensor(0.0841)\n",
      "tensor(0.0770)\n",
      "tensor(0.0805)\n",
      "tensor(0.0782)\n"
     ]
    },
    {
     "name": "stderr",
     "output_type": "stream",
     "text": [
      "551it [00:06, 85.76it/s]"
     ]
    },
    {
     "name": "stdout",
     "output_type": "stream",
     "text": [
      "tensor(0.0875)\n",
      "tensor(0.0748)\n",
      "tensor(0.0846)\n",
      "tensor(0.0861)\n",
      "tensor(0.0878)\n",
      "tensor(0.0815)\n",
      "tensor(0.0832)\n",
      "tensor(0.0907)\n",
      "tensor(0.0802)\n",
      "tensor(0.0899)\n",
      "tensor(0.0761)\n",
      "tensor(0.0815)\n",
      "tensor(0.0858)\n",
      "tensor(0.0749)\n",
      "tensor(0.0797)\n",
      "tensor(0.0794)\n",
      "tensor(0.0758)\n",
      "tensor(0.0805)\n",
      "tensor(0.0802)\n"
     ]
    },
    {
     "name": "stderr",
     "output_type": "stream",
     "text": [
      "569it [00:06, 85.76it/s]"
     ]
    },
    {
     "name": "stdout",
     "output_type": "stream",
     "text": [
      "tensor(0.0765)\n",
      "tensor(0.0829)\n",
      "tensor(0.0848)\n",
      "tensor(0.0755)\n",
      "tensor(0.0731)\n",
      "tensor(0.0805)\n",
      "tensor(0.0705)\n",
      "tensor(0.0812)\n",
      "tensor(0.0763)\n",
      "tensor(0.0851)\n",
      "tensor(0.0848)\n",
      "tensor(0.0808)\n",
      "tensor(0.0856)\n",
      "tensor(0.0779)\n",
      "tensor(0.0732)\n",
      "tensor(0.0821)\n",
      "tensor(0.0775)\n",
      "tensor(0.0811)\n"
     ]
    },
    {
     "name": "stderr",
     "output_type": "stream",
     "text": [
      "588it [00:06, 89.13it/s]"
     ]
    },
    {
     "name": "stdout",
     "output_type": "stream",
     "text": [
      "tensor(0.0873)\n",
      "tensor(0.0790)\n",
      "tensor(0.0746)\n",
      "tensor(0.0801)\n",
      "tensor(0.0790)\n",
      "tensor(0.0804)\n",
      "tensor(0.0796)\n",
      "tensor(0.0757)\n",
      "tensor(0.0825)\n",
      "tensor(0.0822)\n",
      "tensor(0.0823)\n",
      "tensor(0.0784)\n",
      "tensor(0.0819)\n",
      "tensor(0.0756)\n",
      "tensor(0.0812)\n",
      "tensor(0.0780)\n",
      "tensor(0.0776)\n",
      "tensor(0.0884)\n",
      "tensor(0.0798)\n"
     ]
    },
    {
     "name": "stderr",
     "output_type": "stream",
     "text": [
      "606it [00:06, 83.68it/s]"
     ]
    },
    {
     "name": "stdout",
     "output_type": "stream",
     "text": [
      "tensor(0.0833)\n",
      "tensor(0.0804)\n",
      "tensor(0.0746)\n",
      "tensor(0.0743)\n",
      "tensor(0.0789)\n",
      "tensor(0.0793)\n",
      "tensor(0.0839)\n",
      "tensor(0.0721)\n",
      "tensor(0.0824)\n",
      "tensor(0.0768)\n",
      "tensor(0.0779)\n",
      "tensor(0.0845)\n",
      "tensor(0.0753)\n",
      "tensor(0.0756)\n",
      "tensor(0.0735)\n",
      "tensor(0.0844)\n"
     ]
    },
    {
     "name": "stderr",
     "output_type": "stream",
     "text": [
      "625it [00:07, 85.43it/s]"
     ]
    },
    {
     "name": "stdout",
     "output_type": "stream",
     "text": [
      "tensor(0.0790)\n",
      "tensor(0.0779)\n",
      "tensor(0.0737)\n",
      "tensor(0.0758)\n",
      "tensor(0.0774)\n",
      "tensor(0.0811)\n",
      "tensor(0.0794)\n",
      "tensor(0.0802)\n",
      "tensor(0.0768)\n",
      "tensor(0.0911)\n",
      "tensor(0.0777)\n",
      "tensor(0.0840)\n",
      "tensor(0.0776)\n",
      "tensor(0.0801)\n",
      "tensor(0.0773)\n",
      "tensor(0.0883)\n",
      "tensor(0.0800)\n",
      "tensor(0.0771)\n"
     ]
    },
    {
     "name": "stderr",
     "output_type": "stream",
     "text": [
      "644it [00:07, 87.43it/s]"
     ]
    },
    {
     "name": "stdout",
     "output_type": "stream",
     "text": [
      "tensor(0.0813)\n",
      "tensor(0.0846)\n",
      "tensor(0.0745)\n",
      "tensor(0.0786)\n",
      "tensor(0.0750)\n",
      "tensor(0.0796)\n",
      "tensor(0.0786)\n",
      "tensor(0.0768)\n",
      "tensor(0.0772)\n",
      "tensor(0.0715)\n",
      "tensor(0.0780)\n",
      "tensor(0.0843)\n",
      "tensor(0.0906)\n",
      "tensor(0.0869)\n",
      "tensor(0.0798)\n",
      "tensor(0.0802)\n",
      "tensor(0.0895)\n",
      "tensor(0.0798)\n",
      "tensor(0.0691)\n"
     ]
    },
    {
     "name": "stderr",
     "output_type": "stream",
     "text": [
      "662it [00:07, 88.10it/s]"
     ]
    },
    {
     "name": "stdout",
     "output_type": "stream",
     "text": [
      "tensor(0.0808)\n",
      "tensor(0.0782)\n",
      "tensor(0.0766)\n",
      "tensor(0.0835)\n",
      "tensor(0.0702)\n",
      "tensor(0.0779)\n",
      "tensor(0.0833)\n",
      "tensor(0.0808)\n",
      "tensor(0.0772)\n",
      "tensor(0.0829)\n",
      "tensor(0.0827)\n",
      "tensor(0.0860)\n",
      "tensor(0.0827)\n",
      "tensor(0.0801)\n",
      "tensor(0.0831)\n",
      "tensor(0.0778)\n",
      "tensor(0.0862)\n",
      "tensor(0.0816)\n"
     ]
    },
    {
     "name": "stderr",
     "output_type": "stream",
     "text": [
      "681it [00:07, 89.74it/s]"
     ]
    },
    {
     "name": "stdout",
     "output_type": "stream",
     "text": [
      "tensor(0.0854)\n",
      "tensor(0.0732)\n",
      "tensor(0.0890)\n",
      "tensor(0.0768)\n",
      "tensor(0.0826)\n",
      "tensor(0.0779)\n",
      "tensor(0.0781)\n",
      "tensor(0.0803)\n",
      "tensor(0.0910)\n",
      "tensor(0.0816)\n",
      "tensor(0.0789)\n",
      "tensor(0.0834)\n",
      "tensor(0.0804)\n",
      "tensor(0.0814)\n",
      "tensor(0.0835)\n",
      "tensor(0.0807)\n",
      "tensor(0.0751)\n",
      "tensor(0.0823)\n"
     ]
    },
    {
     "name": "stderr",
     "output_type": "stream",
     "text": [
      "700it [00:07, 89.03it/s]"
     ]
    },
    {
     "name": "stdout",
     "output_type": "stream",
     "text": [
      "tensor(0.0854)\n",
      "tensor(0.0934)\n",
      "tensor(0.0787)\n",
      "tensor(0.0848)\n",
      "tensor(0.0761)\n",
      "tensor(0.0860)\n",
      "tensor(0.0921)\n",
      "tensor(0.0784)\n",
      "tensor(0.0853)\n",
      "tensor(0.0754)\n",
      "tensor(0.0772)\n",
      "tensor(0.0839)\n",
      "tensor(0.0823)\n",
      "tensor(0.0826)\n",
      "tensor(0.0782)\n",
      "tensor(0.0831)\n",
      "tensor(0.0908)\n",
      "tensor(0.0866)\n"
     ]
    },
    {
     "name": "stderr",
     "output_type": "stream",
     "text": [
      "720it [00:08, 89.32it/s]"
     ]
    },
    {
     "name": "stdout",
     "output_type": "stream",
     "text": [
      "tensor(0.0794)\n",
      "tensor(0.0840)\n",
      "tensor(0.0856)\n",
      "tensor(0.0834)\n",
      "tensor(0.0798)\n",
      "tensor(0.0779)\n",
      "tensor(0.0794)\n",
      "tensor(0.0800)\n",
      "tensor(0.0837)\n",
      "tensor(0.0817)\n",
      "tensor(0.0828)\n",
      "tensor(0.0821)\n",
      "tensor(0.0849)\n",
      "tensor(0.0814)\n",
      "tensor(0.0901)\n",
      "tensor(0.0847)\n",
      "tensor(0.0821)\n",
      "tensor(0.0791)\n",
      "tensor(0.0768)\n"
     ]
    },
    {
     "name": "stderr",
     "output_type": "stream",
     "text": [
      "730it [00:08, 90.72it/s]"
     ]
    },
    {
     "name": "stdout",
     "output_type": "stream",
     "text": [
      "tensor(0.0799)\n",
      "tensor(0.0824)\n",
      "tensor(0.0859)\n",
      "tensor(0.0776)\n",
      "tensor(0.0848)\n",
      "tensor(0.0815)\n",
      "tensor(0.0849)\n",
      "tensor(0.0784)\n",
      "tensor(0.0771)\n",
      "tensor(0.0793)\n",
      "tensor(0.0869)\n",
      "tensor(0.0845)\n",
      "tensor(0.0816)\n",
      "tensor(0.0854)\n",
      "tensor(0.0768)\n",
      "tensor(0.0915)\n",
      "tensor(0.0845)\n",
      "tensor(0.0782)\n",
      "tensor(0.0852)\n"
     ]
    },
    {
     "name": "stderr",
     "output_type": "stream",
     "text": [
      "750it [00:08, 91.09it/s]"
     ]
    },
    {
     "name": "stdout",
     "output_type": "stream",
     "text": [
      "tensor(0.0847)\n",
      "tensor(0.0802)\n",
      "tensor(0.0820)\n",
      "tensor(0.0817)\n",
      "tensor(0.0800)\n",
      "tensor(0.0892)\n",
      "tensor(0.0835)\n",
      "tensor(0.0823)\n",
      "tensor(0.0769)\n",
      "tensor(0.0837)\n",
      "tensor(0.0890)\n",
      "tensor(0.0828)\n",
      "tensor(0.0865)\n",
      "tensor(0.0880)\n",
      "tensor(0.0841)\n",
      "tensor(0.0847)\n",
      "tensor(0.0812)\n",
      "tensor(0.0871)\n"
     ]
    },
    {
     "name": "stderr",
     "output_type": "stream",
     "text": [
      "770it [00:08, 88.03it/s]"
     ]
    },
    {
     "name": "stdout",
     "output_type": "stream",
     "text": [
      "tensor(0.0835)\n",
      "tensor(0.0874)\n",
      "tensor(0.0777)\n",
      "tensor(0.0859)\n",
      "tensor(0.0790)\n",
      "tensor(0.0790)\n",
      "tensor(0.0829)\n",
      "tensor(0.0852)\n",
      "tensor(0.0825)\n",
      "tensor(0.0829)\n",
      "tensor(0.0782)\n",
      "tensor(0.0820)\n",
      "tensor(0.0808)\n",
      "tensor(0.0824)\n",
      "tensor(0.0892)\n",
      "tensor(0.0741)\n",
      "tensor(0.0793)\n",
      "tensor(0.0835)\n"
     ]
    },
    {
     "name": "stderr",
     "output_type": "stream",
     "text": [
      "789it [00:08, 87.25it/s]"
     ]
    },
    {
     "name": "stdout",
     "output_type": "stream",
     "text": [
      "tensor(0.0798)\n",
      "tensor(0.0847)\n",
      "tensor(0.0823)\n",
      "tensor(0.0783)\n",
      "tensor(0.0759)\n",
      "tensor(0.0821)\n",
      "tensor(0.0739)\n",
      "tensor(0.0866)\n",
      "tensor(0.0749)\n",
      "tensor(0.0822)\n",
      "tensor(0.0809)\n",
      "tensor(0.0839)\n",
      "tensor(0.0859)\n",
      "tensor(0.0800)\n",
      "tensor(0.0848)\n",
      "tensor(0.0780)\n",
      "tensor(0.0808)\n",
      "tensor(0.0739)\n"
     ]
    },
    {
     "name": "stderr",
     "output_type": "stream",
     "text": [
      "807it [00:09, 86.68it/s]"
     ]
    },
    {
     "name": "stdout",
     "output_type": "stream",
     "text": [
      "tensor(0.0818)\n",
      "tensor(0.0820)\n",
      "tensor(0.0898)\n",
      "tensor(0.0789)\n",
      "tensor(0.0805)\n",
      "tensor(0.0866)\n",
      "tensor(0.0749)\n",
      "tensor(0.0814)\n",
      "tensor(0.0820)\n",
      "tensor(0.0858)\n",
      "tensor(0.0824)\n",
      "tensor(0.0846)\n",
      "tensor(0.0793)\n",
      "tensor(0.0782)\n",
      "tensor(0.0799)\n",
      "tensor(0.0840)\n",
      "tensor(0.0782)\n",
      "tensor(0.0770)\n"
     ]
    },
    {
     "name": "stderr",
     "output_type": "stream",
     "text": [
      "825it [00:09, 85.17it/s]"
     ]
    },
    {
     "name": "stdout",
     "output_type": "stream",
     "text": [
      "tensor(0.0840)\n",
      "tensor(0.0817)\n",
      "tensor(0.0722)\n",
      "tensor(0.0824)\n",
      "tensor(0.0794)\n",
      "tensor(0.0882)\n",
      "tensor(0.0755)\n",
      "tensor(0.0885)\n",
      "tensor(0.0759)\n",
      "tensor(0.0779)\n",
      "tensor(0.0824)\n",
      "tensor(0.0818)\n",
      "tensor(0.0895)\n",
      "tensor(0.0773)\n",
      "tensor(0.0772)\n",
      "tensor(0.0755)\n",
      "tensor(0.0813)\n"
     ]
    },
    {
     "name": "stderr",
     "output_type": "stream",
     "text": [
      "844it [00:09, 86.71it/s]"
     ]
    },
    {
     "name": "stdout",
     "output_type": "stream",
     "text": [
      "tensor(0.0787)\n",
      "tensor(0.0850)\n",
      "tensor(0.0846)\n",
      "tensor(0.0809)\n",
      "tensor(0.0859)\n",
      "tensor(0.0774)\n",
      "tensor(0.0799)\n",
      "tensor(0.0761)\n",
      "tensor(0.0753)\n",
      "tensor(0.0849)\n",
      "tensor(0.0773)\n",
      "tensor(0.0780)\n",
      "tensor(0.0783)\n",
      "tensor(0.0794)\n",
      "tensor(0.0911)\n",
      "tensor(0.0867)\n",
      "tensor(0.0784)\n",
      "tensor(0.0785)\n",
      "tensor(0.0836)\n"
     ]
    },
    {
     "name": "stderr",
     "output_type": "stream",
     "text": [
      "862it [00:09, 87.71it/s]"
     ]
    },
    {
     "name": "stdout",
     "output_type": "stream",
     "text": [
      "tensor(0.0891)\n",
      "tensor(0.0830)\n",
      "tensor(0.0785)\n",
      "tensor(0.0732)\n",
      "tensor(0.0846)\n",
      "tensor(0.0823)\n",
      "tensor(0.0817)\n",
      "tensor(0.0783)\n",
      "tensor(0.0845)\n",
      "tensor(0.0814)\n",
      "tensor(0.0811)\n",
      "tensor(0.0865)\n",
      "tensor(0.0877)\n",
      "tensor(0.0888)\n",
      "tensor(0.0811)\n",
      "tensor(0.0838)\n",
      "tensor(0.0780)\n",
      "tensor(0.0826)\n",
      "tensor(0.0804)\n"
     ]
    },
    {
     "name": "stderr",
     "output_type": "stream",
     "text": [
      "880it [00:09, 87.86it/s]"
     ]
    },
    {
     "name": "stdout",
     "output_type": "stream",
     "text": [
      "tensor(0.0784)\n",
      "tensor(0.0813)\n",
      "tensor(0.0773)\n",
      "tensor(0.0706)\n",
      "tensor(0.0866)\n",
      "tensor(0.0789)\n",
      "tensor(0.0806)\n",
      "tensor(0.0907)\n",
      "tensor(0.0804)\n",
      "tensor(0.0776)\n",
      "tensor(0.0723)\n",
      "tensor(0.0849)\n",
      "tensor(0.0882)\n",
      "tensor(0.0890)\n",
      "tensor(0.0822)\n",
      "tensor(0.0807)\n",
      "tensor(0.0785)\n",
      "tensor(0.0781)\n"
     ]
    },
    {
     "name": "stderr",
     "output_type": "stream",
     "text": [
      "899it [00:10, 89.86it/s]"
     ]
    },
    {
     "name": "stdout",
     "output_type": "stream",
     "text": [
      "tensor(0.0824)\n",
      "tensor(0.0866)\n",
      "tensor(0.0791)\n",
      "tensor(0.0796)\n",
      "tensor(0.0727)\n",
      "tensor(0.0796)\n",
      "tensor(0.0811)\n",
      "tensor(0.0776)\n",
      "tensor(0.0792)\n",
      "tensor(0.0886)\n",
      "tensor(0.0870)\n",
      "tensor(0.0681)\n",
      "tensor(0.0815)\n",
      "tensor(0.0725)\n",
      "tensor(0.0846)\n",
      "tensor(0.0773)\n",
      "tensor(0.0834)\n",
      "tensor(0.0822)\n",
      "tensor(0.0766)\n"
     ]
    },
    {
     "name": "stderr",
     "output_type": "stream",
     "text": [
      "917it [00:10, 86.94it/s]"
     ]
    },
    {
     "name": "stdout",
     "output_type": "stream",
     "text": [
      "tensor(0.0766)\n",
      "tensor(0.0828)\n",
      "tensor(0.0815)\n",
      "tensor(0.0821)\n",
      "tensor(0.0791)\n",
      "tensor(0.0758)\n",
      "tensor(0.0786)\n",
      "tensor(0.0778)\n",
      "tensor(0.0828)\n",
      "tensor(0.0814)\n",
      "tensor(0.0776)\n",
      "tensor(0.0817)\n",
      "tensor(0.0857)\n",
      "tensor(0.0791)\n",
      "tensor(0.0876)\n",
      "tensor(0.0776)\n",
      "tensor(0.0784)\n",
      "tensor(0.0873)\n"
     ]
    },
    {
     "name": "stderr",
     "output_type": "stream",
     "text": [
      "936it [00:10, 89.12it/s]"
     ]
    },
    {
     "name": "stdout",
     "output_type": "stream",
     "text": [
      "tensor(0.0729)\n",
      "tensor(0.0850)\n",
      "tensor(0.0826)\n",
      "tensor(0.0864)\n",
      "tensor(0.0851)\n",
      "tensor(0.0768)\n",
      "tensor(0.0779)\n",
      "tensor(0.0831)\n",
      "tensor(0.0837)\n",
      "tensor(0.0762)\n",
      "tensor(0.0800)\n",
      "tensor(0.0873)\n",
      "tensor(0.0779)\n",
      "tensor(0.0862)\n",
      "tensor(0.0808)\n",
      "tensor(0.0808)\n",
      "tensor(0.0782)\n",
      "tensor(0.0871)\n",
      "tensor(0.0860)\n"
     ]
    },
    {
     "name": "stderr",
     "output_type": "stream",
     "text": [
      "955it [00:10, 89.32it/s]"
     ]
    },
    {
     "name": "stdout",
     "output_type": "stream",
     "text": [
      "tensor(0.0832)\n",
      "tensor(0.0736)\n",
      "tensor(0.0837)\n",
      "tensor(0.0854)\n",
      "tensor(0.0791)\n",
      "tensor(0.0797)\n",
      "tensor(0.0868)\n",
      "tensor(0.0771)\n",
      "tensor(0.0792)\n",
      "tensor(0.0736)\n",
      "tensor(0.0774)\n",
      "tensor(0.0776)\n",
      "tensor(0.0865)\n",
      "tensor(0.0711)\n",
      "tensor(0.0845)\n",
      "tensor(0.0842)\n",
      "tensor(0.0795)\n",
      "tensor(0.0869)\n",
      "tensor(0.0779)\n"
     ]
    },
    {
     "name": "stderr",
     "output_type": "stream",
     "text": [
      "973it [00:10, 88.52it/s]"
     ]
    },
    {
     "name": "stdout",
     "output_type": "stream",
     "text": [
      "tensor(0.0827)\n",
      "tensor(0.0790)\n",
      "tensor(0.0733)\n",
      "tensor(0.0896)\n",
      "tensor(0.0804)\n",
      "tensor(0.0817)\n",
      "tensor(0.0813)\n",
      "tensor(0.0800)\n",
      "tensor(0.0775)\n",
      "tensor(0.0863)\n",
      "tensor(0.0754)\n",
      "tensor(0.0785)\n",
      "tensor(0.0781)\n",
      "tensor(0.0776)\n",
      "tensor(0.0823)\n",
      "tensor(0.0824)\n",
      "tensor(0.0750)\n",
      "tensor(0.0824)\n"
     ]
    },
    {
     "name": "stderr",
     "output_type": "stream",
     "text": [
      "992it [00:11, 89.87it/s]"
     ]
    },
    {
     "name": "stdout",
     "output_type": "stream",
     "text": [
      "tensor(0.0861)\n",
      "tensor(0.0767)\n",
      "tensor(0.0824)\n",
      "tensor(0.0845)\n",
      "tensor(0.0798)\n",
      "tensor(0.0860)\n",
      "tensor(0.0795)\n",
      "tensor(0.0798)\n",
      "tensor(0.0755)\n",
      "tensor(0.0796)\n",
      "tensor(0.0757)\n",
      "tensor(0.0796)\n",
      "tensor(0.0799)\n",
      "tensor(0.0881)\n",
      "tensor(0.0812)\n",
      "tensor(0.0760)\n",
      "tensor(0.0817)\n",
      "tensor(0.0908)\n"
     ]
    },
    {
     "name": "stderr",
     "output_type": "stream",
     "text": [
      "1010it [00:11, 85.79it/s]"
     ]
    },
    {
     "name": "stdout",
     "output_type": "stream",
     "text": [
      "tensor(0.0782)\n",
      "tensor(0.0791)\n",
      "tensor(0.0812)\n",
      "tensor(0.0792)\n",
      "tensor(0.0726)\n",
      "tensor(0.0796)\n",
      "tensor(0.0821)\n",
      "tensor(0.0724)\n",
      "tensor(0.0809)\n",
      "tensor(0.0743)\n",
      "tensor(0.0834)\n",
      "tensor(0.0828)\n",
      "tensor(0.0761)\n",
      "tensor(0.0860)\n",
      "tensor(0.0811)\n",
      "tensor(0.0809)\n",
      "tensor(0.0848)\n"
     ]
    },
    {
     "name": "stderr",
     "output_type": "stream",
     "text": [
      "1029it [00:11, 87.52it/s]"
     ]
    },
    {
     "name": "stdout",
     "output_type": "stream",
     "text": [
      "tensor(0.0877)\n",
      "tensor(0.0805)\n",
      "tensor(0.0866)\n",
      "tensor(0.0793)\n",
      "tensor(0.0830)\n",
      "tensor(0.0855)\n",
      "tensor(0.0881)\n",
      "tensor(0.0911)\n",
      "tensor(0.0859)\n",
      "tensor(0.0825)\n",
      "tensor(0.0852)\n",
      "tensor(0.0813)\n",
      "tensor(0.0792)\n",
      "tensor(0.0850)\n",
      "tensor(0.0804)\n",
      "tensor(0.0790)\n",
      "tensor(0.0840)\n",
      "tensor(0.0821)\n",
      "tensor(0.0859)\n"
     ]
    },
    {
     "name": "stderr",
     "output_type": "stream",
     "text": [
      "1047it [00:11, 88.19it/s]"
     ]
    },
    {
     "name": "stdout",
     "output_type": "stream",
     "text": [
      "tensor(0.0899)\n",
      "tensor(0.0756)\n",
      "tensor(0.0822)\n",
      "tensor(0.0778)\n",
      "tensor(0.0743)\n",
      "tensor(0.0781)\n",
      "tensor(0.0844)\n",
      "tensor(0.0759)\n",
      "tensor(0.0783)\n",
      "tensor(0.0826)\n",
      "tensor(0.0850)\n",
      "tensor(0.0851)\n",
      "tensor(0.0879)\n",
      "tensor(0.0746)\n",
      "tensor(0.0889)\n",
      "tensor(0.0849)\n",
      "tensor(0.0835)\n",
      "tensor(0.0812)\n",
      "tensor(0.0828)\n"
     ]
    },
    {
     "name": "stderr",
     "output_type": "stream",
     "text": [
      "1066it [00:12, 88.72it/s]"
     ]
    },
    {
     "name": "stdout",
     "output_type": "stream",
     "text": [
      "tensor(0.0820)\n",
      "tensor(0.0742)\n",
      "tensor(0.0825)\n",
      "tensor(0.0889)\n",
      "tensor(0.0796)\n",
      "tensor(0.0874)\n",
      "tensor(0.0767)\n",
      "tensor(0.0753)\n",
      "tensor(0.0767)\n",
      "tensor(0.0793)\n",
      "tensor(0.0752)\n",
      "tensor(0.0792)\n",
      "tensor(0.0856)\n",
      "tensor(0.0790)\n",
      "tensor(0.0770)\n",
      "tensor(0.0793)\n",
      "tensor(0.0877)\n",
      "tensor(0.0748)\n"
     ]
    },
    {
     "name": "stderr",
     "output_type": "stream",
     "text": [
      "1085it [00:12, 90.16it/s]"
     ]
    },
    {
     "name": "stdout",
     "output_type": "stream",
     "text": [
      "tensor(0.0824)\n",
      "tensor(0.0724)\n",
      "tensor(0.0727)\n",
      "tensor(0.0836)\n",
      "tensor(0.0751)\n",
      "tensor(0.0877)\n",
      "tensor(0.0838)\n",
      "tensor(0.0762)\n",
      "tensor(0.0808)\n",
      "tensor(0.0878)\n",
      "tensor(0.0787)\n",
      "tensor(0.0766)\n",
      "tensor(0.0797)\n",
      "tensor(0.0782)\n",
      "tensor(0.0821)\n",
      "tensor(0.0851)\n",
      "tensor(0.0810)\n",
      "tensor(0.0796)\n",
      "tensor(0.0853)\n"
     ]
    },
    {
     "name": "stderr",
     "output_type": "stream",
     "text": [
      "1104it [00:12, 88.50it/s]"
     ]
    },
    {
     "name": "stdout",
     "output_type": "stream",
     "text": [
      "tensor(0.0817)\n",
      "tensor(0.0838)\n",
      "tensor(0.0819)\n",
      "tensor(0.0798)\n",
      "tensor(0.0859)\n",
      "tensor(0.0734)\n",
      "tensor(0.0871)\n",
      "tensor(0.0841)\n",
      "tensor(0.0832)\n",
      "tensor(0.0763)\n",
      "tensor(0.0837)\n",
      "tensor(0.0809)\n",
      "tensor(0.0874)\n",
      "tensor(0.0867)\n",
      "tensor(0.0819)\n",
      "tensor(0.0717)\n",
      "tensor(0.0813)\n",
      "tensor(0.0853)\n"
     ]
    },
    {
     "name": "stderr",
     "output_type": "stream",
     "text": [
      "1114it [00:12, 90.23it/s]"
     ]
    },
    {
     "name": "stdout",
     "output_type": "stream",
     "text": [
      "tensor(0.0878)\n",
      "tensor(0.0739)\n",
      "tensor(0.0748)\n",
      "tensor(0.0807)\n",
      "tensor(0.0711)\n",
      "tensor(0.0812)\n",
      "tensor(0.0773)\n",
      "tensor(0.0795)\n",
      "tensor(0.0828)\n",
      "tensor(0.0725)\n",
      "tensor(0.0688)\n",
      "tensor(0.0852)\n",
      "tensor(0.0769)\n",
      "tensor(0.0806)\n",
      "tensor(0.0778)\n",
      "tensor(0.0812)\n",
      "tensor(0.0808)\n",
      "tensor(0.0870)\n"
     ]
    },
    {
     "name": "stderr",
     "output_type": "stream",
     "text": [
      "1134it [00:12, 89.62it/s]"
     ]
    },
    {
     "name": "stdout",
     "output_type": "stream",
     "text": [
      "tensor(0.0872)\n",
      "tensor(0.0772)\n",
      "tensor(0.0908)\n",
      "tensor(0.0794)\n",
      "tensor(0.0853)\n",
      "tensor(0.0845)\n",
      "tensor(0.0801)\n",
      "tensor(0.0837)\n",
      "tensor(0.0795)\n",
      "tensor(0.0790)\n",
      "tensor(0.0851)\n",
      "tensor(0.0727)\n",
      "tensor(0.0701)\n",
      "tensor(0.0788)\n",
      "tensor(0.0857)\n",
      "tensor(0.0791)\n",
      "tensor(0.0811)\n",
      "tensor(0.0730)\n",
      "tensor(0.0893)\n"
     ]
    },
    {
     "name": "stderr",
     "output_type": "stream",
     "text": [
      "1154it [00:13, 90.63it/s]"
     ]
    },
    {
     "name": "stdout",
     "output_type": "stream",
     "text": [
      "tensor(0.0860)\n",
      "tensor(0.0848)\n",
      "tensor(0.0826)\n",
      "tensor(0.0809)\n",
      "tensor(0.0797)\n",
      "tensor(0.0818)\n",
      "tensor(0.0809)\n",
      "tensor(0.0841)\n",
      "tensor(0.0848)\n",
      "tensor(0.0720)\n",
      "tensor(0.0834)\n",
      "tensor(0.0811)\n",
      "tensor(0.0829)\n",
      "tensor(0.0813)\n",
      "tensor(0.0779)\n",
      "tensor(0.0807)\n",
      "tensor(0.0810)\n",
      "tensor(0.0773)\n",
      "tensor(0.0751)\n",
      "tensor(0.0849)\n"
     ]
    },
    {
     "name": "stderr",
     "output_type": "stream",
     "text": [
      "1175it [00:13, 95.44it/s]"
     ]
    },
    {
     "name": "stdout",
     "output_type": "stream",
     "text": [
      "tensor(0.0864)\n",
      "tensor(0.0920)\n",
      "tensor(0.0884)\n",
      "tensor(0.0789)\n",
      "tensor(0.0753)\n",
      "tensor(0.0769)\n",
      "tensor(0.0859)\n",
      "tensor(0.0784)\n",
      "tensor(0.0781)\n",
      "tensor(0.0841)\n",
      "tensor(0.0785)\n",
      "tensor(0.0742)\n",
      "tensor(0.0865)\n",
      "tensor(0.0738)\n",
      "tensor(0.0815)\n",
      "tensor(0.0790)\n",
      "tensor(0.0803)\n",
      "tensor(0.0793)\n",
      "tensor(0.0763)\n",
      "tensor(0.0765)\n"
     ]
    },
    {
     "name": "stderr",
     "output_type": "stream",
     "text": [
      "1195it [00:13, 90.70it/s]"
     ]
    },
    {
     "name": "stdout",
     "output_type": "stream",
     "text": [
      "tensor(0.0872)\n",
      "tensor(0.0780)\n",
      "tensor(0.0820)\n",
      "tensor(0.0750)\n",
      "tensor(0.0846)\n",
      "tensor(0.0754)\n",
      "tensor(0.0833)\n",
      "tensor(0.0820)\n",
      "tensor(0.0780)\n",
      "tensor(0.0821)\n",
      "tensor(0.0794)\n",
      "tensor(0.0822)\n",
      "tensor(0.0830)\n",
      "tensor(0.0830)\n",
      "tensor(0.0782)\n",
      "tensor(0.0827)\n",
      "tensor(0.0799)\n",
      "tensor(0.0798)\n"
     ]
    },
    {
     "name": "stderr",
     "output_type": "stream",
     "text": [
      "1215it [00:13, 90.48it/s]"
     ]
    },
    {
     "name": "stdout",
     "output_type": "stream",
     "text": [
      "tensor(0.0788)\n",
      "tensor(0.0714)\n",
      "tensor(0.0879)\n",
      "tensor(0.0774)\n",
      "tensor(0.0753)\n",
      "tensor(0.0838)\n",
      "tensor(0.0863)\n",
      "tensor(0.0836)\n",
      "tensor(0.0887)\n",
      "tensor(0.0851)\n",
      "tensor(0.0844)\n",
      "tensor(0.0748)\n",
      "tensor(0.0791)\n",
      "tensor(0.0888)\n",
      "tensor(0.0870)\n",
      "tensor(0.0818)\n",
      "tensor(0.0750)\n",
      "tensor(0.0847)\n",
      "tensor(0.0880)\n"
     ]
    },
    {
     "name": "stderr",
     "output_type": "stream",
     "text": [
      "1235it [00:13, 93.47it/s]"
     ]
    },
    {
     "name": "stdout",
     "output_type": "stream",
     "text": [
      "tensor(0.0754)\n",
      "tensor(0.0815)\n",
      "tensor(0.0822)\n",
      "tensor(0.0852)\n",
      "tensor(0.0839)\n",
      "tensor(0.0813)\n",
      "tensor(0.0788)\n",
      "tensor(0.0725)\n",
      "tensor(0.0816)\n",
      "tensor(0.0812)\n",
      "tensor(0.0820)\n",
      "tensor(0.0792)\n",
      "tensor(0.0780)\n",
      "tensor(0.0837)\n",
      "tensor(0.0791)\n",
      "tensor(0.0730)\n",
      "tensor(0.0768)\n",
      "tensor(0.0782)\n",
      "tensor(0.0856)\n",
      "tensor(0.0843)\n"
     ]
    },
    {
     "name": "stderr",
     "output_type": "stream",
     "text": [
      "1255it [00:14, 92.99it/s]"
     ]
    },
    {
     "name": "stdout",
     "output_type": "stream",
     "text": [
      "tensor(0.0907)\n",
      "tensor(0.0744)\n",
      "tensor(0.0768)\n",
      "tensor(0.0812)\n",
      "tensor(0.0852)\n",
      "tensor(0.0761)\n",
      "tensor(0.0738)\n",
      "tensor(0.0823)\n",
      "tensor(0.0803)\n",
      "tensor(0.0716)\n",
      "tensor(0.0873)\n",
      "tensor(0.0843)\n",
      "tensor(0.0781)\n",
      "tensor(0.0850)\n",
      "tensor(0.0756)\n",
      "tensor(0.0816)\n",
      "tensor(0.0803)\n",
      "tensor(0.0865)\n",
      "tensor(0.0808)\n"
     ]
    },
    {
     "name": "stderr",
     "output_type": "stream",
     "text": [
      "1276it [00:14, 96.32it/s]"
     ]
    },
    {
     "name": "stdout",
     "output_type": "stream",
     "text": [
      "tensor(0.0910)\n",
      "tensor(0.0724)\n",
      "tensor(0.0864)\n",
      "tensor(0.0944)\n",
      "tensor(0.0764)\n",
      "tensor(0.0733)\n",
      "tensor(0.0777)\n",
      "tensor(0.0919)\n",
      "tensor(0.0874)\n",
      "tensor(0.0861)\n",
      "tensor(0.0799)\n",
      "tensor(0.0810)\n",
      "tensor(0.0872)\n",
      "tensor(0.0883)\n",
      "tensor(0.0790)\n",
      "tensor(0.0860)\n",
      "tensor(0.0767)\n",
      "tensor(0.0775)\n",
      "tensor(0.0781)\n",
      "tensor(0.0801)\n",
      "tensor(0.0694)\n"
     ]
    },
    {
     "name": "stderr",
     "output_type": "stream",
     "text": [
      "1296it [00:14, 96.83it/s]"
     ]
    },
    {
     "name": "stdout",
     "output_type": "stream",
     "text": [
      "tensor(0.0856)\n",
      "tensor(0.0829)\n",
      "tensor(0.0808)\n",
      "tensor(0.0872)\n",
      "tensor(0.0816)\n",
      "tensor(0.0848)\n",
      "tensor(0.0863)\n",
      "tensor(0.0690)\n",
      "tensor(0.0886)\n",
      "tensor(0.0724)\n",
      "tensor(0.0834)\n",
      "tensor(0.0861)\n",
      "tensor(0.0715)\n",
      "tensor(0.0793)\n",
      "tensor(0.0838)\n",
      "tensor(0.0759)\n",
      "tensor(0.0730)\n",
      "tensor(0.0881)\n",
      "tensor(0.0831)\n",
      "tensor(0.0725)\n"
     ]
    },
    {
     "name": "stderr",
     "output_type": "stream",
     "text": [
      "1317it [00:14, 97.68it/s]"
     ]
    },
    {
     "name": "stdout",
     "output_type": "stream",
     "text": [
      "tensor(0.0822)\n",
      "tensor(0.0747)\n",
      "tensor(0.0808)\n",
      "tensor(0.0820)\n",
      "tensor(0.0876)\n",
      "tensor(0.0812)\n",
      "tensor(0.0815)\n",
      "tensor(0.0793)\n",
      "tensor(0.0846)\n",
      "tensor(0.0803)\n",
      "tensor(0.0852)\n",
      "tensor(0.0789)\n",
      "tensor(0.0847)\n",
      "tensor(0.0749)\n",
      "tensor(0.0743)\n",
      "tensor(0.0775)\n",
      "tensor(0.0796)\n",
      "tensor(0.0799)\n",
      "tensor(0.0808)\n",
      "tensor(0.0860)\n"
     ]
    },
    {
     "name": "stderr",
     "output_type": "stream",
     "text": [
      "1338it [00:14, 99.00it/s]"
     ]
    },
    {
     "name": "stdout",
     "output_type": "stream",
     "text": [
      "tensor(0.0799)\n",
      "tensor(0.0745)\n",
      "tensor(0.0720)\n",
      "tensor(0.0769)\n",
      "tensor(0.0914)\n",
      "tensor(0.0815)\n",
      "tensor(0.0871)\n",
      "tensor(0.0835)\n",
      "tensor(0.0820)\n",
      "tensor(0.0814)\n",
      "tensor(0.0841)\n",
      "tensor(0.0889)\n",
      "tensor(0.0792)\n",
      "tensor(0.0771)\n",
      "tensor(0.0810)\n",
      "tensor(0.0797)\n",
      "tensor(0.0796)\n",
      "tensor(0.0851)\n",
      "tensor(0.0835)\n",
      "tensor(0.0837)\n",
      "tensor(0.0849)\n"
     ]
    },
    {
     "name": "stderr",
     "output_type": "stream",
     "text": [
      "1358it [00:15, 99.17it/s]"
     ]
    },
    {
     "name": "stdout",
     "output_type": "stream",
     "text": [
      "tensor(0.0827)\n",
      "tensor(0.0741)\n",
      "tensor(0.0821)\n",
      "tensor(0.0816)\n",
      "tensor(0.0705)\n",
      "tensor(0.0816)\n",
      "tensor(0.0759)\n",
      "tensor(0.0793)\n",
      "tensor(0.0830)\n",
      "tensor(0.0822)\n",
      "tensor(0.0851)\n",
      "tensor(0.0763)\n",
      "tensor(0.0819)\n",
      "tensor(0.0770)\n",
      "tensor(0.0872)\n",
      "tensor(0.0771)\n",
      "tensor(0.0818)\n",
      "tensor(0.0850)\n",
      "tensor(0.0890)\n",
      "tensor(0.0809)\n"
     ]
    },
    {
     "name": "stderr",
     "output_type": "stream",
     "text": [
      "1379it [00:15, 99.30it/s]"
     ]
    },
    {
     "name": "stdout",
     "output_type": "stream",
     "text": [
      "tensor(0.0736)\n",
      "tensor(0.0725)\n",
      "tensor(0.0721)\n",
      "tensor(0.0826)\n",
      "tensor(0.0806)\n",
      "tensor(0.0856)\n",
      "tensor(0.0856)\n",
      "tensor(0.0830)\n",
      "tensor(0.0743)\n",
      "tensor(0.0711)\n",
      "tensor(0.0750)\n",
      "tensor(0.0754)\n",
      "tensor(0.0805)\n",
      "tensor(0.0771)\n",
      "tensor(0.0768)\n",
      "tensor(0.0757)\n",
      "tensor(0.0898)\n",
      "tensor(0.0803)\n",
      "tensor(0.0803)\n",
      "tensor(0.0829)\n",
      "tensor(0.0805)\n"
     ]
    },
    {
     "name": "stderr",
     "output_type": "stream",
     "text": [
      "1400it [00:15, 99.78it/s]"
     ]
    },
    {
     "name": "stdout",
     "output_type": "stream",
     "text": [
      "tensor(0.0832)\n",
      "tensor(0.0819)\n",
      "tensor(0.0762)\n",
      "tensor(0.0797)\n",
      "tensor(0.0901)\n",
      "tensor(0.0805)\n",
      "tensor(0.0916)\n",
      "tensor(0.0725)\n",
      "tensor(0.0867)\n",
      "tensor(0.0807)\n",
      "tensor(0.0812)\n",
      "tensor(0.0818)\n",
      "tensor(0.0778)\n",
      "tensor(0.0809)\n",
      "tensor(0.0818)\n",
      "tensor(0.0681)\n",
      "tensor(0.0808)\n",
      "tensor(0.0720)\n",
      "tensor(0.0784)\n",
      "tensor(0.0835)\n",
      "tensor(0.0888)\n"
     ]
    },
    {
     "name": "stderr",
     "output_type": "stream",
     "text": [
      "1422it [00:15, 100.54it/s]"
     ]
    },
    {
     "name": "stdout",
     "output_type": "stream",
     "text": [
      "tensor(0.0766)\n",
      "tensor(0.0744)\n",
      "tensor(0.0804)\n",
      "tensor(0.0806)\n",
      "tensor(0.0798)\n",
      "tensor(0.0757)\n",
      "tensor(0.0801)\n",
      "tensor(0.0831)\n",
      "tensor(0.0773)\n",
      "tensor(0.0795)\n",
      "tensor(0.0811)\n",
      "tensor(0.0888)\n",
      "tensor(0.0838)\n",
      "tensor(0.0813)\n",
      "tensor(0.0759)\n",
      "tensor(0.0823)\n",
      "tensor(0.0862)\n",
      "tensor(0.0880)\n",
      "tensor(0.0796)\n",
      "tensor(0.0872)\n",
      "tensor(0.0879)\n"
     ]
    },
    {
     "name": "stderr",
     "output_type": "stream",
     "text": [
      "1444it [00:15, 100.72it/s]"
     ]
    },
    {
     "name": "stdout",
     "output_type": "stream",
     "text": [
      "tensor(0.0820)\n",
      "tensor(0.0808)\n",
      "tensor(0.0797)\n",
      "tensor(0.0820)\n",
      "tensor(0.0847)\n",
      "tensor(0.0742)\n",
      "tensor(0.0786)\n",
      "tensor(0.0812)\n",
      "tensor(0.0868)\n",
      "tensor(0.0853)\n",
      "tensor(0.0754)\n",
      "tensor(0.0777)\n",
      "tensor(0.0773)\n",
      "tensor(0.0881)\n",
      "tensor(0.0833)\n",
      "tensor(0.0917)\n",
      "tensor(0.0800)\n",
      "tensor(0.0885)\n",
      "tensor(0.0884)\n",
      "tensor(0.0793)\n",
      "tensor(0.0821)\n"
     ]
    },
    {
     "name": "stderr",
     "output_type": "stream",
     "text": [
      "1455it [00:16, 98.95it/s] "
     ]
    },
    {
     "name": "stdout",
     "output_type": "stream",
     "text": [
      "tensor(0.0840)\n",
      "tensor(0.0879)\n",
      "tensor(0.0761)\n",
      "tensor(0.0827)\n",
      "tensor(0.0874)\n",
      "tensor(0.0827)\n",
      "tensor(0.0840)\n",
      "tensor(0.0864)\n",
      "tensor(0.0873)\n",
      "tensor(0.0758)\n",
      "tensor(0.0766)\n",
      "tensor(0.0787)\n",
      "tensor(0.0762)\n",
      "tensor(0.0814)\n",
      "tensor(0.0827)\n",
      "tensor(0.0678)\n",
      "tensor(0.0794)\n",
      "tensor(0.0819)\n",
      "tensor(0.0877)\n"
     ]
    },
    {
     "name": "stderr",
     "output_type": "stream",
     "text": [
      "1476it [00:16, 97.21it/s]"
     ]
    },
    {
     "name": "stdout",
     "output_type": "stream",
     "text": [
      "tensor(0.0848)\n",
      "tensor(0.0793)\n",
      "tensor(0.0788)\n",
      "tensor(0.0842)\n",
      "tensor(0.0721)\n",
      "tensor(0.0851)\n",
      "tensor(0.0814)\n",
      "tensor(0.0836)\n",
      "tensor(0.0788)\n",
      "tensor(0.0780)\n",
      "tensor(0.0769)\n",
      "tensor(0.0893)\n",
      "tensor(0.0855)\n",
      "tensor(0.0830)\n",
      "tensor(0.0836)\n",
      "tensor(0.0853)\n",
      "tensor(0.0854)\n",
      "tensor(0.0825)\n",
      "tensor(0.0793)\n",
      "tensor(0.0825)\n"
     ]
    },
    {
     "name": "stderr",
     "output_type": "stream",
     "text": [
      "1496it [00:16, 96.35it/s]"
     ]
    },
    {
     "name": "stdout",
     "output_type": "stream",
     "text": [
      "tensor(0.0788)\n",
      "tensor(0.0781)\n",
      "tensor(0.0829)\n",
      "tensor(0.0840)\n",
      "tensor(0.0745)\n",
      "tensor(0.0861)\n",
      "tensor(0.0895)\n",
      "tensor(0.0827)\n",
      "tensor(0.0828)\n",
      "tensor(0.0799)\n",
      "tensor(0.0839)\n",
      "tensor(0.0884)\n",
      "tensor(0.0763)\n",
      "tensor(0.0751)\n",
      "tensor(0.0914)\n",
      "tensor(0.0761)\n",
      "tensor(0.0854)\n",
      "tensor(0.0881)\n",
      "tensor(0.0786)\n",
      "tensor(0.0813)\n"
     ]
    },
    {
     "name": "stderr",
     "output_type": "stream",
     "text": [
      "1517it [00:16, 97.93it/s]"
     ]
    },
    {
     "name": "stdout",
     "output_type": "stream",
     "text": [
      "tensor(0.0848)\n",
      "tensor(0.0785)\n",
      "tensor(0.0842)\n",
      "tensor(0.0750)\n",
      "tensor(0.0774)\n",
      "tensor(0.0791)\n",
      "tensor(0.0801)\n",
      "tensor(0.0747)\n",
      "tensor(0.0802)\n",
      "tensor(0.0856)\n",
      "tensor(0.0831)\n",
      "tensor(0.0784)\n",
      "tensor(0.0841)\n",
      "tensor(0.0874)\n",
      "tensor(0.0764)\n",
      "tensor(0.0755)\n",
      "tensor(0.0788)\n",
      "tensor(0.0781)\n",
      "tensor(0.0860)\n",
      "tensor(0.0814)\n"
     ]
    },
    {
     "name": "stderr",
     "output_type": "stream",
     "text": [
      "1537it [00:16, 97.50it/s]"
     ]
    },
    {
     "name": "stdout",
     "output_type": "stream",
     "text": [
      "tensor(0.0859)\n",
      "tensor(0.0854)\n",
      "tensor(0.0812)\n",
      "tensor(0.0793)\n",
      "tensor(0.0796)\n",
      "tensor(0.0758)\n",
      "tensor(0.0802)\n",
      "tensor(0.0776)\n",
      "tensor(0.0737)\n",
      "tensor(0.0832)\n",
      "tensor(0.0738)\n",
      "tensor(0.0722)\n",
      "tensor(0.0802)\n",
      "tensor(0.0858)\n",
      "tensor(0.0819)\n",
      "tensor(0.0903)\n",
      "tensor(0.0808)\n",
      "tensor(0.0776)\n",
      "tensor(0.0855)\n"
     ]
    },
    {
     "name": "stderr",
     "output_type": "stream",
     "text": [
      "1557it [00:17, 96.91it/s]"
     ]
    },
    {
     "name": "stdout",
     "output_type": "stream",
     "text": [
      "tensor(0.0836)\n",
      "tensor(0.0908)\n",
      "tensor(0.0854)\n",
      "tensor(0.0782)\n",
      "tensor(0.0787)\n",
      "tensor(0.0833)\n",
      "tensor(0.0652)\n",
      "tensor(0.0735)\n",
      "tensor(0.0788)\n",
      "tensor(0.0848)\n",
      "tensor(0.0781)\n",
      "tensor(0.0816)\n",
      "tensor(0.0813)\n",
      "tensor(0.0835)\n",
      "tensor(0.0780)\n",
      "tensor(0.0764)\n",
      "tensor(0.0877)\n",
      "tensor(0.0841)\n",
      "tensor(0.0820)\n",
      "tensor(0.0804)\n"
     ]
    },
    {
     "name": "stderr",
     "output_type": "stream",
     "text": [
      "1577it [00:17, 93.65it/s]"
     ]
    },
    {
     "name": "stdout",
     "output_type": "stream",
     "text": [
      "tensor(0.0835)\n",
      "tensor(0.0804)\n",
      "tensor(0.0759)\n",
      "tensor(0.0829)\n",
      "tensor(0.0937)\n",
      "tensor(0.0767)\n",
      "tensor(0.0772)\n",
      "tensor(0.0776)\n",
      "tensor(0.0829)\n",
      "tensor(0.0840)\n",
      "tensor(0.0832)\n",
      "tensor(0.0801)\n",
      "tensor(0.0844)\n",
      "tensor(0.0845)\n",
      "tensor(0.0837)\n",
      "tensor(0.0759)\n",
      "tensor(0.0841)\n",
      "tensor(0.0875)\n"
     ]
    },
    {
     "name": "stderr",
     "output_type": "stream",
     "text": [
      "1597it [00:17, 64.85it/s]"
     ]
    },
    {
     "name": "stdout",
     "output_type": "stream",
     "text": [
      "tensor(0.0889)\n",
      "tensor(0.0851)\n",
      "tensor(0.0718)\n",
      "tensor(0.0852)\n",
      "tensor(0.0753)\n",
      "tensor(0.0784)\n",
      "tensor(0.0886)\n",
      "tensor(0.0822)\n",
      "tensor(0.0847)\n",
      "tensor(0.0842)\n",
      "tensor(0.0772)\n",
      "tensor(0.0849)\n",
      "tensor(0.0746)\n",
      "tensor(0.0777)\n",
      "tensor(0.0796)\n",
      "tensor(0.0743)\n",
      "tensor(0.0728)\n",
      "tensor(0.0808)\n",
      "tensor(0.0850)\n"
     ]
    },
    {
     "name": "stderr",
     "output_type": "stream",
     "text": [
      "1615it [00:18, 73.82it/s]"
     ]
    },
    {
     "name": "stdout",
     "output_type": "stream",
     "text": [
      "tensor(0.0843)\n",
      "tensor(0.0862)\n",
      "tensor(0.0833)\n",
      "tensor(0.0825)\n",
      "tensor(0.0761)\n",
      "tensor(0.0752)\n",
      "tensor(0.0754)\n",
      "tensor(0.0736)\n",
      "tensor(0.0875)\n",
      "tensor(0.0865)\n",
      "tensor(0.0784)\n",
      "tensor(0.0837)\n",
      "tensor(0.0806)\n",
      "tensor(0.0819)\n",
      "tensor(0.0795)\n",
      "tensor(0.0832)\n",
      "tensor(0.0825)\n",
      "tensor(0.0843)\n"
     ]
    },
    {
     "name": "stderr",
     "output_type": "stream",
     "text": [
      "1633it [00:18, 80.16it/s]"
     ]
    },
    {
     "name": "stdout",
     "output_type": "stream",
     "text": [
      "tensor(0.0733)\n",
      "tensor(0.0843)\n",
      "tensor(0.0821)\n",
      "tensor(0.0839)\n",
      "tensor(0.0790)\n",
      "tensor(0.0825)\n",
      "tensor(0.0907)\n",
      "tensor(0.0719)\n",
      "tensor(0.0852)\n",
      "tensor(0.0854)\n",
      "tensor(0.0848)\n",
      "tensor(0.0694)\n",
      "tensor(0.0837)\n",
      "tensor(0.0706)\n",
      "tensor(0.0808)\n",
      "tensor(0.0796)\n",
      "tensor(0.0725)\n",
      "tensor(0.0799)\n"
     ]
    },
    {
     "name": "stderr",
     "output_type": "stream",
     "text": [
      "1653it [00:18, 85.23it/s]"
     ]
    },
    {
     "name": "stdout",
     "output_type": "stream",
     "text": [
      "tensor(0.0818)\n",
      "tensor(0.0726)\n",
      "tensor(0.0791)\n",
      "tensor(0.0833)\n",
      "tensor(0.0795)\n",
      "tensor(0.0784)\n",
      "tensor(0.0768)\n",
      "tensor(0.0829)\n",
      "tensor(0.0850)\n",
      "tensor(0.0819)\n",
      "tensor(0.0774)\n",
      "tensor(0.0758)\n",
      "tensor(0.0787)\n",
      "tensor(0.0816)\n",
      "tensor(0.0830)\n",
      "tensor(0.0831)\n",
      "tensor(0.0763)\n",
      "tensor(0.0785)\n",
      "tensor(0.0773)\n"
     ]
    },
    {
     "name": "stderr",
     "output_type": "stream",
     "text": [
      "1673it [00:18, 88.02it/s]"
     ]
    },
    {
     "name": "stdout",
     "output_type": "stream",
     "text": [
      "tensor(0.0791)\n",
      "tensor(0.0898)\n",
      "tensor(0.0775)\n",
      "tensor(0.0807)\n",
      "tensor(0.0903)\n",
      "tensor(0.0712)\n",
      "tensor(0.0748)\n",
      "tensor(0.0770)\n",
      "tensor(0.0867)\n",
      "tensor(0.0882)\n",
      "tensor(0.0875)\n",
      "tensor(0.0834)\n",
      "tensor(0.0798)\n",
      "tensor(0.0843)\n",
      "tensor(0.0736)\n",
      "tensor(0.0778)\n",
      "tensor(0.0829)\n",
      "tensor(0.0747)\n",
      "tensor(0.0835)\n"
     ]
    },
    {
     "name": "stderr",
     "output_type": "stream",
     "text": [
      "1683it [00:18, 88.37it/s]"
     ]
    },
    {
     "name": "stdout",
     "output_type": "stream",
     "text": [
      "tensor(0.0848)\n",
      "tensor(0.0856)\n",
      "tensor(0.0789)\n",
      "tensor(0.0870)\n",
      "tensor(0.0794)\n",
      "tensor(0.0854)\n",
      "tensor(0.0751)\n",
      "tensor(0.0785)\n",
      "tensor(0.0810)\n",
      "tensor(0.0750)\n",
      "tensor(0.0824)\n",
      "tensor(0.0935)\n",
      "tensor(0.0846)\n",
      "tensor(0.0770)\n",
      "tensor(0.0802)\n",
      "tensor(0.0898)\n",
      "tensor(0.0831)\n",
      "tensor(0.0838)\n",
      "tensor(0.0897)\n"
     ]
    },
    {
     "name": "stderr",
     "output_type": "stream",
     "text": [
      "1702it [00:19, 88.39it/s]"
     ]
    },
    {
     "name": "stdout",
     "output_type": "stream",
     "text": [
      "tensor(0.0827)\n",
      "tensor(0.0925)\n",
      "tensor(0.0850)\n",
      "tensor(0.0764)\n",
      "tensor(0.0788)\n",
      "tensor(0.0829)\n",
      "tensor(0.0915)\n",
      "tensor(0.0818)\n",
      "tensor(0.0813)\n",
      "tensor(0.0859)\n",
      "tensor(0.0835)\n",
      "tensor(0.0833)\n",
      "tensor(0.0854)\n",
      "tensor(0.0802)\n",
      "tensor(0.0792)\n",
      "tensor(0.0796)\n",
      "tensor(0.0845)\n",
      "tensor(0.0784)\n"
     ]
    },
    {
     "name": "stderr",
     "output_type": "stream",
     "text": [
      "1722it [00:19, 89.85it/s]"
     ]
    },
    {
     "name": "stdout",
     "output_type": "stream",
     "text": [
      "tensor(0.0744)\n",
      "tensor(0.0847)\n",
      "tensor(0.0745)\n",
      "tensor(0.0783)\n",
      "tensor(0.0829)\n",
      "tensor(0.0778)\n",
      "tensor(0.0794)\n",
      "tensor(0.0796)\n",
      "tensor(0.0845)\n",
      "tensor(0.0769)\n",
      "tensor(0.0858)\n",
      "tensor(0.0718)\n",
      "tensor(0.0780)\n",
      "tensor(0.0805)\n",
      "tensor(0.0852)\n",
      "tensor(0.0839)\n",
      "tensor(0.0766)\n",
      "tensor(0.0757)\n",
      "tensor(0.0756)\n"
     ]
    },
    {
     "name": "stderr",
     "output_type": "stream",
     "text": [
      "1744it [00:19, 89.56it/s]"
     ]
    },
    {
     "name": "stdout",
     "output_type": "stream",
     "text": [
      "tensor(0.0841)\n",
      "tensor(0.0771)\n",
      "tensor(0.0876)\n",
      "tensor(0.0757)\n",
      "tensor(0.0806)\n",
      "tensor(0.0750)\n",
      "tensor(0.0849)\n",
      "tensor(0.0792)\n",
      "tensor(0.0825)\n",
      "tensor(0.0794)\n",
      "tensor(0.0800)\n",
      "tensor(0.0854)\n",
      "tensor(0.0866)\n",
      "tensor(0.0766)\n",
      "tensor(0.0752)\n"
     ]
    },
    {
     "name": "stderr",
     "output_type": "stream",
     "text": [
      "\n"
     ]
    },
    {
     "ename": "KeyboardInterrupt",
     "evalue": "",
     "output_type": "error",
     "traceback": [
      "\u001b[0;31m---------------------------------------------------------------------------\u001b[0m",
      "\u001b[0;31mKeyboardInterrupt\u001b[0m                         Traceback (most recent call last)",
      "Cell \u001b[0;32mIn[16], line 33\u001b[0m\n\u001b[1;32m     31\u001b[0m \u001b[39mfor\u001b[39;00m batch \u001b[39min\u001b[39;00m tqdm(iterator\u001b[39m.\u001b[39mtest):\n\u001b[1;32m     32\u001b[0m     model\u001b[39m.\u001b[39meval()\n\u001b[0;32m---> 33\u001b[0m     eval_loss \u001b[39m=\u001b[39m evaluate(batch, model)\n\u001b[1;32m     34\u001b[0m     eval_losses\u001b[39m.\u001b[39mappend(eval_loss)\n\u001b[1;32m     35\u001b[0m     \u001b[39mif\u001b[39;00m eval_loss \u001b[39m<\u001b[39m best_eval_loss:\n",
      "Cell \u001b[0;32mIn[16], line 3\u001b[0m, in \u001b[0;36mevaluate\u001b[0;34m(vinputs, tmodel)\u001b[0m\n\u001b[1;32m      1\u001b[0m \u001b[39mdef\u001b[39;00m \u001b[39mevaluate\u001b[39m(vinputs, tmodel):\n\u001b[1;32m      2\u001b[0m     \u001b[39mwith\u001b[39;00m torch\u001b[39m.\u001b[39mno_grad():\n\u001b[0;32m----> 3\u001b[0m         loss, comps, _ \u001b[39m=\u001b[39m tmodel(vinputs)\n\u001b[1;32m      4\u001b[0m         loss \u001b[39m=\u001b[39m loss\u001b[39m.\u001b[39mmean()\n\u001b[1;32m      5\u001b[0m         comps \u001b[39m=\u001b[39m {k: v\u001b[39m.\u001b[39mmean()\u001b[39m.\u001b[39mitem() \u001b[39mfor\u001b[39;00m k, v \u001b[39min\u001b[39;00m comps\u001b[39m.\u001b[39m_asdict()\u001b[39m.\u001b[39mitems()}\n",
      "File \u001b[0;32m/data/rsg/chemistry/johnyang/miniconda3/envs/cellot/lib/python3.9/site-packages/torch/nn/modules/module.py:1110\u001b[0m, in \u001b[0;36mModule._call_impl\u001b[0;34m(self, *input, **kwargs)\u001b[0m\n\u001b[1;32m   1106\u001b[0m \u001b[39m# If we don't have any hooks, we want to skip the rest of the logic in\u001b[39;00m\n\u001b[1;32m   1107\u001b[0m \u001b[39m# this function, and just call forward.\u001b[39;00m\n\u001b[1;32m   1108\u001b[0m \u001b[39mif\u001b[39;00m \u001b[39mnot\u001b[39;00m (\u001b[39mself\u001b[39m\u001b[39m.\u001b[39m_backward_hooks \u001b[39mor\u001b[39;00m \u001b[39mself\u001b[39m\u001b[39m.\u001b[39m_forward_hooks \u001b[39mor\u001b[39;00m \u001b[39mself\u001b[39m\u001b[39m.\u001b[39m_forward_pre_hooks \u001b[39mor\u001b[39;00m _global_backward_hooks\n\u001b[1;32m   1109\u001b[0m         \u001b[39mor\u001b[39;00m _global_forward_hooks \u001b[39mor\u001b[39;00m _global_forward_pre_hooks):\n\u001b[0;32m-> 1110\u001b[0m     \u001b[39mreturn\u001b[39;00m forward_call(\u001b[39m*\u001b[39;49m\u001b[39minput\u001b[39;49m, \u001b[39m*\u001b[39;49m\u001b[39m*\u001b[39;49mkwargs)\n\u001b[1;32m   1111\u001b[0m \u001b[39m# Do not call functions when jit is used\u001b[39;00m\n\u001b[1;32m   1112\u001b[0m full_backward_hooks, non_full_backward_hooks \u001b[39m=\u001b[39m [], []\n",
      "File \u001b[0;32m/Mounts/rbg-storage1/users/johnyang/cellot/cellot/models/ae.py:164\u001b[0m, in \u001b[0;36mAutoEncoder.forward\u001b[0;34m(self, inputs, **kwargs)\u001b[0m\n\u001b[1;32m    163\u001b[0m \u001b[39mdef\u001b[39;00m \u001b[39mforward\u001b[39m(\u001b[39mself\u001b[39m, inputs, \u001b[39m*\u001b[39m\u001b[39m*\u001b[39mkwargs):\n\u001b[0;32m--> 164\u001b[0m     outs \u001b[39m=\u001b[39m \u001b[39mself\u001b[39;49m\u001b[39m.\u001b[39;49moutputs(inputs, \u001b[39m*\u001b[39;49m\u001b[39m*\u001b[39;49mkwargs)\n\u001b[1;32m    165\u001b[0m     loss, comps \u001b[39m=\u001b[39m \u001b[39mself\u001b[39m\u001b[39m.\u001b[39mloss(inputs, outs)\n\u001b[1;32m    167\u001b[0m     \u001b[39mreturn\u001b[39;00m loss, comps, outs\n",
      "File \u001b[0;32m/Mounts/rbg-storage1/users/johnyang/cellot/cellot/models/ae.py:151\u001b[0m, in \u001b[0;36mAutoEncoder.outputs\u001b[0;34m(self, inputs, **kwargs)\u001b[0m\n\u001b[1;32m    150\u001b[0m \u001b[39mdef\u001b[39;00m \u001b[39moutputs\u001b[39m(\u001b[39mself\u001b[39m, inputs, \u001b[39m*\u001b[39m\u001b[39m*\u001b[39mkwargs):\n\u001b[0;32m--> 151\u001b[0m     code \u001b[39m=\u001b[39m \u001b[39mself\u001b[39;49m\u001b[39m.\u001b[39;49mencode(inputs, \u001b[39m*\u001b[39;49m\u001b[39m*\u001b[39;49mkwargs)\n\u001b[1;32m    152\u001b[0m     recon \u001b[39m=\u001b[39m \u001b[39mself\u001b[39m\u001b[39m.\u001b[39mdecode(code, \u001b[39m*\u001b[39m\u001b[39m*\u001b[39mkwargs)\n\u001b[1;32m    153\u001b[0m     outputs \u001b[39m=\u001b[39m \u001b[39mself\u001b[39m\u001b[39m.\u001b[39mOutputs(recon, code)\n",
      "File \u001b[0;32m/Mounts/rbg-storage1/users/johnyang/cellot/cellot/models/ae.py:145\u001b[0m, in \u001b[0;36mAutoEncoder.encode\u001b[0;34m(self, inputs, **kwargs)\u001b[0m\n\u001b[1;32m    144\u001b[0m \u001b[39mdef\u001b[39;00m \u001b[39mencode\u001b[39m(\u001b[39mself\u001b[39m, inputs, \u001b[39m*\u001b[39m\u001b[39m*\u001b[39mkwargs):\n\u001b[0;32m--> 145\u001b[0m     \u001b[39mreturn\u001b[39;00m \u001b[39mself\u001b[39;49m\u001b[39m.\u001b[39;49mencoder_net(inputs, \u001b[39m*\u001b[39;49m\u001b[39m*\u001b[39;49mkwargs)\n",
      "File \u001b[0;32m/data/rsg/chemistry/johnyang/miniconda3/envs/cellot/lib/python3.9/site-packages/torch/nn/modules/module.py:1110\u001b[0m, in \u001b[0;36mModule._call_impl\u001b[0;34m(self, *input, **kwargs)\u001b[0m\n\u001b[1;32m   1106\u001b[0m \u001b[39m# If we don't have any hooks, we want to skip the rest of the logic in\u001b[39;00m\n\u001b[1;32m   1107\u001b[0m \u001b[39m# this function, and just call forward.\u001b[39;00m\n\u001b[1;32m   1108\u001b[0m \u001b[39mif\u001b[39;00m \u001b[39mnot\u001b[39;00m (\u001b[39mself\u001b[39m\u001b[39m.\u001b[39m_backward_hooks \u001b[39mor\u001b[39;00m \u001b[39mself\u001b[39m\u001b[39m.\u001b[39m_forward_hooks \u001b[39mor\u001b[39;00m \u001b[39mself\u001b[39m\u001b[39m.\u001b[39m_forward_pre_hooks \u001b[39mor\u001b[39;00m _global_backward_hooks\n\u001b[1;32m   1109\u001b[0m         \u001b[39mor\u001b[39;00m _global_forward_hooks \u001b[39mor\u001b[39;00m _global_forward_pre_hooks):\n\u001b[0;32m-> 1110\u001b[0m     \u001b[39mreturn\u001b[39;00m forward_call(\u001b[39m*\u001b[39;49m\u001b[39minput\u001b[39;49m, \u001b[39m*\u001b[39;49m\u001b[39m*\u001b[39;49mkwargs)\n\u001b[1;32m   1111\u001b[0m \u001b[39m# Do not call functions when jit is used\u001b[39;00m\n\u001b[1;32m   1112\u001b[0m full_backward_hooks, non_full_backward_hooks \u001b[39m=\u001b[39m [], []\n",
      "File \u001b[0;32m/data/rsg/chemistry/johnyang/miniconda3/envs/cellot/lib/python3.9/site-packages/torch/nn/modules/container.py:141\u001b[0m, in \u001b[0;36mSequential.forward\u001b[0;34m(self, input)\u001b[0m\n\u001b[1;32m    139\u001b[0m \u001b[39mdef\u001b[39;00m \u001b[39mforward\u001b[39m(\u001b[39mself\u001b[39m, \u001b[39minput\u001b[39m):\n\u001b[1;32m    140\u001b[0m     \u001b[39mfor\u001b[39;00m module \u001b[39min\u001b[39;00m \u001b[39mself\u001b[39m:\n\u001b[0;32m--> 141\u001b[0m         \u001b[39minput\u001b[39m \u001b[39m=\u001b[39m module(\u001b[39minput\u001b[39;49m)\n\u001b[1;32m    142\u001b[0m     \u001b[39mreturn\u001b[39;00m \u001b[39minput\u001b[39m\n",
      "File \u001b[0;32m/data/rsg/chemistry/johnyang/miniconda3/envs/cellot/lib/python3.9/site-packages/torch/nn/modules/module.py:1110\u001b[0m, in \u001b[0;36mModule._call_impl\u001b[0;34m(self, *input, **kwargs)\u001b[0m\n\u001b[1;32m   1106\u001b[0m \u001b[39m# If we don't have any hooks, we want to skip the rest of the logic in\u001b[39;00m\n\u001b[1;32m   1107\u001b[0m \u001b[39m# this function, and just call forward.\u001b[39;00m\n\u001b[1;32m   1108\u001b[0m \u001b[39mif\u001b[39;00m \u001b[39mnot\u001b[39;00m (\u001b[39mself\u001b[39m\u001b[39m.\u001b[39m_backward_hooks \u001b[39mor\u001b[39;00m \u001b[39mself\u001b[39m\u001b[39m.\u001b[39m_forward_hooks \u001b[39mor\u001b[39;00m \u001b[39mself\u001b[39m\u001b[39m.\u001b[39m_forward_pre_hooks \u001b[39mor\u001b[39;00m _global_backward_hooks\n\u001b[1;32m   1109\u001b[0m         \u001b[39mor\u001b[39;00m _global_forward_hooks \u001b[39mor\u001b[39;00m _global_forward_pre_hooks):\n\u001b[0;32m-> 1110\u001b[0m     \u001b[39mreturn\u001b[39;00m forward_call(\u001b[39m*\u001b[39;49m\u001b[39minput\u001b[39;49m, \u001b[39m*\u001b[39;49m\u001b[39m*\u001b[39;49mkwargs)\n\u001b[1;32m   1111\u001b[0m \u001b[39m# Do not call functions when jit is used\u001b[39;00m\n\u001b[1;32m   1112\u001b[0m full_backward_hooks, non_full_backward_hooks \u001b[39m=\u001b[39m [], []\n",
      "File \u001b[0;32m/data/rsg/chemistry/johnyang/miniconda3/envs/cellot/lib/python3.9/site-packages/torch/nn/modules/linear.py:103\u001b[0m, in \u001b[0;36mLinear.forward\u001b[0;34m(self, input)\u001b[0m\n\u001b[1;32m    102\u001b[0m \u001b[39mdef\u001b[39;00m \u001b[39mforward\u001b[39m(\u001b[39mself\u001b[39m, \u001b[39minput\u001b[39m: Tensor) \u001b[39m-\u001b[39m\u001b[39m>\u001b[39m Tensor:\n\u001b[0;32m--> 103\u001b[0m     \u001b[39mreturn\u001b[39;00m F\u001b[39m.\u001b[39;49mlinear(\u001b[39minput\u001b[39;49m, \u001b[39mself\u001b[39;49m\u001b[39m.\u001b[39;49mweight, \u001b[39mself\u001b[39;49m\u001b[39m.\u001b[39;49mbias)\n",
      "\u001b[0;31mKeyboardInterrupt\u001b[0m: "
     ]
    }
   ],
   "source": [
    "def evaluate(vinputs, tmodel):\n",
    "    with torch.no_grad():\n",
    "        loss, comps, _ = tmodel(vinputs)\n",
    "        loss = loss.mean()\n",
    "        comps = {k: v.mean().item() for k, v in comps._asdict().items()}\n",
    "        check_loss(loss)\n",
    "        logger.log(\"eval\", loss=loss.item(), step=step, **comps)\n",
    "    return loss\n",
    "\n",
    "logger = Logger(outdir / \"cache/scalars\")\n",
    "cachedir = outdir / \"cache\"\n",
    "model, optim, loader = load(config, restore=cachedir / \"last.pt\")\n",
    "\n",
    "iterator = cast_loader_to_iterator(loader, cycle_all=True)\n",
    "scheduler = load_lr_scheduler(optim, config)\n",
    "\n",
    "n_iters = config.training.n_iters\n",
    "step = load_item_from_save(cachedir / \"last.pt\", \"step\", 0)\n",
    "if scheduler is not None and step > 0:\n",
    "    scheduler.last_epoch = step\n",
    "\n",
    "best_eval_loss = load_item_from_save(\n",
    "    cachedir / \"model.pt\", \"best_eval_loss\", np.inf\n",
    ")\n",
    "\n",
    "eval_loss = best_eval_loss\n",
    "\n",
    "# ticker = trange(step, n_iters, initial=step, total=n_iters)\n",
    "eval_losses = []\n",
    "\n",
    "for batch in tqdm(iterator.test):\n",
    "    model.eval()\n",
    "    eval_loss = evaluate(batch, model)\n",
    "    eval_losses.append(eval_loss)\n",
    "    if eval_loss < best_eval_loss:\n",
    "        best_eval_loss = eval_loss\n",
    "        \n",
    "    print(eval_loss)\n",
    "        # sd = state_dict(model, optim, step=(step + 1), eval_loss=eval_loss)\n",
    "        # torch.save(sd, cachedir / \"model.pt\")"
   ]
  },
  {
   "cell_type": "code",
   "execution_count": null,
   "metadata": {},
   "outputs": [],
   "source": []
  }
 ],
 "metadata": {
  "kernelspec": {
   "display_name": "cellot",
   "language": "python",
   "name": "python3"
  },
  "language_info": {
   "codemirror_mode": {
    "name": "ipython",
    "version": 3
   },
   "file_extension": ".py",
   "mimetype": "text/x-python",
   "name": "python",
   "nbconvert_exporter": "python",
   "pygments_lexer": "ipython3",
   "version": "3.9.5"
  },
  "orig_nbformat": 4
 },
 "nbformat": 4,
 "nbformat_minor": 2
}
